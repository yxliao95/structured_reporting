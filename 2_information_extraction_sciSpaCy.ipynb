{
 "cells": [
  {
   "cell_type": "code",
   "execution_count": 1,
   "metadata": {},
   "outputs": [
    {
     "data": {
      "text/plain": [
       "'/home/yuxiangliao/PhD'"
      ]
     },
     "execution_count": 1,
     "metadata": {},
     "output_type": "execute_result"
    }
   ],
   "source": [
    "import os\n",
    "os.path.abspath(\"./\")"
   ]
  },
  {
   "cell_type": "markdown",
   "metadata": {},
   "source": [
    "# Spacy supported functions"
   ]
  },
  {
   "cell_type": "markdown",
   "metadata": {},
   "source": [
    "## Part-os-speech tags"
   ]
  },
  {
   "cell_type": "code",
   "execution_count": 2,
   "metadata": {},
   "outputs": [
    {
     "name": "stdout",
     "output_type": "stream",
     "text": [
      "There PRON\n",
      "is AUX\n",
      "no DET\n",
      "focal ADJ\n",
      "consolidation NOUN\n",
      ", PUNCT\n",
      "pleural ADJ\n",
      "effusion NOUN\n",
      "or CCONJ\n",
      "pneumothorax NOUN\n",
      ". PUNCT\n",
      "  SPACE\n",
      "Bilateral ADJ\n",
      "nodular ADJ\n",
      "opacities NOUN\n",
      "that SCONJ\n",
      "most ADV\n",
      "likely ADV\n",
      "represent VERB\n",
      "nipple NOUN\n",
      "shadows NOUN\n",
      ". PUNCT\n",
      "The DET\n",
      "cardiomediastinal ADJ\n",
      "silhouette NOUN\n",
      "is AUX\n",
      "normal ADJ\n",
      ". PUNCT\n",
      "  SPACE\n",
      "Clips PROPN\n",
      "project NOUN\n",
      "over ADP\n",
      "the DET\n",
      "left ADJ\n",
      "lung NOUN\n",
      ", PUNCT\n",
      "potentially ADV\n",
      "within ADP\n",
      "the DET\n",
      "breast NOUN\n",
      ". PUNCT\n",
      "The DET\n",
      "imaged VERB\n",
      "upper ADJ\n",
      "abdomen NOUN\n",
      "is AUX\n",
      "unremarkable ADJ\n",
      ". PUNCT\n",
      "Chronic ADJ\n",
      "deformity NOUN\n",
      "of ADP\n",
      "the DET\n",
      "posterior ADJ\n",
      "left ADJ\n",
      "sixth ADJ\n",
      "and CCONJ\n",
      "seventh ADJ\n",
      "ribs NOUN\n",
      "are AUX\n",
      "noted VERB\n",
      ". PUNCT\n"
     ]
    }
   ],
   "source": [
    "import spacy\n",
    "nlp = spacy.load(\"en_core_sci_sm\")\n",
    "doc = nlp(\"There is no focal consolidation, pleural effusion or pneumothorax.  Bilateral nodular opacities that most likely represent nipple shadows. The cardiomediastinal silhouette is normal.  Clips project over the left lung, potentially within the breast. The imaged upper abdomen is unremarkable. Chronic deformity of the posterior left sixth and seventh ribs are noted.\")\n",
    "for token in doc:\n",
    "    # Print the text and the predicted part-of-speech tag\n",
    "    print(token.text, token.pos_)"
   ]
  },
  {
   "cell_type": "markdown",
   "metadata": {},
   "source": [
    "## Syntactic dependencies"
   ]
  },
  {
   "cell_type": "code",
   "execution_count": 3,
   "metadata": {},
   "outputs": [
    {
     "name": "stdout",
     "output_type": "stream",
     "text": [
      "There PRON expl is\n",
      "is AUX ROOT is\n",
      "no DET det consolidation\n",
      "focal ADJ amod consolidation\n",
      "consolidation NOUN attr is\n",
      ", PUNCT punct consolidation\n",
      "pleural ADJ amod effusion\n",
      "effusion NOUN conj consolidation\n",
      "or CCONJ cc effusion\n",
      "pneumothorax NOUN conj effusion\n",
      ". PUNCT punct is\n",
      "  SPACE nummod opacities\n",
      "Bilateral ADJ amod opacities\n",
      "nodular ADJ dep Bilateral\n",
      "opacities NOUN ROOT opacities\n",
      "that SCONJ mark represent\n",
      "most ADV advmod likely\n",
      "likely ADV advmod represent\n",
      "represent VERB acl:relcl opacities\n",
      "nipple NOUN compound shadows\n",
      "shadows NOUN dobj represent\n",
      ". PUNCT punct opacities\n",
      "The DET det silhouette\n",
      "cardiomediastinal ADJ amod silhouette\n",
      "silhouette NOUN nsubj normal\n",
      "is AUX cop normal\n",
      "normal ADJ ROOT normal\n",
      ". PUNCT punct normal\n",
      "  SPACE compound Clips\n",
      "Clips PROPN compound project\n",
      "project NOUN ROOT project\n",
      "over ADP case lung\n",
      "the DET det lung\n",
      "left ADJ amod lung\n",
      "lung NOUN nmod project\n",
      ", PUNCT punct project\n",
      "potentially ADV advmod breast\n",
      "within ADP case breast\n",
      "the DET det breast\n",
      "breast NOUN nmod project\n",
      ". PUNCT punct project\n",
      "The DET det abdomen\n",
      "imaged VERB amod abdomen\n",
      "upper ADJ amod abdomen\n",
      "abdomen NOUN nsubj unremarkable\n",
      "is AUX cop unremarkable\n",
      "unremarkable ADJ ROOT unremarkable\n",
      ". PUNCT punct unremarkable\n",
      "Chronic ADJ amod deformity\n",
      "deformity NOUN nsubjpass noted\n",
      "of ADP case ribs\n",
      "the DET det ribs\n",
      "posterior ADJ amod sixth\n",
      "left ADJ amod sixth\n",
      "sixth ADJ amod ribs\n",
      "and CCONJ cc sixth\n",
      "seventh ADJ conj sixth\n",
      "ribs NOUN nmod deformity\n",
      "are AUX auxpass noted\n",
      "noted VERB ROOT noted\n",
      ". PUNCT punct noted\n"
     ]
    }
   ],
   "source": [
    "import spacy\n",
    "nlp = spacy.load(\"en_core_sci_sm\")\n",
    "doc = nlp(\"There is no focal consolidation, pleural effusion or pneumothorax.  Bilateral nodular opacities that most likely represent nipple shadows. The cardiomediastinal silhouette is normal.  Clips project over the left lung, potentially within the breast. The imaged upper abdomen is unremarkable. Chronic deformity of the posterior left sixth and seventh ribs are noted.\")\n",
    "for token in doc:\n",
    "    print(token.text, token.pos_, token.dep_, token.head.text)"
   ]
  },
  {
   "cell_type": "markdown",
   "metadata": {},
   "source": [
    "## Named entities"
   ]
  },
  {
   "cell_type": "code",
   "execution_count": 4,
   "metadata": {},
   "outputs": [
    {
     "name": "stdout",
     "output_type": "stream",
     "text": [
      "focal consolidation ENTITY\n",
      "pleural effusion ENTITY\n",
      "pneumothorax ENTITY\n",
      "Bilateral ENTITY\n",
      "nodular opacities ENTITY\n",
      "nipple shadows ENTITY\n",
      "cardiomediastinal silhouette ENTITY\n",
      "Clips project ENTITY\n",
      "left lung ENTITY\n",
      "breast ENTITY\n",
      "imaged ENTITY\n",
      "upper ENTITY\n",
      "abdomen ENTITY\n",
      "Chronic deformity ENTITY\n",
      "posterior left sixth ENTITY\n",
      "ribs ENTITY\n"
     ]
    }
   ],
   "source": [
    "import spacy\n",
    "nlp = spacy.load(\"en_core_sci_sm\")\n",
    "doc = nlp(\"There is no focal consolidation, pleural effusion or pneumothorax.  Bilateral nodular opacities that most likely represent nipple shadows. The cardiomediastinal silhouette is normal.  Clips project over the left lung, potentially within the breast. The imaged upper abdomen is unremarkable. Chronic deformity of the posterior left sixth and seventh ribs are noted.\")\n",
    "for ent in doc.ents:\n",
    "    # Print the entity text and its label\n",
    "    print(ent.text, ent.label_)"
   ]
  },
  {
   "cell_type": "code",
   "execution_count": 5,
   "metadata": {},
   "outputs": [
    {
     "name": "stdout",
     "output_type": "stream",
     "text": [
      "pleural effusion ENTITY\n",
      "pneumothorax ENTITY\n",
      "Bilateral ENTITY\n",
      "nodular ENTITY\n",
      "nipple shadows ENTITY\n",
      "cardiomediastinal silhouette ENTITY\n",
      "Clips project ENTITY\n",
      "left lung ENTITY\n",
      "breast ENTITY\n",
      "imaged ENTITY\n",
      "upper abdomen ENTITY\n",
      "Chronic deformity ENTITY\n",
      "posterior left sixth ENTITY\n",
      "ribs ENTITY\n"
     ]
    },
    {
     "name": "stderr",
     "output_type": "stream",
     "text": [
      "/home/yuxiangliao/anaconda3/lib/python3.9/site-packages/torch/autocast_mode.py:162: UserWarning: User provided device_type of 'cuda', but CUDA is not available. Disabling\n",
      "  warnings.warn('User provided device_type of \\'cuda\\', but CUDA is not available. Disabling')\n"
     ]
    }
   ],
   "source": [
    "import scispacy\n",
    "import spacy\n",
    "nlp = spacy.load(\"en_core_sci_scibert\")\n",
    "doc = nlp(\"There is no focal consolidation, pleural effusion or pneumothorax.  Bilateral nodular opacities that most likely represent nipple shadows. The cardiomediastinal silhouette is normal.  Clips project over the left lung, potentially within the breast. The imaged upper abdomen is unremarkable. Chronic deformity of the posterior left sixth and seventh ribs are noted.\")\n",
    "for ent in doc.ents:\n",
    "    # Print the entity text and its label\n",
    "    print(ent.text, ent.label_)"
   ]
  },
  {
   "cell_type": "code",
   "execution_count": 3,
   "metadata": {},
   "outputs": [
    {
     "name": "stdout",
     "output_type": "stream",
     "text": [
      "focal consolidation ENTITY\n",
      "pleural effusion ENTITY\n",
      "pneumothorax ENTITY\n",
      "Bilateral ENTITY\n",
      "nodular opacities ENTITY\n",
      "nipple shadows ENTITY\n",
      "cardiomediastinal silhouette ENTITY\n",
      "left lung ENTITY\n",
      "breast ENTITY\n",
      "imaged ENTITY\n",
      "upper abdomen ENTITY\n",
      "Chronic deformity ENTITY\n",
      "posterior left sixth ENTITY\n",
      "ribs ENTITY\n"
     ]
    }
   ],
   "source": [
    "import scispacy\n",
    "import spacy\n",
    "nlp = spacy.load(\"en_core_sci_lg\")\n",
    "doc = nlp(\"There is no focal consolidation, pleural effusion or pneumothorax.  Bilateral nodular opacities that most likely represent nipple shadows. The cardiomediastinal silhouette is normal.  Clips project over the left lung, potentially within the breast. The imaged upper abdomen is unremarkable. Chronic deformity of the posterior left sixth and seventh ribs are noted.\")\n",
    "for ent in doc.ents:\n",
    "    # Print the entity text and its label\n",
    "    print(ent.text, ent.label_)"
   ]
  },
  {
   "cell_type": "markdown",
   "metadata": {},
   "source": [
    "## Pipeline"
   ]
  },
  {
   "cell_type": "code",
   "execution_count": null,
   "metadata": {},
   "outputs": [],
   "source": [
    "import scispacy\n",
    "import spacy\n",
    "nlp = spacy.load(\"en_core_sci_lg\")\n",
    "# 关闭词性标注器tagger和依存关系标注器parser\n",
    "with nlp.select_pipes(disable=[\"tagger\", \"parser\"]):\n",
    "    print(nlp.pipeline)\n",
    "print(nlp.pipeline)"
   ]
  },
  {
   "cell_type": "markdown",
   "metadata": {},
   "source": [
    "# NeuralCoref\n",
    "\n",
    "https://github.com/explosion/coreferee"
   ]
  },
  {
   "cell_type": "code",
   "execution_count": null,
   "metadata": {},
   "outputs": [],
   "source": [
    "# !python3 -m pip install coreferee\n",
    "# !python3 -m coreferee install en\n",
    "# !python -m spacy download en_core_web_lg"
   ]
  },
  {
   "cell_type": "code",
   "execution_count": 53,
   "metadata": {},
   "outputs": [],
   "source": [
    "text = \"\"\"Lung volumes are low.  This results in crowding of the bronchovascular structures.  There may be mild pulmonary vascular congestion.  The heart size is borderline enlarged.  The mediastinal and hilar contours are relatively unremarkable.  Innumerable nodules are demonstrated in both lungs, more pronounced in the left upper and lower lung fields compatible with metastatic disease.  No new focal consolidation, pleural effusion or pneumothorax is seen, with chronic elevation of right hemidiaphragm again seen.  The patient is status post right lower lobectomy.  Rib deformities within the right hemithorax is compatible with prior postsurgical changes.\n",
    "\"\"\""
   ]
  },
  {
   "cell_type": "code",
   "execution_count": 54,
   "metadata": {},
   "outputs": [
    {
     "name": "stdout",
     "output_type": "stream",
     "text": [
      "\n"
     ]
    }
   ],
   "source": [
    "import coreferee, spacy\n",
    "\n",
    "nlp = spacy.load('en_core_web_sm')\n",
    "nlp.add_pipe('coreferee')\n",
    "doc = nlp(text)\n",
    "doc._.coref_chains.print()"
   ]
  }
 ],
 "metadata": {
  "kernelspec": {
   "display_name": "Python 3 (ipykernel)",
   "language": "python",
   "name": "python3"
  },
  "language_info": {
   "codemirror_mode": {
    "name": "ipython",
    "version": 3
   },
   "file_extension": ".py",
   "mimetype": "text/x-python",
   "name": "python",
   "nbconvert_exporter": "python",
   "pygments_lexer": "ipython3",
   "version": "3.9.7"
  },
  "orig_nbformat": 4,
  "vscode": {
   "interpreter": {
    "hash": "bbe186fad143582492f874971b555a6a67ca040c11267037e80d88fc47d0fa6d"
   }
  }
 },
 "nbformat": 4,
 "nbformat_minor": 2
}
