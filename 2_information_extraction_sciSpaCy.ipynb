{
 "cells": [
  {
   "cell_type": "code",
   "execution_count": null,
   "metadata": {},
   "outputs": [],
   "source": [
    "import os\n",
    "os.path.abspath(\"./\")"
   ]
  },
  {
   "cell_type": "markdown",
   "metadata": {},
   "source": [
    "# Spacy supported functions"
   ]
  },
  {
   "cell_type": "markdown",
   "metadata": {},
   "source": [
    "## Part-os-speech tags"
   ]
  },
  {
   "cell_type": "code",
   "execution_count": null,
   "metadata": {},
   "outputs": [],
   "source": [
    "import spacy\n",
    "nlp = spacy.load(\"en_core_sci_sm\")\n",
    "doc = nlp(\"There is no focal consolidation, pleural effusion or pneumothorax.  Bilateral nodular opacities that most likely represent nipple shadows. The cardiomediastinal silhouette is normal.  Clips project over the left lung, potentially within the breast. The imaged upper abdomen is unremarkable. Chronic deformity of the posterior left sixth and seventh ribs are noted.\")\n",
    "for token in doc:\n",
    "    # Print the text and the predicted part-of-speech tag\n",
    "    print(token.text, token.pos_)"
   ]
  },
  {
   "cell_type": "markdown",
   "metadata": {},
   "source": [
    "## Syntactic dependencies"
   ]
  },
  {
   "cell_type": "code",
   "execution_count": null,
   "metadata": {},
   "outputs": [],
   "source": [
    "import spacy\n",
    "nlp = spacy.load(\"en_core_sci_sm\")\n",
    "doc = nlp(\"There is no focal consolidation, pleural effusion or pneumothorax.  Bilateral nodular opacities that most likely represent nipple shadows. The cardiomediastinal silhouette is normal.  Clips project over the left lung, potentially within the breast. The imaged upper abdomen is unremarkable. Chronic deformity of the posterior left sixth and seventh ribs are noted.\")\n",
    "for token in doc:\n",
    "    print(token.text, token.pos_, token.dep_, token.head.text)"
   ]
  },
  {
   "cell_type": "markdown",
   "metadata": {},
   "source": [
    "## Named entities"
   ]
  },
  {
   "cell_type": "code",
   "execution_count": 2,
   "metadata": {},
   "outputs": [
    {
     "name": "stdout",
     "output_type": "stream",
     "text": [
      "focal consolidation ENTITY\n",
      "pleural effusion ENTITY\n",
      "pneumothorax ENTITY\n",
      "Bilateral ENTITY\n",
      "nodular opacities ENTITY\n",
      "nipple shadows ENTITY\n",
      "cardiomediastinal silhouette ENTITY\n",
      "Clips project ENTITY\n",
      "left lung ENTITY\n",
      "breast ENTITY\n",
      "imaged ENTITY\n",
      "upper ENTITY\n",
      "abdomen ENTITY\n",
      "Chronic deformity ENTITY\n",
      "posterior left sixth ENTITY\n",
      "ribs ENTITY\n"
     ]
    }
   ],
   "source": [
    "import spacy\n",
    "nlp = spacy.load(\"en_core_sci_sm\")\n",
    "doc = nlp(\"There is no focal consolidation, pleural effusion or pneumothorax.  Bilateral nodular opacities that most likely represent nipple shadows. The cardiomediastinal silhouette is normal.  Clips project over the left lung, potentially within the breast. The imaged upper abdomen is unremarkable. Chronic deformity of the posterior left sixth and seventh ribs are noted.\")\n",
    "for ent in doc.ents:\n",
    "    # Print the entity text and its label\n",
    "    print(ent.text, ent.label_)"
   ]
  },
  {
   "cell_type": "code",
   "execution_count": 1,
   "metadata": {},
   "outputs": [
    {
     "name": "stdout",
     "output_type": "stream",
     "text": [
      "pleural effusion ENTITY\n",
      "pneumothorax ENTITY\n",
      "Bilateral ENTITY\n",
      "nodular ENTITY\n",
      "nipple shadows ENTITY\n",
      "cardiomediastinal silhouette ENTITY\n",
      "Clips project ENTITY\n",
      "left lung ENTITY\n",
      "breast ENTITY\n",
      "imaged ENTITY\n",
      "upper abdomen ENTITY\n",
      "Chronic deformity ENTITY\n",
      "posterior left sixth ENTITY\n",
      "ribs ENTITY\n"
     ]
    },
    {
     "name": "stderr",
     "output_type": "stream",
     "text": [
      "/home/yuxiangliao/anaconda3/lib/python3.9/site-packages/torch/autocast_mode.py:162: UserWarning: User provided device_type of 'cuda', but CUDA is not available. Disabling\n",
      "  warnings.warn('User provided device_type of \\'cuda\\', but CUDA is not available. Disabling')\n"
     ]
    }
   ],
   "source": [
    "import scispacy\n",
    "import spacy\n",
    "nlp = spacy.load(\"en_core_sci_scibert\")\n",
    "doc = nlp(\"There is no focal consolidation, pleural effusion or pneumothorax.  Bilateral nodular opacities that most likely represent nipple shadows. The cardiomediastinal silhouette is normal.  Clips project over the left lung, potentially within the breast. The imaged upper abdomen is unremarkable. Chronic deformity of the posterior left sixth and seventh ribs are noted.\")\n",
    "for ent in doc.ents:\n",
    "    # Print the entity text and its label\n",
    "    print(ent.text, ent.label_)"
   ]
  },
  {
   "cell_type": "code",
   "execution_count": 3,
   "metadata": {},
   "outputs": [
    {
     "name": "stdout",
     "output_type": "stream",
     "text": [
      "focal consolidation ENTITY\n",
      "pleural effusion ENTITY\n",
      "pneumothorax ENTITY\n",
      "Bilateral ENTITY\n",
      "nodular opacities ENTITY\n",
      "nipple shadows ENTITY\n",
      "cardiomediastinal silhouette ENTITY\n",
      "left lung ENTITY\n",
      "breast ENTITY\n",
      "imaged ENTITY\n",
      "upper abdomen ENTITY\n",
      "Chronic deformity ENTITY\n",
      "posterior left sixth ENTITY\n",
      "ribs ENTITY\n"
     ]
    }
   ],
   "source": [
    "import scispacy\n",
    "import spacy\n",
    "nlp = spacy.load(\"en_core_sci_lg\")\n",
    "doc = nlp(\"There is no focal consolidation, pleural effusion or pneumothorax.  Bilateral nodular opacities that most likely represent nipple shadows. The cardiomediastinal silhouette is normal.  Clips project over the left lung, potentially within the breast. The imaged upper abdomen is unremarkable. Chronic deformity of the posterior left sixth and seventh ribs are noted.\")\n",
    "for ent in doc.ents:\n",
    "    # Print the entity text and its label\n",
    "    print(ent.text, ent.label_)"
   ]
  },
  {
   "cell_type": "markdown",
   "metadata": {},
   "source": [
    "## Pipeline"
   ]
  },
  {
   "cell_type": "code",
   "execution_count": 4,
   "metadata": {},
   "outputs": [
    {
     "name": "stdout",
     "output_type": "stream",
     "text": [
      "[('tok2vec', <spacy.pipeline.tok2vec.Tok2Vec object at 0x7fd76c817b20>), ('attribute_ruler', <spacy.pipeline.attributeruler.AttributeRuler object at 0x7fd76c6c4840>), ('lemmatizer', <spacy.lang.en.lemmatizer.EnglishLemmatizer object at 0x7fd76c64ffc0>), ('ner', <spacy.pipeline.ner.EntityRecognizer object at 0x7fd76c6750b0>)]\n",
      "[('tok2vec', <spacy.pipeline.tok2vec.Tok2Vec object at 0x7fd76c817b20>), ('tagger', <spacy.pipeline.tagger.Tagger object at 0x7fd76c817b80>), ('attribute_ruler', <spacy.pipeline.attributeruler.AttributeRuler object at 0x7fd76c6c4840>), ('lemmatizer', <spacy.lang.en.lemmatizer.EnglishLemmatizer object at 0x7fd76c64ffc0>), ('parser', <spacy.pipeline.dep_parser.DependencyParser object at 0x7fd76cf2af90>), ('ner', <spacy.pipeline.ner.EntityRecognizer object at 0x7fd76c6750b0>)]\n"
     ]
    }
   ],
   "source": [
    "import scispacy\n",
    "import spacy\n",
    "nlp = spacy.load(\"en_core_sci_lg\")\n",
    "# 关闭词性标注器tagger和依存关系标注器parser\n",
    "with nlp.select_pipes(disable=[\"tagger\", \"parser\"]):\n",
    "    print(nlp.pipeline)\n",
    "print(nlp.pipeline)"
   ]
  }
 ],
 "metadata": {
  "kernelspec": {
   "display_name": "Python 3 (ipykernel)",
   "language": "python",
   "name": "python3"
  },
  "orig_nbformat": 4,
  "vscode": {
   "interpreter": {
    "hash": "bbe186fad143582492f874971b555a6a67ca040c11267037e80d88fc47d0fa6d"
   }
  }
 },
 "nbformat": 4,
 "nbformat_minor": 2
}
