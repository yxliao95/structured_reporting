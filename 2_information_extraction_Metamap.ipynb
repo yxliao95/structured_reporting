{
 "cells": [
  {
   "cell_type": "code",
   "execution_count": 459,
   "metadata": {},
   "outputs": [
    {
     "data": {
      "text/plain": [
       "'/home/yuxiangliao/PhD'"
      ]
     },
     "execution_count": 459,
     "metadata": {},
     "output_type": "execute_result"
    }
   ],
   "source": [
    "import os\n",
    "os.path.abspath(\"\")"
   ]
  },
  {
   "cell_type": "code",
   "execution_count": 460,
   "metadata": {},
   "outputs": [
    {
     "data": {
      "text/plain": [
       "33"
      ]
     },
     "execution_count": 460,
     "metadata": {},
     "output_type": "execute_result"
    }
   ],
   "source": [
    "import os, sys\n",
    "from loguru import logger\n",
    "\n",
    "LOG_ROOT = os.path.abspath(\"./\")\n",
    "LOG_FILE = LOG_ROOT + \"/logs/metamap_processing.log\"\n",
    "\n",
    "# Remove all handlers and reset stderr\n",
    "logger.remove(handler_id=None)\n",
    "logger.add(\n",
    "    LOG_FILE,\n",
    "    level=\"TRACE\",\n",
    "    mode=\"w\",\n",
    "    backtrace=False,\n",
    "    diagnose=True,\n",
    "    colorize=False,\n",
    "    format=\"{time:YYYY-MM-DD HH:mm:ss} | {level} | {message}\",\n",
    ")\n",
    "logger.info(\"\\r\\n\" + \">\" * 29 + \"\\r\\n\" + \">>> New execution started >>>\" + \"\\r\\n\" + \">\" * 29)\n",
    "# To filter log level: TRACE=5, DEBUG=10, INFO=20, SUCCESS=25, WARNING=30, ERROR=40, CRITICAL=50\n",
    "logger.add(sys.stdout, level=\"INFO\", filter=lambda record: record[\"level\"].no < 40, colorize=True)\n",
    "logger.add(sys.stderr, level=\"ERROR\", backtrace=False, diagnose=True, colorize=True)"
   ]
  },
  {
   "cell_type": "markdown",
   "metadata": {},
   "source": [
    "# Install Metamap\n",
    "\n",
    "Follow the following instructions:\n",
    "- Install Metamap2020: https://lhncbc.nlm.nih.gov/ii/tools/MetaMap/documentation/Installation.html \n",
    "- Install additional datasets (2022 Specialist Lexicon, 2022AA UMLS NLM Datasets): https://lhncbc.nlm.nih.gov/ii/tools/MetaMap/additional-tools/DataSetDownload.html"
   ]
  },
  {
   "cell_type": "markdown",
   "metadata": {},
   "source": [
    "# Processing"
   ]
  },
  {
   "cell_type": "markdown",
   "metadata": {},
   "source": [
    "## Check if the servers started\n",
    "- taggerServer\n",
    "- DisambiguatorServer"
   ]
  },
  {
   "cell_type": "code",
   "execution_count": 461,
   "metadata": {},
   "outputs": [
    {
     "name": "stdout",
     "output_type": "stream",
     "text": [
      "yuxiang+    3102    1334  0 Jul04 ?        00:01:44 java -Dtaggerserver.port=1795 -DlexFile=/home/yuxiangliao/PhD/UMLS/Metamap/public_mm/MedPost-SKR/data/lexDB.serial -DngramOne=/home/yuxiangliao/PhD/UMLS/Metamap/public_mm/MedPost-SKR/data/ngramOne.serial -cp /home/yuxiangliao/PhD/UMLS/Metamap/public_mm/MedPost-SKR/Tagger_server/lib/taggerServer.jar:/home/yuxiangliao/PhD/UMLS/Metamap/public_mm/MedPost-SKR/Tagger_server/lib/mps.jar taggerServer\n",
      "yuxiang+    3136    1334  0 Jul04 ?        00:02:19 java -Xmx2g -Dserver.config.file=/home/yuxiangliao/PhD/UMLS/Metamap/public_mm/WSD_Server/config/disambServer.cfg -classpath /home/yuxiangliao/PhD/UMLS/Metamap/public_mm/WSD_Server/lib/metamapwsd.jar:/home/yuxiangliao/PhD/UMLS/Metamap/public_mm/WSD_Server/lib/utils.jar:/home/yuxiangliao/PhD/UMLS/Metamap/public_mm/WSD_Server/lib/lucene-core-3.0.1.jar:/home/yuxiangliao/PhD/UMLS/Metamap/public_mm/WSD_Server/lib/monq-1.1.1.jar:/home/yuxiangliao/PhD/UMLS/Metamap/public_mm/WSD_Server/lib/wsd.jar:/home/yuxiangliao/PhD/UMLS/Metamap/public_mm/WSD_Server/lib/kss-api.jar:/home/yuxiangliao/PhD/UMLS/Metamap/public_mm/WSD_Server/lib/thirdparty.jar:/home/yuxiangliao/PhD/UMLS/Metamap/public_mm/WSD_Server/lib/db.jar:/home/yuxiangliao/PhD/UMLS/Metamap/public_mm/WSD_Server/lib/log4j-1.2.8.jar wsd.server.DisambiguatorServer\n",
      "yuxiang+    8724    2589  0 21:44 ?        00:00:00 /bin/sh -c ps -ef | grep java\n",
      "yuxiang+    8726    8724  0 21:44 ?        00:00:00 grep java\n",
      "\n"
     ]
    }
   ],
   "source": [
    "import os\n",
    "cmd = 'ps -ef | grep java'\n",
    "out = os.popen(cmd)\n",
    "print(out.read())"
   ]
  },
  {
   "cell_type": "markdown",
   "metadata": {},
   "source": [
    "## Check metamap human readable output"
   ]
  },
  {
   "cell_type": "code",
   "execution_count": 462,
   "metadata": {},
   "outputs": [
    {
     "name": "stderr",
     "output_type": "stream",
     "text": [
      "### WARNING: Overriding default model 2020AA with 2022AA.\n"
     ]
    },
    {
     "name": "stdout",
     "output_type": "stream",
     "text": [
      "/home/yuxiangliao/PhD/UMLS/Metamap/public_mm/bin/SKRrun.20 /home/yuxiangliao/PhD/UMLS/Metamap/public_mm/bin/metamap20.BINARY.Linux -L 2020 --lexicon c -Z 2022AA -V NLM -A --silent -I\n",
      "Processing USER.tx.1: There is no focal consolidation, pleural effusion or pneumothorax. \n",
      "\n",
      "Phrase: There\n",
      "\n",
      "Phrase: is\n",
      "\n",
      "Phrase: no focal consolidation,\n",
      "Meta Mapping (888):\n",
      "   694   C0205234:FOCAL (Focal) [Spatial Concept]\n",
      "   861 N C0521530:Consolidation (Lung consolidation) [Disease or Syndrome]\n",
      "Meta Mapping (888):\n",
      "   694   C0205234:FOCAL (Focal) [Spatial Concept]\n",
      "   861   C0702116:Consolidation [Qualitative Concept]\n",
      "Meta Mapping (888):\n",
      "   694   C0205234:FOCAL (Focal) [Spatial Concept]\n",
      "   861   C1511484:Consolidation (Consolidation Therapy) [Therapeutic or Preventive Procedure]\n",
      "Meta Mapping (888):\n",
      "   694   C0205234:FOCAL (Focal) [Spatial Concept]\n",
      "   861   C4722412:CONSOLIDATION (Consolidation Clinical Trial Setting) [Health Care Related Organization,Manufactured Object]\n",
      "\n",
      "Phrase: pleural effusion\n",
      "Meta Mapping (1000):\n",
      "  1000 N C0032227:PLEURAL EFFUSION (Pleural effusion disorder) [Disease or Syndrome]\n",
      "Meta Mapping (1000):\n",
      "  1000   C1253943:Pleural effusion (Pleural effusion fluid) [Body Substance]\n",
      "Meta Mapping (1000):\n",
      "  1000 N C2073625:pleural effusion (x-ray of chest: pleural effusion) [Finding]\n",
      "Meta Mapping (1000):\n",
      "  1000 N C4552777:Pleural Effusion (Pleural Effusion, CTCAE) [Finding]\n",
      "\n",
      "Phrase: or\n",
      "\n",
      "Phrase: pneumothorax.\n",
      "Meta Mapping (1000):\n",
      "  1000 N C0032326:PNEUMOTHORAX (Pneumothorax) [Disease or Syndrome]\n",
      "Meta Mapping (1000):\n",
      "  1000 N C1963215:Pneumothorax (Pneumothorax, CTCAE) [Finding]\n",
      "Processing USER.tx.2: Cardiomediastinal silhouette and hilar contours are otherwise unremarkable.\n",
      "\n",
      "Phrase: Cardiomediastinal silhouette\n",
      "\n",
      "Phrase: and\n",
      "\n",
      "Phrase: hilar contours\n",
      "Meta Mapping (888):\n",
      "   694   C0205150:HILAR (Hilar) [Spatial Concept]\n",
      "   861   C0876954:Contours (Contour form) [Spatial Concept]\n",
      "\n",
      "Phrase: are\n",
      "\n",
      "Phrase: otherwise unremarkable.\n",
      "Meta Mapping (861):\n",
      "   861   C0205307:UNREMARKABLE (Normal) [Qualitative Concept]\n",
      "\n"
     ]
    }
   ],
   "source": [
    "import subprocess, shlex\n",
    "text =  \"There is no focal consolidation, pleural effusion or pneumothorax.  Cardiomediastinal silhouette and hilar contours are otherwise unremarkable.\"\n",
    "input_command = f\"echo -e {text}\"\n",
    "input_process = subprocess.Popen(shlex.split(input_command), stdout=subprocess.PIPE)\n",
    "meta_command = \"metamap -V NLM -Z 2022AA -A --silent -I\"\n",
    "metamap_process = subprocess.Popen(shlex.split(meta_command), stdout=subprocess.PIPE, stdin=input_process.stdout)\n",
    "output, error = metamap_process.communicate()\n",
    "print(output.decode())"
   ]
  },
  {
   "cell_type": "markdown",
   "metadata": {},
   "source": [
    "## Load data"
   ]
  },
  {
   "cell_type": "code",
   "execution_count": 463,
   "metadata": {},
   "outputs": [
    {
     "name": "stdout",
     "output_type": "stream",
     "text": [
      "              pid        sid  \\\n",
      "0       p10000032  s50414267   \n",
      "1       p10000032  s53189527   \n",
      "2       p10000032  s53911762   \n",
      "3       p10000032  s56699142   \n",
      "4       p10000764  s57375967   \n",
      "...           ...        ...   \n",
      "227830  p19999442  s58708861   \n",
      "227831  p19999733  s57132437   \n",
      "227832  p19999987  s55368167   \n",
      "227833  p19999987  s58621812   \n",
      "227834  p19999987  s58971208   \n",
      "\n",
      "                                                 findings  \\\n",
      "0       There is no focal consolidation, pleural effus...   \n",
      "1       The cardiac, mediastinal and hilar contours ar...   \n",
      "2       Single frontal view of the chest provided. \\n ...   \n",
      "3       The lungs are clear of focal consolidation, pl...   \n",
      "4       PA and lateral views of the chest provided.   ...   \n",
      "...                                                   ...   \n",
      "227830  ET tube ends 4.7 cm above the carina.  NG tube...   \n",
      "227831  The lungs are clear, and the cardiomediastinal...   \n",
      "227832  There has been interval extubation and improve...   \n",
      "227833  Portable supine AP view of the chest provided ...   \n",
      "227834  The ET tube terminates approximately 2.9 cm fr...   \n",
      "\n",
      "                                               impression  \\\n",
      "0                       No acute cardiopulmonary process.   \n",
      "1                   No acute cardiopulmonary abnormality.   \n",
      "2                         No acute intrathoracic process.   \n",
      "3                       No acute cardiopulmonary process.   \n",
      "4       Focal consolidation at the left lung base, pos...   \n",
      "...                                                   ...   \n",
      "227830  1.  Lines and tubes are in adequate position. ...   \n",
      "227831                   No acute cardiothoracic process.   \n",
      "227832                                                      \n",
      "227833  Appropriately positioned ET and NG tubes.  Bib...   \n",
      "227834  Slight interval worsening of right lower lung ...   \n",
      "\n",
      "       provisional_findings_impression findings_and_impression  \n",
      "0                                                               \n",
      "1                                                               \n",
      "2                                                               \n",
      "3                                                               \n",
      "4                                                               \n",
      "...                                ...                     ...  \n",
      "227830                                                          \n",
      "227831                                                          \n",
      "227832                                                          \n",
      "227833                                                          \n",
      "227834                                                          \n",
      "\n",
      "[227835 rows x 6 columns]\n"
     ]
    }
   ],
   "source": [
    "import pandas\n",
    "REPORT_PATH = \"/home/yuxiangliao/PhD/data/mimic_cxr_reports_core.json\"\n",
    "df = pandas.read_json(REPORT_PATH,orient=\"records\",lines=True)\n",
    "print(df)\n",
    "\n",
    "id_list = df.loc[:,'sid'].to_list()\n",
    "findings_list = df.loc[:,'findings'].to_list()\n",
    "impression_list = df.loc[:,'impression'].to_list()\n",
    "pfi_list = df.loc[:,'provisional_findings_impression'].to_list()\n",
    "fai_list = df.loc[:,'findings_and_impression'].to_list()\n",
    "\n",
    "DATA_SIZE = len(id_list)"
   ]
  },
  {
   "cell_type": "markdown",
   "metadata": {},
   "source": [
    "## Run multiprocessing in jupyter"
   ]
  },
  {
   "cell_type": "markdown",
   "metadata": {},
   "source": [
    "Construct metama command"
   ]
  },
  {
   "cell_type": "code",
   "execution_count": 464,
   "metadata": {},
   "outputs": [],
   "source": [
    "import subprocess, shlex\n",
    "# Documentation: https://lhncbc.nlm.nih.gov/ii/tools/MetaMap/Docs/MM_2016_Usage.pdf\n",
    "def get_metamap_command():\n",
    "    command = format_command_arg(\"metamap\")\n",
    "    command += format_command_arg(\"-V NLM\")                # Data Version: -V (--mm data version) [Base, USAbase, NLM]\n",
    "    command += format_command_arg(\"-Z 2022AA\")             # Knowledge Source: -Z (--mm data year)\n",
    "    command += format_command_arg(\"-A\")                    # Data Model: [-A (--strict model), -C (--relaxed model)]\n",
    "    command += format_command_arg(\"--silent\")              # Hide Header Output: --silent\n",
    "    command += format_command_arg(\"--JSONn\")               # Output format: [-q (--machine output), --XMLf, --XMLn, --XMLf1, --XMLn1, --JSONf, --JSONn, -N (--fielded mmi output), -F (--formal tagger output)]\n",
    "    # command += \" --conj\"                                   # Turn on Conjunction Processing\n",
    "    # command += \" -y\"                                       # Word-Sense Disambiguation: -y (--word sense disambiguation)\n",
    "    # UDA_path = \"/home/yuxiangliao/PhD/UMLS/custom-resources/custom-word-replacement\"\n",
    "    # command += format_command_arg(f\"--UDA {UDA_path}\")     # User-Defined Acronyms/Abbreviations (word replacement): --UDA <file>\n",
    "    # semantic_types = \"virs,cgab,acab,ffas,bpoc,medd,tmco,qlco,qnco,bsoj,blor,fndg,sosy,topp,ortf,patf,dsyn,inpo\"\n",
    "    # commend += f\"-J {semantic_types}\"                      # Retain only Concepts with Specified Semantic Types: -J (--restrict to sts) <list>\n",
    "    # command += format_command_arg(\"-I\")                    # For human readable output\n",
    "    return command\n",
    "\n",
    "def format_command_arg(arg):\n",
    "    return \" \" + arg\n",
    "\n",
    "def run_metamap(startIndex,batch_size):\n",
    "    endIndex = startIndex + batch_size if startIndex + batch_size < DATA_SIZE else DATA_SIZE\n",
    "    input_list = [(record if record else \"None\") for record in findings_list[startIndex:endIndex]]\n",
    "    input = repr(\"\\n\\n\".join(input_list))\n",
    "    input_command = f\"echo -e {input}\"\n",
    "    input_process = subprocess.Popen(shlex.split(input_command), stdout=subprocess.PIPE)\n",
    "    \n",
    "    meta_command = get_metamap_command()\n",
    "    metamap_process = subprocess.Popen(shlex.split(meta_command), stdout=subprocess.PIPE, stdin=input_process.stdout)\n",
    "   \n",
    "    output_bytes, error_bytes = metamap_process.communicate()\n",
    "    if error:\n",
    "        logger.error(error_bytes.decode())\n",
    "    return output_bytes.decode(), [startIndex,endIndex]"
   ]
  },
  {
   "cell_type": "markdown",
   "metadata": {},
   "source": [
    "Data Object for JSON output"
   ]
  },
  {
   "cell_type": "code",
   "execution_count": 465,
   "metadata": {},
   "outputs": [],
   "source": [
    "def resolveTokenIndices(section:Section, startPos, length) -> list:\n",
    "    indicesInSection = []\n",
    "    doInsert = False\n",
    "    posPointer = startPos\n",
    "    for i, currPos in enumerate(section.tokenPos):\n",
    "        nextPos = section.tokenPos[i+1] if i + 1 < len(section.tokenPos) else section.tokenPos[i] + 99\n",
    "        if not doInsert and posPointer >= currPos and posPointer < nextPos:\n",
    "            doInsert = True\n",
    "            posPointer = startPos + length - 1\n",
    "        elif doInsert and posPointer < currPos: \n",
    "            break # break the loop in advance, othewise will stop when finish the loop.\n",
    "        if doInsert:\n",
    "            indicesInSection.append(i)\n",
    "    return indicesInSection\n",
    "\n",
    "class Concept(object):\n",
    "    def __init__(self, sourceTokens:list, startPosList:list, lengthList:list, umlsCUI:str, preferedName:str, hitTerm:str, categories:list, isHead:int, isNegated:int):\n",
    "        self.sourceTokens = sourceTokens\n",
    "        self.startPosList = startPosList\n",
    "        self.lengthList = lengthList\n",
    "        self.indicesInSection = []\n",
    "        self.umlsCUI = umlsCUI\n",
    "        self.preferedName = preferedName\n",
    "        self.hitTerm = hitTerm\n",
    "        self.categories = categories\n",
    "        self.isHead =  1 if isHead == \"yes\" else 0\n",
    "        self.isNegated =  1 if isNegated == \"1\" else 0\n",
    "    def update(self, section:Section):\n",
    "        for startPos, length in zip(self.startPosList, self.lengthList):\n",
    "            indicesInSection = resolveTokenIndices(section, startPos, length)\n",
    "            self.indicesInSection.extend(indicesInSection)\n",
    "        \n",
    "class ConceptGroup(object):\n",
    "    def __init__(self):\n",
    "        self.concepts = []\n",
    "    def addConcept(self, concept:Concept):\n",
    "        self.concepts.append(concept)\n",
    "    def update(self, section:Section):\n",
    "        for obj in self.concepts:\n",
    "            obj.update(section)\n",
    "        \n",
    "class SyntaxChunk(object):\n",
    "    def __init__(self, text:str, lexicalMatch:str, dependencyTag:str, partOfSpeech:str, tokens:list):\n",
    "        self.text = text # The original form of the text (case sensitive)\n",
    "        self.lexicalMatch = lexicalMatch\n",
    "        self.dependencyTag = dependencyTag\n",
    "        self.partOfSpeech = partOfSpeech\n",
    "        self.tokens = tokens\n",
    "                \n",
    "class Phrase(object):\n",
    "    def __init__(self, text:str, startPos:int, length:int):\n",
    "        self.text = text\n",
    "        self.startPos = startPos\n",
    "        self.length = length\n",
    "        self.tokens = []\n",
    "        self.indicesInSection = []\n",
    "        self.syntaxChunks = []\n",
    "        self.mappings = []\n",
    "    def addSyntaxChunk(self, syntaxChunk:SyntaxChunk):\n",
    "        self.syntaxChunks.append(syntaxChunk)\n",
    "        self.tokens.extend(syntaxChunk.tokens)\n",
    "    def addConceptGroup(self, conceptGroup:ConceptGroup):\n",
    "        self.mappings.append(conceptGroup)\n",
    "    def update(self, section:Section):\n",
    "        indicesInSection = resolveTokenIndices(section, self.startPos, self.length)\n",
    "        self.indicesInSection.extend(indicesInSection)\n",
    "        for obj in self.mappings:\n",
    "            obj.update(section)\n",
    "        \n",
    "        \n",
    "class Sentence(object):\n",
    "    def __init__(self, text:str, startPos:int, length:int):\n",
    "        self.text = text\n",
    "        self.startPos = startPos\n",
    "        self.length = length\n",
    "        self.tokens = []\n",
    "        self.indicesInSection = []\n",
    "        self.phrases = []\n",
    "    def addPhrase(self, phrase:Phrase):\n",
    "        self.phrases.append(phrase)\n",
    "        self.tokens.extend(phrase.tokens)\n",
    "    def update(self, section:Section):\n",
    "        indicesInSection = resolveTokenIndices(section, self.startPos, self.length)\n",
    "        self.indicesInSection.extend(indicesInSection)\n",
    "        # Update the children objs\n",
    "        for obj in self.phrases:\n",
    "            obj.update(section)\n",
    "\n",
    "class Negation(object):\n",
    "    def __init__(self, text:str, triStartPosList:list, triLengthList:list, conceptsCUIs:list, tarStartPosList:list, tarLengthList:list):\n",
    "        self.trgger = {\n",
    "            'text': text,\n",
    "            'startPosList': triStartPosList,\n",
    "            'lengthList': triLengthList,\n",
    "            'indicesInSection': []\n",
    "        }\n",
    "        self.tarrget = {\n",
    "            'conceptsCUIs': conceptsCUIs,\n",
    "            'startPosList': tarStartPosList,\n",
    "            'lengthList': tarLengthList,\n",
    "            'indicesInSection': []\n",
    "        }\n",
    "    def update(self, section:Section):\n",
    "        for startPos, length in zip(self.trgger['startPosList'], self.trgger['lengthList']):\n",
    "            indicesInSection = resolveTokenIndices(section, startPos, length)\n",
    "            self.trgger['indicesInSection'].extend(indicesInSection)\n",
    "        for startPos, length in zip(self.tarrget['startPosList'], self.tarrget['lengthList']):\n",
    "            indicesInSection = resolveTokenIndices(section, startPos, length)\n",
    "            self.tarrget['indicesInSection'].extend(indicesInSection) \n",
    "\n",
    "class Section(object):\n",
    "    def __init__(self, name:str):\n",
    "        self.name = name\n",
    "        self.text = \"\" # context\n",
    "        self.tokens = []\n",
    "        self.tokenPos = []\n",
    "        self.sentences = []\n",
    "        self.negations = []\n",
    "    def addSentence(self, sentence:Sentence):\n",
    "        self.sentences.append(sentence)\n",
    "        self.text += sentence.text\n",
    "        self.tokens.extend(sentence.tokens)\n",
    "    def addNegation(self, negation:Negation):\n",
    "        self.negations.append(negation)\n",
    "    def update(self):\n",
    "        offset = [0]\n",
    "        for i,substring in enumerate(self.tokens):\n",
    "            offset.append(self.text.lower().find(substring,offset[i],len(self.text)))\n",
    "        offset = offset[1:]\n",
    "        self.tokenPos = offset\n",
    "        # Update the children objs\n",
    "        for obj in self.sentences:\n",
    "            obj.update(self)\n",
    "        for obj in self.negations:\n",
    "            obj.update(self)\n",
    "        \n",
    "class Record(object):\n",
    "    def __init__(self, sid:str):\n",
    "        self.sid = sid\n",
    "        self.sections = []\n",
    "    def addSection(self, section:Section):\n",
    "        section.update()\n",
    "        self.sections.append(section)\n",
    "        \n",
    "class Records(object):\n",
    "    def __init__(self):\n",
    "        self.records = []\n",
    "    def addRecord(self, record:Record):\n",
    "        self.records.append(record)"
   ]
  },
  {
   "cell_type": "markdown",
   "metadata": {},
   "source": [
    "Methods to resolve specific JSON subtags"
   ]
  },
  {
   "cell_type": "code",
   "execution_count": 466,
   "metadata": {},
   "outputs": [],
   "source": [
    "def resolveSyntaxUnit(syntaxUnit):\n",
    "    text = syntaxUnit['InputMatch']\n",
    "    dependencyTag = syntaxUnit['SyntaxType']\n",
    "    tokens = syntaxUnit['Tokens']\n",
    "    # Add punc to token list\n",
    "    if not tokens:\n",
    "        logger.trace(f\"Empty token detected: SyntaxType:{dependencyTag}, InputMatch:{text}\")\n",
    "        tokens = [text]\n",
    "    try:\n",
    "        lexicalMatch = syntaxUnit['LexMatch']\n",
    "        partOfSpeech = syntaxUnit['LexCat']\n",
    "    except KeyError:\n",
    "        lexicalMatch = \"\"\n",
    "        partOfSpeech = \"\"\n",
    "    if text.lower() != lexicalMatch and text.isalnum():\n",
    "        logger.trace(f\"text:[{text}], lexicalMatch:[{lexicalMatch}]\")\n",
    "    return SyntaxChunk(text, lexicalMatch, dependencyTag, partOfSpeech, tokens)\n",
    "\n",
    "def resolveConcept(mappingCandidate):\n",
    "    sourceTokens = mappingCandidate['MatchedWords']\n",
    "    assert len(mappingCandidate['ConceptPIs']) == 1\n",
    "    startPosList = [int(i['StartPos']) for i in mappingCandidate['ConceptPIs']]\n",
    "    lengthList = [int(i['Length']) for i in mappingCandidate['ConceptPIs']]\n",
    "    umlsCUI = mappingCandidate['CandidateCUI']\n",
    "    preferedName = mappingCandidate['CandidatePreferred']\n",
    "    hitTerm = mappingCandidate['CandidateMatched']\n",
    "    categories = mappingCandidate['SemTypes']\n",
    "    isHead = 1 if mappingCandidate['IsHead'] == \"yes\" else 0\n",
    "    isNegated = 1 if mappingCandidate['Negated'] == \"1\" else 0\n",
    "    return Concept(sourceTokens, startPosList, lengthList, umlsCUI, preferedName, hitTerm, categories, isHead, isNegated)\n",
    "\n",
    "def resolveNegation(negation):\n",
    "    trigger = negation['NegTrigger']\n",
    "    triggerStartPosList = [int(i['StartPos']) for i in negation['NegTriggerPIs']]\n",
    "    triggerLengthList = [int(i['Length']) for i in negation['NegTriggerPIs']]\n",
    "    conceptCUIs = [i['NegConcCUI'] for i in negation['NegConcepts']]\n",
    "    targetStartPosList = [int(i['StartPos']) for i in negation['NegConcPIs']]\n",
    "    targetLengthList = [int(i['Length']) for i in negation['NegConcPIs']]\n",
    "    return Negation(trigger, triggerStartPosList, triggerLengthList, conceptCUIs, targetStartPosList, targetLengthList)\n",
    "    "
   ]
  },
  {
   "cell_type": "markdown",
   "metadata": {},
   "source": [
    "Method to resolve JSON format output"
   ]
  },
  {
   "cell_type": "code",
   "execution_count": 467,
   "metadata": {},
   "outputs": [],
   "source": [
    "def parseMetamapJSON(json_obj,id_subList) -> Records:\n",
    "    records = Records()\n",
    "    for _idx, _document in enumerate(json_obj['AllDocuments']):\n",
    "        # print(_document.keys())\n",
    "        # print(record['Document']['Negations'])\n",
    "        record = Record(id_subList[_idx])\n",
    "        section = Section(\"findings\")\n",
    "        for _utterance in _document['Document']['Utterances']:\n",
    "            # print(_utterance.keys())\n",
    "            sentence = Sentence(text=_utterance['UttText'], startPos=int(_utterance['UttStartPos']), length=int(_utterance['UttLength']))\n",
    "            for _phrase in _utterance['Phrases']:\n",
    "                # print(_phrase.keys())\n",
    "                phrase = Phrase(text=_phrase['PhraseText'], startPos=int(_phrase['PhraseStartPos']), length=int(_phrase['PhraseLength']))\n",
    "                for _syntaxUnit in _phrase['SyntaxUnits']:\n",
    "                    # print(_syntaxUnit.keys())\n",
    "                    syntaxChunk = resolveSyntaxUnit(_syntaxUnit)\n",
    "                    phrase.addSyntaxChunk(syntaxChunk)\n",
    "                for _mapping in _phrase['Mappings']:\n",
    "                    # print(_mapping.keys())\n",
    "                    conceptGroup = ConceptGroup()\n",
    "                    for _mappingCandidate in _mapping['MappingCandidates']:\n",
    "                        # print(_mappingCandidate.keys())\n",
    "                        concept = resolveConcept(_mappingCandidate)\n",
    "                        conceptGroup.addConcept(concept)\n",
    "                    phrase.addConceptGroup(conceptGroup)\n",
    "                sentence.addPhrase(phrase)\n",
    "            section.addSentence(sentence)\n",
    "        for _negation in _document['Document']['Negations']:\n",
    "            negation = resolveNegation(_negation)\n",
    "            section.addNegation(negation)\n",
    "        record.addSection(section)\n",
    "        records.addRecord(record)\n",
    "    return records"
   ]
  },
  {
   "cell_type": "code",
   "execution_count": 468,
   "metadata": {},
   "outputs": [],
   "source": [
    "import jsonpickle\n",
    "\n",
    "def classToJSON(obj) -> str:\n",
    "    return jsonpickle.encode(obj,unpicklable=False)"
   ]
  },
  {
   "cell_type": "code",
   "execution_count": 469,
   "metadata": {},
   "outputs": [
    {
     "name": "stderr",
     "output_type": "stream",
     "text": [
      "### WARNING: Overriding default model 2020AA with 2022AA.\n"
     ]
    },
    {
     "name": "stdout",
     "output_type": "stream",
     "text": [
      "{\"records\": [{\"sid\": \"s50414267\", \"sections\": [{\"name\": \"findings\", \"text\": \"There is no focal consolidation, pleural effusion or pneumothorax.  Bilateral nodular opacities that most likely represent nipple shadows. The cardiomediastinal silhouette is normal.  Clips project over the left lung, potentially within the breast. The imaged upper abdomen is unremarkable. Chronic deformity of the posterior left sixth and seventh ribs are noted.\", \"tokens\": [\"there\", \"is\", \"no\", \"focal\", \"consolidation\", \",\", \"pleural\", \"effusion\", \"or\", \"pneumothorax\", \".\", \"bilateral\", \"nodular\", \"opacities\", \"that\", \"most\", \"likely\", \"represent\", \"nipple\", \"shadows\", \".\", \"the\", \"cardiomediastinal\", \"silhouette\", \"is\", \"normal\", \".\", \"clips\", \"project\", \"over\", \"the\", \"left\", \"lung\", \",\", \"potentially\", \"within\", \"the\", \"breast\", \".\", \"the\", \"imaged\", \"upper\", \"abdomen\", \"is\", \"unremarkable\", \".\", \"chronic\", \"deformity\", \"of\", \"the\", \"posterior\", \"left\", \"sixth\", \"and\", \"seventh\", \"ribs\", \"are\", \"noted\", \".\"], \"tokenPos\": [0, 6, 9, 12, 18, 31, 33, 41, 50, 53, 65, 68, 78, 86, 96, 101, 106, 113, 123, 130, 137, 139, 143, 161, 172, 175, 181, 184, 190, 198, 203, 207, 212, 216, 218, 230, 237, 241, 247, 249, 253, 260, 266, 274, 277, 289, 291, 299, 309, 312, 316, 326, 331, 337, 341, 349, 354, 358, 363], \"sentences\": [{\"text\": \"There is no focal consolidation, pleural effusion or pneumothorax.  \", \"startPos\": 0, \"length\": 68, \"tokens\": [\"there\", \"is\", \"no\", \"focal\", \"consolidation\", \",\", \"pleural\", \"effusion\", \"or\", \"pneumothorax\", \".\"], \"indicesInSection\": [0, 1, 2, 3, 4, 5, 6, 7, 8, 9, 10], \"phrases\": [{\"text\": \"There\", \"startPos\": 0, \"length\": 5, \"tokens\": [\"there\"], \"indicesInSection\": [0], \"syntaxChunks\": [{\"text\": \"There\", \"lexicalMatch\": \"there\", \"dependencyTag\": \"adv\", \"partOfSpeech\": \"adv\", \"tokens\": [\"there\"]}], \"mappings\": []}, {\"text\": \"is\", \"startPos\": 6, \"length\": 2, \"tokens\": [\"is\"], \"indicesInSection\": [1], \"syntaxChunks\": [{\"text\": \"is\", \"lexicalMatch\": \"is\", \"dependencyTag\": \"aux\", \"partOfSpeech\": \"aux\", \"tokens\": [\"is\"]}], \"mappings\": []}, {\"text\": \"no focal consolidation,\", \"startPos\": 9, \"length\": 23, \"tokens\": [\"no\", \"focal\", \"consolidation\", \",\"], \"indicesInSection\": [2, 3, 4, 5], \"syntaxChunks\": [{\"text\": \"no\", \"lexicalMatch\": \"no\", \"dependencyTag\": \"det\", \"partOfSpeech\": \"det\", \"tokens\": [\"no\"]}, {\"text\": \"focal\", \"lexicalMatch\": \"focal\", \"dependencyTag\": \"mod\", \"partOfSpeech\": \"adj\", \"tokens\": [\"focal\"]}, {\"text\": \"consolidation\", \"lexicalMatch\": \"consolidation\", \"dependencyTag\": \"head\", \"partOfSpeech\": \"noun\", \"tokens\": [\"consolidation\"]}, {\"text\": \",\", \"lexicalMatch\": \"\", \"dependencyTag\": \"punc\", \"partOfSpeech\": \"\", \"tokens\": [\",\"]}], \"mappings\": [{\"concepts\": [{\"sourceTokens\": [\"focal\"], \"startPosList\": [12], \"lengthList\": [5], \"indicesInSection\": [3], \"umlsCUI\": \"C0205234\", \"preferedName\": \"Focal\", \"hitTerm\": \"FOCAL\", \"categories\": [\"spco\"], \"isHead\": 0, \"isNegated\": 0}, {\"sourceTokens\": [\"consolidation\"], \"startPosList\": [18], \"lengthList\": [13], \"indicesInSection\": [4], \"umlsCUI\": \"C0521530\", \"preferedName\": \"Lung consolidation\", \"hitTerm\": \"Consolidation\", \"categories\": [\"dsyn\"], \"isHead\": 0, \"isNegated\": 0}]}, {\"concepts\": [{\"sourceTokens\": [\"focal\"], \"startPosList\": [12], \"lengthList\": [5], \"indicesInSection\": [3], \"umlsCUI\": \"C0205234\", \"preferedName\": \"Focal\", \"hitTerm\": \"FOCAL\", \"categories\": [\"spco\"], \"isHead\": 0, \"isNegated\": 0}, {\"sourceTokens\": [\"consolidation\"], \"startPosList\": [18], \"lengthList\": [13], \"indicesInSection\": [4], \"umlsCUI\": \"C0702116\", \"preferedName\": \"Consolidation\", \"hitTerm\": \"Consolidation\", \"categories\": [\"qlco\"], \"isHead\": 0, \"isNegated\": 0}]}, {\"concepts\": [{\"sourceTokens\": [\"focal\"], \"startPosList\": [12], \"lengthList\": [5], \"indicesInSection\": [3], \"umlsCUI\": \"C0205234\", \"preferedName\": \"Focal\", \"hitTerm\": \"FOCAL\", \"categories\": [\"spco\"], \"isHead\": 0, \"isNegated\": 0}, {\"sourceTokens\": [\"consolidation\"], \"startPosList\": [18], \"lengthList\": [13], \"indicesInSection\": [4], \"umlsCUI\": \"C1511484\", \"preferedName\": \"Consolidation Therapy\", \"hitTerm\": \"Consolidation\", \"categories\": [\"topp\"], \"isHead\": 0, \"isNegated\": 0}]}, {\"concepts\": [{\"sourceTokens\": [\"focal\"], \"startPosList\": [12], \"lengthList\": [5], \"indicesInSection\": [3], \"umlsCUI\": \"C0205234\", \"preferedName\": \"Focal\", \"hitTerm\": \"FOCAL\", \"categories\": [\"spco\"], \"isHead\": 0, \"isNegated\": 0}, {\"sourceTokens\": [\"consolidation\"], \"startPosList\": [18], \"lengthList\": [13], \"indicesInSection\": [4], \"umlsCUI\": \"C4722412\", \"preferedName\": \"Consolidation Clinical Trial Setting\", \"hitTerm\": \"CONSOLIDATION\", \"categories\": [\"hcro\", \"mnob\"], \"isHead\": 0, \"isNegated\": 0}]}]}, {\"text\": \"pleural effusion\", \"startPos\": 33, \"length\": 16, \"tokens\": [\"pleural\", \"effusion\"], \"indicesInSection\": [6, 7], \"syntaxChunks\": [{\"text\": \"pleural effusion\", \"lexicalMatch\": \"pleural effusion\", \"dependencyTag\": \"head\", \"partOfSpeech\": \"noun\", \"tokens\": [\"pleural\", \"effusion\"]}], \"mappings\": [{\"concepts\": [{\"sourceTokens\": [\"pleural\", \"effusion\"], \"startPosList\": [33], \"lengthList\": [16], \"indicesInSection\": [6, 7], \"umlsCUI\": \"C0032227\", \"preferedName\": \"Pleural effusion disorder\", \"hitTerm\": \"PLEURAL EFFUSION\", \"categories\": [\"dsyn\"], \"isHead\": 0, \"isNegated\": 0}]}, {\"concepts\": [{\"sourceTokens\": [\"pleural\", \"effusion\"], \"startPosList\": [33], \"lengthList\": [16], \"indicesInSection\": [6, 7], \"umlsCUI\": \"C1253943\", \"preferedName\": \"Pleural effusion fluid\", \"hitTerm\": \"Pleural effusion\", \"categories\": [\"bdsu\"], \"isHead\": 0, \"isNegated\": 0}]}, {\"concepts\": [{\"sourceTokens\": [\"pleural\", \"effusion\"], \"startPosList\": [33], \"lengthList\": [16], \"indicesInSection\": [6, 7], \"umlsCUI\": \"C2073625\", \"preferedName\": \"x-ray of chest: pleural effusion\", \"hitTerm\": \"pleural effusion\", \"categories\": [\"fndg\"], \"isHead\": 0, \"isNegated\": 0}]}, {\"concepts\": [{\"sourceTokens\": [\"pleural\", \"effusion\"], \"startPosList\": [33], \"lengthList\": [16], \"indicesInSection\": [6, 7], \"umlsCUI\": \"C4552777\", \"preferedName\": \"Pleural Effusion, CTCAE\", \"hitTerm\": \"Pleural Effusion\", \"categories\": [\"fndg\"], \"isHead\": 0, \"isNegated\": 0}]}]}, {\"text\": \"or\", \"startPos\": 50, \"length\": 2, \"tokens\": [\"or\"], \"indicesInSection\": [8], \"syntaxChunks\": [{\"text\": \"or\", \"lexicalMatch\": \"or\", \"dependencyTag\": \"conj\", \"partOfSpeech\": \"conj\", \"tokens\": [\"or\"]}], \"mappings\": []}, {\"text\": \"pneumothorax.\", \"startPos\": 53, \"length\": 13, \"tokens\": [\"pneumothorax\", \".\"], \"indicesInSection\": [9, 10], \"syntaxChunks\": [{\"text\": \"pneumothorax\", \"lexicalMatch\": \"pneumothorax\", \"dependencyTag\": \"head\", \"partOfSpeech\": \"noun\", \"tokens\": [\"pneumothorax\"]}, {\"text\": \".\", \"lexicalMatch\": \"\", \"dependencyTag\": \"punc\", \"partOfSpeech\": \"\", \"tokens\": [\".\"]}], \"mappings\": [{\"concepts\": [{\"sourceTokens\": [\"pneumothorax\"], \"startPosList\": [53], \"lengthList\": [12], \"indicesInSection\": [9], \"umlsCUI\": \"C0032326\", \"preferedName\": \"Pneumothorax\", \"hitTerm\": \"PNEUMOTHORAX\", \"categories\": [\"dsyn\"], \"isHead\": 0, \"isNegated\": 0}]}, {\"concepts\": [{\"sourceTokens\": [\"pneumothorax\"], \"startPosList\": [53], \"lengthList\": [12], \"indicesInSection\": [9], \"umlsCUI\": \"C1963215\", \"preferedName\": \"Pneumothorax, CTCAE\", \"hitTerm\": \"Pneumothorax\", \"categories\": [\"fndg\"], \"isHead\": 0, \"isNegated\": 0}]}]}]}, {\"text\": \"Bilateral nodular opacities that most likely represent nipple shadows. \", \"startPos\": 68, \"length\": 71, \"tokens\": [\"bilateral\", \"nodular\", \"opacities\", \"that\", \"most\", \"likely\", \"represent\", \"nipple\", \"shadows\", \".\"], \"indicesInSection\": [11, 12, 13, 14, 15, 16, 17, 18, 19, 20], \"phrases\": [{\"text\": \"Bilateral nodular opacities\", \"startPos\": 68, \"length\": 27, \"tokens\": [\"bilateral\", \"nodular\", \"opacities\"], \"indicesInSection\": [11, 12, 13], \"syntaxChunks\": [{\"text\": \"Bilateral\", \"lexicalMatch\": \"bilateral\", \"dependencyTag\": \"mod\", \"partOfSpeech\": \"adj\", \"tokens\": [\"bilateral\"]}, {\"text\": \"nodular\", \"lexicalMatch\": \"nodular\", \"dependencyTag\": \"mod\", \"partOfSpeech\": \"adj\", \"tokens\": [\"nodular\"]}, {\"text\": \"opacities\", \"lexicalMatch\": \"opacities\", \"dependencyTag\": \"head\", \"partOfSpeech\": \"noun\", \"tokens\": [\"opacities\"]}], \"mappings\": [{\"concepts\": [{\"sourceTokens\": [\"bilateral\"], \"startPosList\": [68], \"lengthList\": [9], \"indicesInSection\": [11], \"umlsCUI\": \"C0238767\", \"preferedName\": \"Bilateral\", \"hitTerm\": \"BILATERAL\", \"categories\": [\"spco\"], \"isHead\": 0, \"isNegated\": 0}, {\"sourceTokens\": [\"nodular\", \"opacity\"], \"startPosList\": [78], \"lengthList\": [17], \"indicesInSection\": [12, 13], \"umlsCUI\": \"C4086623\", \"preferedName\": \"Nodular Opacity\", \"hitTerm\": \"Nodular Opacity\", \"categories\": [\"fndg\"], \"isHead\": 0, \"isNegated\": 0}]}]}, {\"text\": \"that most\", \"startPos\": 96, \"length\": 9, \"tokens\": [\"that\", \"most\"], \"indicesInSection\": [14, 15], \"syntaxChunks\": [{\"text\": \"that\", \"lexicalMatch\": \"that\", \"dependencyTag\": \"compl\", \"partOfSpeech\": \"compl\", \"tokens\": [\"that\"]}, {\"text\": \"most\", \"lexicalMatch\": \"most\", \"dependencyTag\": \"adv\", \"partOfSpeech\": \"adv\", \"tokens\": [\"most\"]}], \"mappings\": [{\"concepts\": [{\"sourceTokens\": [\"most\"], \"startPosList\": [101], \"lengthList\": [4], \"indicesInSection\": [15], \"umlsCUI\": \"C0205393\", \"preferedName\": \"Most\", \"hitTerm\": \"MOST\", \"categories\": [\"qnco\"], \"isHead\": 0, \"isNegated\": 0}]}]}, {\"text\": \"likely\", \"startPos\": 106, \"length\": 6, \"tokens\": [\"likely\"], \"indicesInSection\": [16], \"syntaxChunks\": [{\"text\": \"likely\", \"lexicalMatch\": \"likely\", \"dependencyTag\": \"adv\", \"partOfSpeech\": \"adv\", \"tokens\": [\"likely\"]}], \"mappings\": [{\"concepts\": [{\"sourceTokens\": [\"likely\"], \"startPosList\": [106], \"lengthList\": [6], \"indicesInSection\": [16], \"umlsCUI\": \"C0332148\", \"preferedName\": \"Probable diagnosis\", \"hitTerm\": \"LIKELY\", \"categories\": [\"fndg\"], \"isHead\": 0, \"isNegated\": 0}]}, {\"concepts\": [{\"sourceTokens\": [\"likely\"], \"startPosList\": [106], \"lengthList\": [6], \"indicesInSection\": [16], \"umlsCUI\": \"C0750492\", \"preferedName\": \"Probably\", \"hitTerm\": \"Likely\", \"categories\": [\"idcn\"], \"isHead\": 0, \"isNegated\": 0}]}]}, {\"text\": \"represent\", \"startPos\": 113, \"length\": 9, \"tokens\": [\"represent\"], \"indicesInSection\": [17], \"syntaxChunks\": [{\"text\": \"represent\", \"lexicalMatch\": \"represent\", \"dependencyTag\": \"verb\", \"partOfSpeech\": \"verb\", \"tokens\": [\"represent\"]}], \"mappings\": [{\"concepts\": [{\"sourceTokens\": [\"represent\"], \"startPosList\": [113], \"lengthList\": [9], \"indicesInSection\": [17], \"umlsCUI\": \"C1882932\", \"preferedName\": \"Representation (action)\", \"hitTerm\": \"Represent\", \"categories\": [\"acty\"], \"isHead\": 0, \"isNegated\": 0}]}]}, {\"text\": \"nipple shadows.\", \"startPos\": 123, \"length\": 15, \"tokens\": [\"nipple\", \"shadows\", \".\"], \"indicesInSection\": [18, 19, 20], \"syntaxChunks\": [{\"text\": \"nipple\", \"lexicalMatch\": \"nipple\", \"dependencyTag\": \"mod\", \"partOfSpeech\": \"noun\", \"tokens\": [\"nipple\"]}, {\"text\": \"shadows\", \"lexicalMatch\": \"shadows\", \"dependencyTag\": \"head\", \"partOfSpeech\": \"noun\", \"tokens\": [\"shadows\"]}, {\"text\": \".\", \"lexicalMatch\": \"\", \"dependencyTag\": \"punc\", \"partOfSpeech\": \"\", \"tokens\": [\".\"]}], \"mappings\": [{\"concepts\": [{\"sourceTokens\": [\"nipple\"], \"startPosList\": [123], \"lengthList\": [6], \"indicesInSection\": [18], \"umlsCUI\": \"C0028109\", \"preferedName\": \"Nipples\", \"hitTerm\": \"NIPPLE\", \"categories\": [\"bpoc\"], \"isHead\": 0, \"isNegated\": 0}, {\"sourceTokens\": [\"shadows\"], \"startPosList\": [130], \"lengthList\": [7], \"indicesInSection\": [19], \"umlsCUI\": \"C0332554\", \"preferedName\": \"Shadow\", \"hitTerm\": \"shadows\", \"categories\": [\"ftcn\"], \"isHead\": 0, \"isNegated\": 0}]}]}]}, {\"text\": \"The cardiomediastinal silhouette is normal.  \", \"startPos\": 139, \"length\": 45, \"tokens\": [\"the\", \"cardiomediastinal\", \"silhouette\", \"is\", \"normal\", \".\"], \"indicesInSection\": [21, 22, 23, 24, 25, 26], \"phrases\": [{\"text\": \"The cardiomediastinal silhouette\", \"startPos\": 139, \"length\": 32, \"tokens\": [\"the\", \"cardiomediastinal\", \"silhouette\"], \"indicesInSection\": [21, 22, 23], \"syntaxChunks\": [{\"text\": \"The\", \"lexicalMatch\": \"the\", \"dependencyTag\": \"det\", \"partOfSpeech\": \"det\", \"tokens\": [\"the\"]}, {\"text\": \"cardiomediastinal\", \"lexicalMatch\": \"cardiomediastinal\", \"dependencyTag\": \"mod\", \"partOfSpeech\": \"adj\", \"tokens\": [\"cardiomediastinal\"]}, {\"text\": \"silhouette\", \"lexicalMatch\": \"silhouette\", \"dependencyTag\": \"head\", \"partOfSpeech\": \"noun\", \"tokens\": [\"silhouette\"]}], \"mappings\": []}, {\"text\": \"is\", \"startPos\": 172, \"length\": 2, \"tokens\": [\"is\"], \"indicesInSection\": [24], \"syntaxChunks\": [{\"text\": \"is\", \"lexicalMatch\": \"is\", \"dependencyTag\": \"aux\", \"partOfSpeech\": \"aux\", \"tokens\": [\"is\"]}], \"mappings\": []}, {\"text\": \"normal.\", \"startPos\": 175, \"length\": 7, \"tokens\": [\"normal\", \".\"], \"indicesInSection\": [25, 26], \"syntaxChunks\": [{\"text\": \"normal\", \"lexicalMatch\": \"normal\", \"dependencyTag\": \"head\", \"partOfSpeech\": \"adj\", \"tokens\": [\"normal\"]}, {\"text\": \".\", \"lexicalMatch\": \"\", \"dependencyTag\": \"punc\", \"partOfSpeech\": \"\", \"tokens\": [\".\"]}], \"mappings\": [{\"concepts\": [{\"sourceTokens\": [\"normal\"], \"startPosList\": [175], \"lengthList\": [6], \"indicesInSection\": [25], \"umlsCUI\": \"C0040300\", \"preferedName\": \"Body tissue\", \"hitTerm\": \"Normal\", \"categories\": [\"tisu\"], \"isHead\": 0, \"isNegated\": 0}]}, {\"concepts\": [{\"sourceTokens\": [\"normal\"], \"startPosList\": [175], \"lengthList\": [6], \"indicesInSection\": [25], \"umlsCUI\": \"C0205307\", \"preferedName\": \"Normal\", \"hitTerm\": \"NORMAL\", \"categories\": [\"qlco\"], \"isHead\": 0, \"isNegated\": 0}]}, {\"concepts\": [{\"sourceTokens\": [\"normal\"], \"startPosList\": [175], \"lengthList\": [6], \"indicesInSection\": [25], \"umlsCUI\": \"C0232357\", \"preferedName\": \"Normal Capillary Refill Time\", \"hitTerm\": \"Normal\", \"categories\": [\"fndg\"], \"isHead\": 0, \"isNegated\": 0}]}, {\"concepts\": [{\"sourceTokens\": [\"normal\"], \"startPosList\": [175], \"lengthList\": [6], \"indicesInSection\": [25], \"umlsCUI\": \"C0439166\", \"preferedName\": \"Percent normal\", \"hitTerm\": \"% normal\", \"categories\": [\"qnco\"], \"isHead\": 0, \"isNegated\": 0}]}, {\"concepts\": [{\"sourceTokens\": [\"normal\"], \"startPosList\": [175], \"lengthList\": [6], \"indicesInSection\": [25], \"umlsCUI\": \"C2347086\", \"preferedName\": \"Mean Percent of Normal\", \"hitTerm\": \"% Normal\", \"categories\": [\"qnco\"], \"isHead\": 0, \"isNegated\": 0}]}, {\"concepts\": [{\"sourceTokens\": [\"normal\"], \"startPosList\": [175], \"lengthList\": [6], \"indicesInSection\": [25], \"umlsCUI\": \"C4553972\", \"preferedName\": \"How Often Felt Normal question\", \"hitTerm\": \"Normal\", \"categories\": [\"inpr\"], \"isHead\": 0, \"isNegated\": 0}]}, {\"concepts\": [{\"sourceTokens\": [\"normal\"], \"startPosList\": [175], \"lengthList\": [6], \"indicesInSection\": [25], \"umlsCUI\": \"C5200925\", \"preferedName\": \"Normal Gait\", \"hitTerm\": \"Normal\", \"categories\": [\"fndg\"], \"isHead\": 0, \"isNegated\": 0}]}, {\"concepts\": [{\"sourceTokens\": [\"normal\"], \"startPosList\": [175], \"lengthList\": [6], \"indicesInSection\": [25], \"umlsCUI\": \"C5202633\", \"preferedName\": \"Normal Immune Presence\", \"hitTerm\": \"Normal\", \"categories\": [\"fndg\"], \"isHead\": 0, \"isNegated\": 0}]}, {\"concepts\": [{\"sourceTokens\": [\"normal\"], \"startPosList\": [175], \"lengthList\": [6], \"indicesInSection\": [25], \"umlsCUI\": \"C5235018\", \"preferedName\": \"Normal Abdomen on Palpation\", \"hitTerm\": \"Normal\", \"categories\": [\"fndg\"], \"isHead\": 0, \"isNegated\": 0}]}, {\"concepts\": [{\"sourceTokens\": [\"normal\"], \"startPosList\": [175], \"lengthList\": [6], \"indicesInSection\": [25], \"umlsCUI\": \"C5235188\", \"preferedName\": \"Normal Precordial Palpation Finding\", \"hitTerm\": \"Normal\", \"categories\": [\"fndg\"], \"isHead\": 0, \"isNegated\": 0}]}, {\"concepts\": [{\"sourceTokens\": [\"normal\"], \"startPosList\": [175], \"lengthList\": [6], \"indicesInSection\": [25], \"umlsCUI\": \"C5235189\", \"preferedName\": \"Normal Abdomen on Visual Inspection\", \"hitTerm\": \"Normal\", \"categories\": [\"fndg\"], \"isHead\": 0, \"isNegated\": 0}]}, {\"concepts\": [{\"sourceTokens\": [\"normal\"], \"startPosList\": [175], \"lengthList\": [6], \"indicesInSection\": [25], \"umlsCUI\": \"C5235193\", \"preferedName\": \"Normal Chest Appearance\", \"hitTerm\": \"Normal\", \"categories\": [\"fndg\"], \"isHead\": 0, \"isNegated\": 0}]}, {\"concepts\": [{\"sourceTokens\": [\"normal\"], \"startPosList\": [175], \"lengthList\": [6], \"indicesInSection\": [25], \"umlsCUI\": \"C5235194\", \"preferedName\": \"Normal Appearance of Extremities\", \"hitTerm\": \"Normal\", \"categories\": [\"fndg\"], \"isHead\": 0, \"isNegated\": 0}]}, {\"concepts\": [{\"sourceTokens\": [\"normal\"], \"startPosList\": [175], \"lengthList\": [6], \"indicesInSection\": [25], \"umlsCUI\": \"C5235195\", \"preferedName\": \"Normal Male External Genitalia\", \"hitTerm\": \"Normal\", \"categories\": [\"fndg\"], \"isHead\": 0, \"isNegated\": 0}]}, {\"concepts\": [{\"sourceTokens\": [\"normal\"], \"startPosList\": [175], \"lengthList\": [6], \"indicesInSection\": [25], \"umlsCUI\": \"C5238822\", \"preferedName\": \"Normal Point of Maximum Impulse\", \"hitTerm\": \"Normal\", \"categories\": [\"fndg\"], \"isHead\": 0, \"isNegated\": 0}]}]}]}, {\"text\": \"Clips project over the left lung, potentially within the breast. \", \"startPos\": 184, \"length\": 65, \"tokens\": [\"clips\", \"project\", \"over\", \"the\", \"left\", \"lung\", \",\", \"potentially\", \"within\", \"the\", \"breast\", \".\"], \"indicesInSection\": [27, 28, 29, 30, 31, 32, 33, 34, 35, 36, 37, 38], \"phrases\": [{\"text\": \"Clips\", \"startPos\": 184, \"length\": 5, \"tokens\": [\"clips\"], \"indicesInSection\": [27], \"syntaxChunks\": [{\"text\": \"Clips\", \"lexicalMatch\": \"clips\", \"dependencyTag\": \"head\", \"partOfSpeech\": \"noun\", \"tokens\": [\"clips\"]}], \"mappings\": [{\"concepts\": [{\"sourceTokens\": [\"clips\"], \"startPosList\": [184], \"lengthList\": [5], \"indicesInSection\": [27], \"umlsCUI\": \"C0175722\", \"preferedName\": \"Clip\", \"hitTerm\": \"Clips\", \"categories\": [\"medd\"], \"isHead\": 0, \"isNegated\": 0}]}, {\"concepts\": [{\"sourceTokens\": [\"clip\"], \"startPosList\": [184], \"lengthList\": [5], \"indicesInSection\": [27], \"umlsCUI\": \"C3812382\", \"preferedName\": \"Cross-Linking and Immunoprecipitation\", \"hitTerm\": \"CLIP\", \"categories\": [\"lbpr\"], \"isHead\": 0, \"isNegated\": 0}]}]}, {\"text\": \"project over the left lung,\", \"startPos\": 190, \"length\": 27, \"tokens\": [\"project\", \"over\", \"the\", \"left\", \"lung\", \",\"], \"indicesInSection\": [28, 29, 30, 31, 32, 33], \"syntaxChunks\": [{\"text\": \"project\", \"lexicalMatch\": \"project\", \"dependencyTag\": \"verb\", \"partOfSpeech\": \"verb\", \"tokens\": [\"project\"]}, {\"text\": \"over\", \"lexicalMatch\": \"over\", \"dependencyTag\": \"prep\", \"partOfSpeech\": \"prep\", \"tokens\": [\"over\"]}, {\"text\": \"the\", \"lexicalMatch\": \"the\", \"dependencyTag\": \"det\", \"partOfSpeech\": \"det\", \"tokens\": [\"the\"]}, {\"text\": \"left lung\", \"lexicalMatch\": \"left lung\", \"dependencyTag\": \"mod\", \"partOfSpeech\": \"noun\", \"tokens\": [\"left\", \"lung\"]}, {\"text\": \",\", \"lexicalMatch\": \"\", \"dependencyTag\": \"punc\", \"partOfSpeech\": \"\", \"tokens\": [\",\"]}], \"mappings\": [{\"concepts\": [{\"sourceTokens\": [\"project\"], \"startPosList\": [190], \"lengthList\": [7], \"indicesInSection\": [28], \"umlsCUI\": \"C1709701\", \"preferedName\": \"Project\", \"hitTerm\": \"Project\", \"categories\": [\"cnce\"], \"isHead\": 0, \"isNegated\": 0}, {\"sourceTokens\": [\"left\", \"lung\"], \"startPosList\": [207], \"lengthList\": [9], \"indicesInSection\": [31, 32], \"umlsCUI\": \"C0225730\", \"preferedName\": \"Left lung\", \"hitTerm\": \"Left Lung\", \"categories\": [\"bpoc\"], \"isHead\": 0, \"isNegated\": 0}]}, {\"concepts\": [{\"sourceTokens\": [\"project\"], \"startPosList\": [190], \"lengthList\": [7], \"indicesInSection\": [28], \"umlsCUI\": \"C5236848\", \"preferedName\": \"Project Name\", \"hitTerm\": \"project\", \"categories\": [\"inpr\"], \"isHead\": 0, \"isNegated\": 0}, {\"sourceTokens\": [\"left\", \"lung\"], \"startPosList\": [207], \"lengthList\": [9], \"indicesInSection\": [31, 32], \"umlsCUI\": \"C0225730\", \"preferedName\": \"Left lung\", \"hitTerm\": \"Left Lung\", \"categories\": [\"bpoc\"], \"isHead\": 0, \"isNegated\": 0}]}]}, {\"text\": \"potentially within the breast.\", \"startPos\": 218, \"length\": 30, \"tokens\": [\"potentially\", \"within\", \"the\", \"breast\", \".\"], \"indicesInSection\": [34, 35, 36, 37, 38], \"syntaxChunks\": [{\"text\": \"potentially\", \"lexicalMatch\": \"potentially\", \"dependencyTag\": \"adv\", \"partOfSpeech\": \"adv\", \"tokens\": [\"potentially\"]}, {\"text\": \"within\", \"lexicalMatch\": \"within\", \"dependencyTag\": \"prep\", \"partOfSpeech\": \"prep\", \"tokens\": [\"within\"]}, {\"text\": \"the\", \"lexicalMatch\": \"the\", \"dependencyTag\": \"det\", \"partOfSpeech\": \"det\", \"tokens\": [\"the\"]}, {\"text\": \"breast\", \"lexicalMatch\": \"breast\", \"dependencyTag\": \"mod\", \"partOfSpeech\": \"noun\", \"tokens\": [\"breast\"]}, {\"text\": \".\", \"lexicalMatch\": \"\", \"dependencyTag\": \"punc\", \"partOfSpeech\": \"\", \"tokens\": [\".\"]}], \"mappings\": [{\"concepts\": [{\"sourceTokens\": [\"breast\"], \"startPosList\": [241], \"lengthList\": [6], \"indicesInSection\": [37], \"umlsCUI\": \"C0006141\", \"preferedName\": \"Breast\", \"hitTerm\": \"BREAST\", \"categories\": [\"bpoc\"], \"isHead\": 0, \"isNegated\": 0}]}]}]}, {\"text\": \"The imaged upper abdomen is unremarkable. \", \"startPos\": 249, \"length\": 42, \"tokens\": [\"the\", \"imaged\", \"upper\", \"abdomen\", \"is\", \"unremarkable\", \".\"], \"indicesInSection\": [39, 40, 41, 42, 43, 44, 45], \"phrases\": [{\"text\": \"The imaged upper abdomen\", \"startPos\": 249, \"length\": 24, \"tokens\": [\"the\", \"imaged\", \"upper\", \"abdomen\"], \"indicesInSection\": [39, 40, 41, 42], \"syntaxChunks\": [{\"text\": \"The\", \"lexicalMatch\": \"the\", \"dependencyTag\": \"det\", \"partOfSpeech\": \"det\", \"tokens\": [\"the\"]}, {\"text\": \"imaged\", \"lexicalMatch\": \"imaged\", \"dependencyTag\": \"mod\", \"partOfSpeech\": \"adj\", \"tokens\": [\"imaged\"]}, {\"text\": \"upper\", \"lexicalMatch\": \"upper\", \"dependencyTag\": \"mod\", \"partOfSpeech\": \"adj\", \"tokens\": [\"upper\"]}, {\"text\": \"abdomen\", \"lexicalMatch\": \"abdomen\", \"dependencyTag\": \"head\", \"partOfSpeech\": \"noun\", \"tokens\": [\"abdomen\"]}], \"mappings\": [{\"concepts\": [{\"sourceTokens\": [\"image\"], \"startPosList\": [253], \"lengthList\": [6], \"indicesInSection\": [40], \"umlsCUI\": \"C1704254\", \"preferedName\": \"Medical Image\", \"hitTerm\": \"Image\", \"categories\": [\"inpr\"], \"isHead\": 0, \"isNegated\": 0}, {\"sourceTokens\": [\"upper\", \"abdomen\"], \"startPosList\": [260], \"lengthList\": [13], \"indicesInSection\": [41, 42], \"umlsCUI\": \"C0230165\", \"preferedName\": \"Upper abdomen (surface region)\", \"hitTerm\": \"Upper Abdomen\", \"categories\": [\"blor\"], \"isHead\": 0, \"isNegated\": 0}]}, {\"concepts\": [{\"sourceTokens\": [\"image\"], \"startPosList\": [253], \"lengthList\": [6], \"indicesInSection\": [40], \"umlsCUI\": \"C1704254\", \"preferedName\": \"Medical Image\", \"hitTerm\": \"Image\", \"categories\": [\"inpr\"], \"isHead\": 0, \"isNegated\": 0}, {\"sourceTokens\": [\"upper\", \"abdomen\"], \"startPosList\": [260], \"lengthList\": [13], \"indicesInSection\": [41, 42], \"umlsCUI\": \"C2937240\", \"preferedName\": \"Upper abdomen structure\", \"hitTerm\": \"Upper abdomen\", \"categories\": [\"bpoc\"], \"isHead\": 0, \"isNegated\": 0}]}, {\"concepts\": [{\"sourceTokens\": [\"image\"], \"startPosList\": [253], \"lengthList\": [6], \"indicesInSection\": [40], \"umlsCUI\": \"C1704922\", \"preferedName\": \"Image\", \"hitTerm\": \"Image\", \"categories\": [\"inpr\"], \"isHead\": 0, \"isNegated\": 0}, {\"sourceTokens\": [\"upper\", \"abdomen\"], \"startPosList\": [260], \"lengthList\": [13], \"indicesInSection\": [41, 42], \"umlsCUI\": \"C0230165\", \"preferedName\": \"Upper abdomen (surface region)\", \"hitTerm\": \"Upper Abdomen\", \"categories\": [\"blor\"], \"isHead\": 0, \"isNegated\": 0}]}, {\"concepts\": [{\"sourceTokens\": [\"image\"], \"startPosList\": [253], \"lengthList\": [6], \"indicesInSection\": [40], \"umlsCUI\": \"C1704922\", \"preferedName\": \"Image\", \"hitTerm\": \"Image\", \"categories\": [\"inpr\"], \"isHead\": 0, \"isNegated\": 0}, {\"sourceTokens\": [\"upper\", \"abdomen\"], \"startPosList\": [260], \"lengthList\": [13], \"indicesInSection\": [41, 42], \"umlsCUI\": \"C2937240\", \"preferedName\": \"Upper abdomen structure\", \"hitTerm\": \"Upper abdomen\", \"categories\": [\"bpoc\"], \"isHead\": 0, \"isNegated\": 0}]}, {\"concepts\": [{\"sourceTokens\": [\"image\"], \"startPosList\": [253], \"lengthList\": [6], \"indicesInSection\": [40], \"umlsCUI\": \"C1846009\", \"preferedName\": \"Intrauterine growth restriction, metaphyseal dysplasia, adrenal hypoplasia congenita, and genital anomaly syndrome\", \"hitTerm\": \"IMAGE\", \"categories\": [\"dsyn\"], \"isHead\": 0, \"isNegated\": 0}, {\"sourceTokens\": [\"upper\", \"abdomen\"], \"startPosList\": [260], \"lengthList\": [13], \"indicesInSection\": [41, 42], \"umlsCUI\": \"C0230165\", \"preferedName\": \"Upper abdomen (surface region)\", \"hitTerm\": \"Upper Abdomen\", \"categories\": [\"blor\"], \"isHead\": 0, \"isNegated\": 0}]}, {\"concepts\": [{\"sourceTokens\": [\"image\"], \"startPosList\": [253], \"lengthList\": [6], \"indicesInSection\": [40], \"umlsCUI\": \"C1846009\", \"preferedName\": \"Intrauterine growth restriction, metaphyseal dysplasia, adrenal hypoplasia congenita, and genital anomaly syndrome\", \"hitTerm\": \"IMAGE\", \"categories\": [\"dsyn\"], \"isHead\": 0, \"isNegated\": 0}, {\"sourceTokens\": [\"upper\", \"abdomen\"], \"startPosList\": [260], \"lengthList\": [13], \"indicesInSection\": [41, 42], \"umlsCUI\": \"C2937240\", \"preferedName\": \"Upper abdomen structure\", \"hitTerm\": \"Upper abdomen\", \"categories\": [\"bpoc\"], \"isHead\": 0, \"isNegated\": 0}]}, {\"concepts\": [{\"sourceTokens\": [\"image\"], \"startPosList\": [253], \"lengthList\": [6], \"indicesInSection\": [40], \"umlsCUI\": \"C3542466\", \"preferedName\": \"Image (foundation metadata concept)\", \"hitTerm\": \"Image\", \"categories\": [\"inpr\"], \"isHead\": 0, \"isNegated\": 0}, {\"sourceTokens\": [\"upper\", \"abdomen\"], \"startPosList\": [260], \"lengthList\": [13], \"indicesInSection\": [41, 42], \"umlsCUI\": \"C0230165\", \"preferedName\": \"Upper abdomen (surface region)\", \"hitTerm\": \"Upper Abdomen\", \"categories\": [\"blor\"], \"isHead\": 0, \"isNegated\": 0}]}, {\"concepts\": [{\"sourceTokens\": [\"image\"], \"startPosList\": [253], \"lengthList\": [6], \"indicesInSection\": [40], \"umlsCUI\": \"C3542466\", \"preferedName\": \"Image (foundation metadata concept)\", \"hitTerm\": \"Image\", \"categories\": [\"inpr\"], \"isHead\": 0, \"isNegated\": 0}, {\"sourceTokens\": [\"upper\", \"abdomen\"], \"startPosList\": [260], \"lengthList\": [13], \"indicesInSection\": [41, 42], \"umlsCUI\": \"C2937240\", \"preferedName\": \"Upper abdomen structure\", \"hitTerm\": \"Upper abdomen\", \"categories\": [\"bpoc\"], \"isHead\": 0, \"isNegated\": 0}]}]}, {\"text\": \"is\", \"startPos\": 274, \"length\": 2, \"tokens\": [\"is\"], \"indicesInSection\": [43], \"syntaxChunks\": [{\"text\": \"is\", \"lexicalMatch\": \"is\", \"dependencyTag\": \"aux\", \"partOfSpeech\": \"aux\", \"tokens\": [\"is\"]}], \"mappings\": []}, {\"text\": \"unremarkable.\", \"startPos\": 277, \"length\": 13, \"tokens\": [\"unremarkable\", \".\"], \"indicesInSection\": [44, 45], \"syntaxChunks\": [{\"text\": \"unremarkable\", \"lexicalMatch\": \"unremarkable\", \"dependencyTag\": \"head\", \"partOfSpeech\": \"adj\", \"tokens\": [\"unremarkable\"]}, {\"text\": \".\", \"lexicalMatch\": \"\", \"dependencyTag\": \"punc\", \"partOfSpeech\": \"\", \"tokens\": [\".\"]}], \"mappings\": [{\"concepts\": [{\"sourceTokens\": [\"unremarkable\"], \"startPosList\": [277], \"lengthList\": [12], \"indicesInSection\": [44], \"umlsCUI\": \"C0205307\", \"preferedName\": \"Normal\", \"hitTerm\": \"UNREMARKABLE\", \"categories\": [\"qlco\"], \"isHead\": 0, \"isNegated\": 0}]}]}]}, {\"text\": \"Chronic deformity of the posterior left sixth and seventh ribs are noted.\", \"startPos\": 291, \"length\": 73, \"tokens\": [\"chronic\", \"deformity\", \"of\", \"the\", \"posterior\", \"left\", \"sixth\", \"and\", \"seventh\", \"ribs\", \"are\", \"noted\", \".\"], \"indicesInSection\": [46, 47, 48, 49, 50, 51, 52, 53, 54, 55, 56, 57, 58], \"phrases\": [{\"text\": \"Chronic deformity of the posterior left sixth\", \"startPos\": 291, \"length\": 45, \"tokens\": [\"chronic\", \"deformity\", \"of\", \"the\", \"posterior\", \"left\", \"sixth\"], \"indicesInSection\": [46, 47, 48, 49, 50, 51, 52], \"syntaxChunks\": [{\"text\": \"Chronic\", \"lexicalMatch\": \"chronic\", \"dependencyTag\": \"mod\", \"partOfSpeech\": \"adj\", \"tokens\": [\"chronic\"]}, {\"text\": \"deformity\", \"lexicalMatch\": \"deformity\", \"dependencyTag\": \"head\", \"partOfSpeech\": \"noun\", \"tokens\": [\"deformity\"]}, {\"text\": \"of\", \"lexicalMatch\": \"of\", \"dependencyTag\": \"prep\", \"partOfSpeech\": \"prep\", \"tokens\": [\"of\"]}, {\"text\": \"the\", \"lexicalMatch\": \"the\", \"dependencyTag\": \"det\", \"partOfSpeech\": \"det\", \"tokens\": [\"the\"]}, {\"text\": \"posterior\", \"lexicalMatch\": \"posterior\", \"dependencyTag\": \"mod\", \"partOfSpeech\": \"adj\", \"tokens\": [\"posterior\"]}, {\"text\": \"left\", \"lexicalMatch\": \"left\", \"dependencyTag\": \"mod\", \"partOfSpeech\": \"adj\", \"tokens\": [\"left\"]}, {\"text\": \"sixth\", \"lexicalMatch\": \"\", \"dependencyTag\": \"shapes\", \"partOfSpeech\": \"\", \"tokens\": [\"sixth\"]}], \"mappings\": [{\"concepts\": [{\"sourceTokens\": [\"chronic\"], \"startPosList\": [291], \"lengthList\": [7], \"indicesInSection\": [46], \"umlsCUI\": \"C0205191\", \"preferedName\": \"chronic\", \"hitTerm\": \"CHRONIC\", \"categories\": [\"tmco\"], \"isHead\": 0, \"isNegated\": 0}, {\"sourceTokens\": [\"deformity\"], \"startPosList\": [299], \"lengthList\": [9], \"indicesInSection\": [47], \"umlsCUI\": \"C0000768\", \"preferedName\": \"Congenital Abnormality\", \"hitTerm\": \"Deformity\", \"categories\": [\"cgab\"], \"isHead\": 0, \"isNegated\": 0}, {\"sourceTokens\": [\"left\", \"posterior\"], \"startPosList\": [316], \"lengthList\": [14], \"indicesInSection\": [50, 51], \"umlsCUI\": \"C0456856\", \"preferedName\": \"Left posterior\", \"hitTerm\": \"Left - Posterior\", \"categories\": [\"spco\"], \"isHead\": 0, \"isNegated\": 0}, {\"sourceTokens\": [\"sixth\"], \"startPosList\": [331], \"lengthList\": [5], \"indicesInSection\": [52], \"umlsCUI\": \"C0205440\", \"preferedName\": \"Sixth\", \"hitTerm\": \"Sixth\", \"categories\": [\"qnco\"], \"isHead\": 0, \"isNegated\": 0}]}, {\"concepts\": [{\"sourceTokens\": [\"chronic\"], \"startPosList\": [291], \"lengthList\": [7], \"indicesInSection\": [46], \"umlsCUI\": \"C0205191\", \"preferedName\": \"chronic\", \"hitTerm\": \"CHRONIC\", \"categories\": [\"tmco\"], \"isHead\": 0, \"isNegated\": 0}, {\"sourceTokens\": [\"deformity\"], \"startPosList\": [299], \"lengthList\": [9], \"indicesInSection\": [47], \"umlsCUI\": \"C0221430\", \"preferedName\": \"Acquired deformity\", \"hitTerm\": \"Deformity, NOS\", \"categories\": [\"acab\"], \"isHead\": 0, \"isNegated\": 0}, {\"sourceTokens\": [\"left\", \"posterior\"], \"startPosList\": [316], \"lengthList\": [14], \"indicesInSection\": [50, 51], \"umlsCUI\": \"C0456856\", \"preferedName\": \"Left posterior\", \"hitTerm\": \"Left - Posterior\", \"categories\": [\"spco\"], \"isHead\": 0, \"isNegated\": 0}, {\"sourceTokens\": [\"sixth\"], \"startPosList\": [331], \"lengthList\": [5], \"indicesInSection\": [52], \"umlsCUI\": \"C0205440\", \"preferedName\": \"Sixth\", \"hitTerm\": \"Sixth\", \"categories\": [\"qnco\"], \"isHead\": 0, \"isNegated\": 0}]}, {\"concepts\": [{\"sourceTokens\": [\"chronic\"], \"startPosList\": [291], \"lengthList\": [7], \"indicesInSection\": [46], \"umlsCUI\": \"C0205191\", \"preferedName\": \"chronic\", \"hitTerm\": \"CHRONIC\", \"categories\": [\"tmco\"], \"isHead\": 0, \"isNegated\": 0}, {\"sourceTokens\": [\"deformity\"], \"startPosList\": [299], \"lengthList\": [9], \"indicesInSection\": [47], \"umlsCUI\": \"C0302142\", \"preferedName\": \"Deformity\", \"hitTerm\": \"Deformity\", \"categories\": [\"anab\"], \"isHead\": 0, \"isNegated\": 0}, {\"sourceTokens\": [\"left\", \"posterior\"], \"startPosList\": [316], \"lengthList\": [14], \"indicesInSection\": [50, 51], \"umlsCUI\": \"C0456856\", \"preferedName\": \"Left posterior\", \"hitTerm\": \"Left - Posterior\", \"categories\": [\"spco\"], \"isHead\": 0, \"isNegated\": 0}, {\"sourceTokens\": [\"sixth\"], \"startPosList\": [331], \"lengthList\": [5], \"indicesInSection\": [52], \"umlsCUI\": \"C0205440\", \"preferedName\": \"Sixth\", \"hitTerm\": \"Sixth\", \"categories\": [\"qnco\"], \"isHead\": 0, \"isNegated\": 0}]}, {\"concepts\": [{\"sourceTokens\": [\"chronic\"], \"startPosList\": [291], \"lengthList\": [7], \"indicesInSection\": [46], \"umlsCUI\": \"C0867389\", \"preferedName\": \"Chronic graft-versus-host disease\", \"hitTerm\": \"Chronic\", \"categories\": [\"dsyn\"], \"isHead\": 0, \"isNegated\": 0}, {\"sourceTokens\": [\"deformity\"], \"startPosList\": [299], \"lengthList\": [9], \"indicesInSection\": [47], \"umlsCUI\": \"C0000768\", \"preferedName\": \"Congenital Abnormality\", \"hitTerm\": \"Deformity\", \"categories\": [\"cgab\"], \"isHead\": 0, \"isNegated\": 0}, {\"sourceTokens\": [\"left\", \"posterior\"], \"startPosList\": [316], \"lengthList\": [14], \"indicesInSection\": [50, 51], \"umlsCUI\": \"C0456856\", \"preferedName\": \"Left posterior\", \"hitTerm\": \"Left - Posterior\", \"categories\": [\"spco\"], \"isHead\": 0, \"isNegated\": 0}, {\"sourceTokens\": [\"sixth\"], \"startPosList\": [331], \"lengthList\": [5], \"indicesInSection\": [52], \"umlsCUI\": \"C0205440\", \"preferedName\": \"Sixth\", \"hitTerm\": \"Sixth\", \"categories\": [\"qnco\"], \"isHead\": 0, \"isNegated\": 0}]}, {\"concepts\": [{\"sourceTokens\": [\"chronic\"], \"startPosList\": [291], \"lengthList\": [7], \"indicesInSection\": [46], \"umlsCUI\": \"C0867389\", \"preferedName\": \"Chronic graft-versus-host disease\", \"hitTerm\": \"Chronic\", \"categories\": [\"dsyn\"], \"isHead\": 0, \"isNegated\": 0}, {\"sourceTokens\": [\"deformity\"], \"startPosList\": [299], \"lengthList\": [9], \"indicesInSection\": [47], \"umlsCUI\": \"C0221430\", \"preferedName\": \"Acquired deformity\", \"hitTerm\": \"Deformity, NOS\", \"categories\": [\"acab\"], \"isHead\": 0, \"isNegated\": 0}, {\"sourceTokens\": [\"left\", \"posterior\"], \"startPosList\": [316], \"lengthList\": [14], \"indicesInSection\": [50, 51], \"umlsCUI\": \"C0456856\", \"preferedName\": \"Left posterior\", \"hitTerm\": \"Left - Posterior\", \"categories\": [\"spco\"], \"isHead\": 0, \"isNegated\": 0}, {\"sourceTokens\": [\"sixth\"], \"startPosList\": [331], \"lengthList\": [5], \"indicesInSection\": [52], \"umlsCUI\": \"C0205440\", \"preferedName\": \"Sixth\", \"hitTerm\": \"Sixth\", \"categories\": [\"qnco\"], \"isHead\": 0, \"isNegated\": 0}]}, {\"concepts\": [{\"sourceTokens\": [\"chronic\"], \"startPosList\": [291], \"lengthList\": [7], \"indicesInSection\": [46], \"umlsCUI\": \"C0867389\", \"preferedName\": \"Chronic graft-versus-host disease\", \"hitTerm\": \"Chronic\", \"categories\": [\"dsyn\"], \"isHead\": 0, \"isNegated\": 0}, {\"sourceTokens\": [\"deformity\"], \"startPosList\": [299], \"lengthList\": [9], \"indicesInSection\": [47], \"umlsCUI\": \"C0302142\", \"preferedName\": \"Deformity\", \"hitTerm\": \"Deformity\", \"categories\": [\"anab\"], \"isHead\": 0, \"isNegated\": 0}, {\"sourceTokens\": [\"left\", \"posterior\"], \"startPosList\": [316], \"lengthList\": [14], \"indicesInSection\": [50, 51], \"umlsCUI\": \"C0456856\", \"preferedName\": \"Left posterior\", \"hitTerm\": \"Left - Posterior\", \"categories\": [\"spco\"], \"isHead\": 0, \"isNegated\": 0}, {\"sourceTokens\": [\"sixth\"], \"startPosList\": [331], \"lengthList\": [5], \"indicesInSection\": [52], \"umlsCUI\": \"C0205440\", \"preferedName\": \"Sixth\", \"hitTerm\": \"Sixth\", \"categories\": [\"qnco\"], \"isHead\": 0, \"isNegated\": 0}]}]}, {\"text\": \"and\", \"startPos\": 337, \"length\": 3, \"tokens\": [\"and\"], \"indicesInSection\": [53], \"syntaxChunks\": [{\"text\": \"and\", \"lexicalMatch\": \"and\", \"dependencyTag\": \"conj\", \"partOfSpeech\": \"conj\", \"tokens\": [\"and\"]}], \"mappings\": []}, {\"text\": \"seventh ribs\", \"startPos\": 341, \"length\": 12, \"tokens\": [\"seventh\", \"ribs\"], \"indicesInSection\": [54, 55], \"syntaxChunks\": [{\"text\": \"seventh ribs\", \"lexicalMatch\": \"seventh ribs\", \"dependencyTag\": \"head\", \"partOfSpeech\": \"noun\", \"tokens\": [\"seventh\", \"ribs\"]}], \"mappings\": [{\"concepts\": [{\"sourceTokens\": [\"seventh\", \"rib\"], \"startPosList\": [341], \"lengthList\": [12], \"indicesInSection\": [54, 55], \"umlsCUI\": \"C0222903\", \"preferedName\": \"Bone structure of seventh rib\", \"hitTerm\": \"Seventh rib\", \"categories\": [\"bpoc\"], \"isHead\": 0, \"isNegated\": 0}]}]}, {\"text\": \"are\", \"startPos\": 354, \"length\": 3, \"tokens\": [\"are\"], \"indicesInSection\": [56], \"syntaxChunks\": [{\"text\": \"are\", \"lexicalMatch\": \"are\", \"dependencyTag\": \"aux\", \"partOfSpeech\": \"aux\", \"tokens\": [\"are\"]}], \"mappings\": []}, {\"text\": \"noted.\", \"startPos\": 358, \"length\": 6, \"tokens\": [\"noted\", \".\"], \"indicesInSection\": [57, 58], \"syntaxChunks\": [{\"text\": \"noted\", \"lexicalMatch\": \"noted\", \"dependencyTag\": \"verb\", \"partOfSpeech\": \"verb\", \"tokens\": [\"noted\"]}, {\"text\": \".\", \"lexicalMatch\": \"\", \"dependencyTag\": \"punc\", \"partOfSpeech\": \"\", \"tokens\": [\".\"]}], \"mappings\": [{\"concepts\": [{\"sourceTokens\": [\"noted\"], \"startPosList\": [358], \"lengthList\": [5], \"indicesInSection\": [57], \"umlsCUI\": \"C4288581\", \"preferedName\": \"Notable\", \"hitTerm\": \"Noted\", \"categories\": [\"qlco\"], \"isHead\": 0, \"isNegated\": 0}]}]}]}], \"negations\": [{\"trgger\": {\"text\": \"no\", \"startPosList\": [9], \"lengthList\": [2], \"indicesInSection\": [2]}, \"tarrget\": {\"conceptsCUIs\": [\"C0521530\"], \"startPosList\": [18], \"lengthList\": [13], \"indicesInSection\": [4]}}, {\"trgger\": {\"text\": \"no\", \"startPosList\": [9], \"lengthList\": [2], \"indicesInSection\": [2]}, \"tarrget\": {\"conceptsCUIs\": [\"C2073625\", \"C4552777\", \"C0032227\"], \"startPosList\": [33], \"lengthList\": [16], \"indicesInSection\": [6, 7]}}, {\"trgger\": {\"text\": \"no\", \"startPosList\": [9], \"lengthList\": [2], \"indicesInSection\": [2]}, \"tarrget\": {\"conceptsCUIs\": [\"C1963215\", \"C0032326\"], \"startPosList\": [53], \"lengthList\": [12], \"indicesInSection\": [9]}}]}]}, {\"sid\": \"s53189527\", \"sections\": [{\"name\": \"findings\", \"text\": \"The cardiac, mediastinal and hilar contours are normal. Pulmonary vasculature is normal.  Lungs are clear. No pleural effusion or pneumothorax is present. Multiple clips are again seen projecting over the left breast.  Remote left-sided rib fractures are also re- demonstrated.\", \"tokens\": [\"the\", \"cardiac\", \",\", \"mediastinal\", \"and\", \"hilar\", \"contours\", \"are\", \"normal\", \".\", \"pulmonary\", \"vasculature\", \"is\", \"normal\", \".\", \"lungs\", \"are\", \"clear\", \".\", \"no\", \"pleural\", \"effusion\", \"or\", \"pneumothorax\", \"is\", \"present\", \".\", \"multiple\", \"clips\", \"are\", \"again\", \"seen\", \"projecting\", \"over\", \"the\", \"left\", \"breast\", \".\", \"remote\", \"left\", \"sided\", \"rib\", \"fractures\", \"are\", \"also\", \"re\", \"demonstrated\", \".\"], \"tokenPos\": [0, 4, 11, 13, 25, 29, 35, 44, 48, 54, 56, 66, 78, 81, 87, 90, 96, 100, 105, 107, 110, 118, 127, 130, 143, 146, 153, 155, 164, 170, 174, 180, 185, 196, 201, 205, 210, 216, 219, 226, 231, 237, 241, 251, 255, 260, 264, 276], \"sentences\": [{\"text\": \"The cardiac, mediastinal and hilar contours are normal. \", \"startPos\": 0, \"length\": 56, \"tokens\": [\"the\", \"cardiac\", \",\", \"mediastinal\", \"and\", \"hilar\", \"contours\", \"are\", \"normal\", \".\"], \"indicesInSection\": [0, 1, 2, 3, 4, 5, 6, 7, 8, 9], \"phrases\": [{\"text\": \"The cardiac, mediastinal\", \"startPos\": 0, \"length\": 24, \"tokens\": [\"the\", \"cardiac\", \",\", \"mediastinal\"], \"indicesInSection\": [0, 1, 2, 3], \"syntaxChunks\": [{\"text\": \"The\", \"lexicalMatch\": \"the\", \"dependencyTag\": \"det\", \"partOfSpeech\": \"det\", \"tokens\": [\"the\"]}, {\"text\": \"cardiac\", \"lexicalMatch\": \"cardiac\", \"dependencyTag\": \"mod\", \"partOfSpeech\": \"adj\", \"tokens\": [\"cardiac\"]}, {\"text\": \",\", \"lexicalMatch\": \"\", \"dependencyTag\": \"punc\", \"partOfSpeech\": \"\", \"tokens\": [\",\"]}, {\"text\": \"mediastinal\", \"lexicalMatch\": \"mediastinal\", \"dependencyTag\": \"head\", \"partOfSpeech\": \"adj\", \"tokens\": [\"mediastinal\"]}], \"mappings\": [{\"concepts\": [{\"sourceTokens\": [\"cardiac\"], \"startPosList\": [4], \"lengthList\": [7], \"indicesInSection\": [1], \"umlsCUI\": \"C0018787\", \"preferedName\": \"Heart\", \"hitTerm\": \"CARDIAC\", \"categories\": [\"bpoc\"], \"isHead\": 0, \"isNegated\": 0}, {\"sourceTokens\": [\"mediastinal\"], \"startPosList\": [13], \"lengthList\": [11], \"indicesInSection\": [3], \"umlsCUI\": \"C0025066\", \"preferedName\": \"Mediastinum\", \"hitTerm\": \"Mediastinal\", \"categories\": [\"blor\"], \"isHead\": 0, \"isNegated\": 0}]}, {\"concepts\": [{\"sourceTokens\": [\"cardiac\"], \"startPosList\": [4], \"lengthList\": [7], \"indicesInSection\": [1], \"umlsCUI\": \"C0018787\", \"preferedName\": \"Heart\", \"hitTerm\": \"CARDIAC\", \"categories\": [\"bpoc\"], \"isHead\": 0, \"isNegated\": 0}, {\"sourceTokens\": [\"mediastinal\"], \"startPosList\": [13], \"lengthList\": [11], \"indicesInSection\": [3], \"umlsCUI\": \"C1522718\", \"preferedName\": \"Mediastinal\", \"hitTerm\": \"Mediastinal\", \"categories\": [\"spco\"], \"isHead\": 0, \"isNegated\": 0}]}, {\"concepts\": [{\"sourceTokens\": [\"cardiac\"], \"startPosList\": [4], \"lengthList\": [7], \"indicesInSection\": [1], \"umlsCUI\": \"C1314974\", \"preferedName\": \"Cardiac attachment\", \"hitTerm\": \"Cardiac\", \"categories\": [\"inpr\"], \"isHead\": 0, \"isNegated\": 0}, {\"sourceTokens\": [\"mediastinal\"], \"startPosList\": [13], \"lengthList\": [11], \"indicesInSection\": [3], \"umlsCUI\": \"C0025066\", \"preferedName\": \"Mediastinum\", \"hitTerm\": \"Mediastinal\", \"categories\": [\"blor\"], \"isHead\": 0, \"isNegated\": 0}]}, {\"concepts\": [{\"sourceTokens\": [\"cardiac\"], \"startPosList\": [4], \"lengthList\": [7], \"indicesInSection\": [1], \"umlsCUI\": \"C1314974\", \"preferedName\": \"Cardiac attachment\", \"hitTerm\": \"Cardiac\", \"categories\": [\"inpr\"], \"isHead\": 0, \"isNegated\": 0}, {\"sourceTokens\": [\"mediastinal\"], \"startPosList\": [13], \"lengthList\": [11], \"indicesInSection\": [3], \"umlsCUI\": \"C1522718\", \"preferedName\": \"Mediastinal\", \"hitTerm\": \"Mediastinal\", \"categories\": [\"spco\"], \"isHead\": 0, \"isNegated\": 0}]}, {\"concepts\": [{\"sourceTokens\": [\"cardiac\"], \"startPosList\": [4], \"lengthList\": [7], \"indicesInSection\": [1], \"umlsCUI\": \"C1522601\", \"preferedName\": \"Cardiac - anatomy qualifier\", \"hitTerm\": \"Cardiac\", \"categories\": [\"qlco\"], \"isHead\": 0, \"isNegated\": 0}, {\"sourceTokens\": [\"mediastinal\"], \"startPosList\": [13], \"lengthList\": [11], \"indicesInSection\": [3], \"umlsCUI\": \"C0025066\", \"preferedName\": \"Mediastinum\", \"hitTerm\": \"Mediastinal\", \"categories\": [\"blor\"], \"isHead\": 0, \"isNegated\": 0}]}, {\"concepts\": [{\"sourceTokens\": [\"cardiac\"], \"startPosList\": [4], \"lengthList\": [7], \"indicesInSection\": [1], \"umlsCUI\": \"C1522601\", \"preferedName\": \"Cardiac - anatomy qualifier\", \"hitTerm\": \"Cardiac\", \"categories\": [\"qlco\"], \"isHead\": 0, \"isNegated\": 0}, {\"sourceTokens\": [\"mediastinal\"], \"startPosList\": [13], \"lengthList\": [11], \"indicesInSection\": [3], \"umlsCUI\": \"C1522718\", \"preferedName\": \"Mediastinal\", \"hitTerm\": \"Mediastinal\", \"categories\": [\"spco\"], \"isHead\": 0, \"isNegated\": 0}]}]}, {\"text\": \"and\", \"startPos\": 25, \"length\": 3, \"tokens\": [\"and\"], \"indicesInSection\": [4], \"syntaxChunks\": [{\"text\": \"and\", \"lexicalMatch\": \"and\", \"dependencyTag\": \"conj\", \"partOfSpeech\": \"conj\", \"tokens\": [\"and\"]}], \"mappings\": []}, {\"text\": \"hilar contours\", \"startPos\": 29, \"length\": 14, \"tokens\": [\"hilar\", \"contours\"], \"indicesInSection\": [5, 6], \"syntaxChunks\": [{\"text\": \"hilar\", \"lexicalMatch\": \"hilar\", \"dependencyTag\": \"mod\", \"partOfSpeech\": \"adj\", \"tokens\": [\"hilar\"]}, {\"text\": \"contours\", \"lexicalMatch\": \"contours\", \"dependencyTag\": \"head\", \"partOfSpeech\": \"noun\", \"tokens\": [\"contours\"]}], \"mappings\": [{\"concepts\": [{\"sourceTokens\": [\"hilar\"], \"startPosList\": [29], \"lengthList\": [5], \"indicesInSection\": [5], \"umlsCUI\": \"C0205150\", \"preferedName\": \"Hilar\", \"hitTerm\": \"HILAR\", \"categories\": [\"spco\"], \"isHead\": 0, \"isNegated\": 0}, {\"sourceTokens\": [\"contours\"], \"startPosList\": [35], \"lengthList\": [8], \"indicesInSection\": [6], \"umlsCUI\": \"C0876954\", \"preferedName\": \"Contour form\", \"hitTerm\": \"Contours\", \"categories\": [\"spco\"], \"isHead\": 0, \"isNegated\": 0}]}]}, {\"text\": \"are\", \"startPos\": 44, \"length\": 3, \"tokens\": [\"are\"], \"indicesInSection\": [7], \"syntaxChunks\": [{\"text\": \"are\", \"lexicalMatch\": \"are\", \"dependencyTag\": \"aux\", \"partOfSpeech\": \"aux\", \"tokens\": [\"are\"]}], \"mappings\": []}, {\"text\": \"normal.\", \"startPos\": 48, \"length\": 7, \"tokens\": [\"normal\", \".\"], \"indicesInSection\": [8, 9], \"syntaxChunks\": [{\"text\": \"normal\", \"lexicalMatch\": \"normal\", \"dependencyTag\": \"head\", \"partOfSpeech\": \"adj\", \"tokens\": [\"normal\"]}, {\"text\": \".\", \"lexicalMatch\": \"\", \"dependencyTag\": \"punc\", \"partOfSpeech\": \"\", \"tokens\": [\".\"]}], \"mappings\": [{\"concepts\": [{\"sourceTokens\": [\"normal\"], \"startPosList\": [48], \"lengthList\": [6], \"indicesInSection\": [8], \"umlsCUI\": \"C0040300\", \"preferedName\": \"Body tissue\", \"hitTerm\": \"Normal\", \"categories\": [\"tisu\"], \"isHead\": 0, \"isNegated\": 0}]}, {\"concepts\": [{\"sourceTokens\": [\"normal\"], \"startPosList\": [48], \"lengthList\": [6], \"indicesInSection\": [8], \"umlsCUI\": \"C0205307\", \"preferedName\": \"Normal\", \"hitTerm\": \"NORMAL\", \"categories\": [\"qlco\"], \"isHead\": 0, \"isNegated\": 0}]}, {\"concepts\": [{\"sourceTokens\": [\"normal\"], \"startPosList\": [48], \"lengthList\": [6], \"indicesInSection\": [8], \"umlsCUI\": \"C0232357\", \"preferedName\": \"Normal Capillary Refill Time\", \"hitTerm\": \"Normal\", \"categories\": [\"fndg\"], \"isHead\": 0, \"isNegated\": 0}]}, {\"concepts\": [{\"sourceTokens\": [\"normal\"], \"startPosList\": [48], \"lengthList\": [6], \"indicesInSection\": [8], \"umlsCUI\": \"C0439166\", \"preferedName\": \"Percent normal\", \"hitTerm\": \"% normal\", \"categories\": [\"qnco\"], \"isHead\": 0, \"isNegated\": 0}]}, {\"concepts\": [{\"sourceTokens\": [\"normal\"], \"startPosList\": [48], \"lengthList\": [6], \"indicesInSection\": [8], \"umlsCUI\": \"C2347086\", \"preferedName\": \"Mean Percent of Normal\", \"hitTerm\": \"% Normal\", \"categories\": [\"qnco\"], \"isHead\": 0, \"isNegated\": 0}]}, {\"concepts\": [{\"sourceTokens\": [\"normal\"], \"startPosList\": [48], \"lengthList\": [6], \"indicesInSection\": [8], \"umlsCUI\": \"C4553972\", \"preferedName\": \"How Often Felt Normal question\", \"hitTerm\": \"Normal\", \"categories\": [\"inpr\"], \"isHead\": 0, \"isNegated\": 0}]}, {\"concepts\": [{\"sourceTokens\": [\"normal\"], \"startPosList\": [48], \"lengthList\": [6], \"indicesInSection\": [8], \"umlsCUI\": \"C5200925\", \"preferedName\": \"Normal Gait\", \"hitTerm\": \"Normal\", \"categories\": [\"fndg\"], \"isHead\": 0, \"isNegated\": 0}]}, {\"concepts\": [{\"sourceTokens\": [\"normal\"], \"startPosList\": [48], \"lengthList\": [6], \"indicesInSection\": [8], \"umlsCUI\": \"C5202633\", \"preferedName\": \"Normal Immune Presence\", \"hitTerm\": \"Normal\", \"categories\": [\"fndg\"], \"isHead\": 0, \"isNegated\": 0}]}, {\"concepts\": [{\"sourceTokens\": [\"normal\"], \"startPosList\": [48], \"lengthList\": [6], \"indicesInSection\": [8], \"umlsCUI\": \"C5235018\", \"preferedName\": \"Normal Abdomen on Palpation\", \"hitTerm\": \"Normal\", \"categories\": [\"fndg\"], \"isHead\": 0, \"isNegated\": 0}]}, {\"concepts\": [{\"sourceTokens\": [\"normal\"], \"startPosList\": [48], \"lengthList\": [6], \"indicesInSection\": [8], \"umlsCUI\": \"C5235188\", \"preferedName\": \"Normal Precordial Palpation Finding\", \"hitTerm\": \"Normal\", \"categories\": [\"fndg\"], \"isHead\": 0, \"isNegated\": 0}]}, {\"concepts\": [{\"sourceTokens\": [\"normal\"], \"startPosList\": [48], \"lengthList\": [6], \"indicesInSection\": [8], \"umlsCUI\": \"C5235189\", \"preferedName\": \"Normal Abdomen on Visual Inspection\", \"hitTerm\": \"Normal\", \"categories\": [\"fndg\"], \"isHead\": 0, \"isNegated\": 0}]}, {\"concepts\": [{\"sourceTokens\": [\"normal\"], \"startPosList\": [48], \"lengthList\": [6], \"indicesInSection\": [8], \"umlsCUI\": \"C5235193\", \"preferedName\": \"Normal Chest Appearance\", \"hitTerm\": \"Normal\", \"categories\": [\"fndg\"], \"isHead\": 0, \"isNegated\": 0}]}, {\"concepts\": [{\"sourceTokens\": [\"normal\"], \"startPosList\": [48], \"lengthList\": [6], \"indicesInSection\": [8], \"umlsCUI\": \"C5235194\", \"preferedName\": \"Normal Appearance of Extremities\", \"hitTerm\": \"Normal\", \"categories\": [\"fndg\"], \"isHead\": 0, \"isNegated\": 0}]}, {\"concepts\": [{\"sourceTokens\": [\"normal\"], \"startPosList\": [48], \"lengthList\": [6], \"indicesInSection\": [8], \"umlsCUI\": \"C5235195\", \"preferedName\": \"Normal Male External Genitalia\", \"hitTerm\": \"Normal\", \"categories\": [\"fndg\"], \"isHead\": 0, \"isNegated\": 0}]}, {\"concepts\": [{\"sourceTokens\": [\"normal\"], \"startPosList\": [48], \"lengthList\": [6], \"indicesInSection\": [8], \"umlsCUI\": \"C5238822\", \"preferedName\": \"Normal Point of Maximum Impulse\", \"hitTerm\": \"Normal\", \"categories\": [\"fndg\"], \"isHead\": 0, \"isNegated\": 0}]}]}]}, {\"text\": \"Pulmonary vasculature is normal.  \", \"startPos\": 56, \"length\": 34, \"tokens\": [\"pulmonary\", \"vasculature\", \"is\", \"normal\", \".\"], \"indicesInSection\": [10, 11, 12, 13, 14], \"phrases\": [{\"text\": \"Pulmonary vasculature\", \"startPos\": 56, \"length\": 21, \"tokens\": [\"pulmonary\", \"vasculature\"], \"indicesInSection\": [10, 11], \"syntaxChunks\": [{\"text\": \"Pulmonary\", \"lexicalMatch\": \"pulmonary\", \"dependencyTag\": \"mod\", \"partOfSpeech\": \"adj\", \"tokens\": [\"pulmonary\"]}, {\"text\": \"vasculature\", \"lexicalMatch\": \"vasculature\", \"dependencyTag\": \"head\", \"partOfSpeech\": \"noun\", \"tokens\": [\"vasculature\"]}], \"mappings\": [{\"concepts\": [{\"sourceTokens\": [\"pulmonary\", \"vasculature\"], \"startPosList\": [56], \"lengthList\": [21], \"indicesInSection\": [10, 11], \"umlsCUI\": \"C0489877\", \"preferedName\": \"Vasculature of lung\", \"hitTerm\": \"Pulmonary vasculature\", \"categories\": [\"bpoc\"], \"isHead\": 0, \"isNegated\": 0}]}]}, {\"text\": \"is\", \"startPos\": 78, \"length\": 2, \"tokens\": [\"is\"], \"indicesInSection\": [12], \"syntaxChunks\": [{\"text\": \"is\", \"lexicalMatch\": \"is\", \"dependencyTag\": \"aux\", \"partOfSpeech\": \"aux\", \"tokens\": [\"is\"]}], \"mappings\": []}, {\"text\": \"normal.\", \"startPos\": 81, \"length\": 7, \"tokens\": [\"normal\", \".\"], \"indicesInSection\": [13, 14], \"syntaxChunks\": [{\"text\": \"normal\", \"lexicalMatch\": \"normal\", \"dependencyTag\": \"head\", \"partOfSpeech\": \"adj\", \"tokens\": [\"normal\"]}, {\"text\": \".\", \"lexicalMatch\": \"\", \"dependencyTag\": \"punc\", \"partOfSpeech\": \"\", \"tokens\": [\".\"]}], \"mappings\": [{\"concepts\": [{\"sourceTokens\": [\"normal\"], \"startPosList\": [81], \"lengthList\": [6], \"indicesInSection\": [13], \"umlsCUI\": \"C0040300\", \"preferedName\": \"Body tissue\", \"hitTerm\": \"Normal\", \"categories\": [\"tisu\"], \"isHead\": 0, \"isNegated\": 0}]}, {\"concepts\": [{\"sourceTokens\": [\"normal\"], \"startPosList\": [81], \"lengthList\": [6], \"indicesInSection\": [13], \"umlsCUI\": \"C0205307\", \"preferedName\": \"Normal\", \"hitTerm\": \"NORMAL\", \"categories\": [\"qlco\"], \"isHead\": 0, \"isNegated\": 0}]}, {\"concepts\": [{\"sourceTokens\": [\"normal\"], \"startPosList\": [81], \"lengthList\": [6], \"indicesInSection\": [13], \"umlsCUI\": \"C0232357\", \"preferedName\": \"Normal Capillary Refill Time\", \"hitTerm\": \"Normal\", \"categories\": [\"fndg\"], \"isHead\": 0, \"isNegated\": 0}]}, {\"concepts\": [{\"sourceTokens\": [\"normal\"], \"startPosList\": [81], \"lengthList\": [6], \"indicesInSection\": [13], \"umlsCUI\": \"C0439166\", \"preferedName\": \"Percent normal\", \"hitTerm\": \"% normal\", \"categories\": [\"qnco\"], \"isHead\": 0, \"isNegated\": 0}]}, {\"concepts\": [{\"sourceTokens\": [\"normal\"], \"startPosList\": [81], \"lengthList\": [6], \"indicesInSection\": [13], \"umlsCUI\": \"C2347086\", \"preferedName\": \"Mean Percent of Normal\", \"hitTerm\": \"% Normal\", \"categories\": [\"qnco\"], \"isHead\": 0, \"isNegated\": 0}]}, {\"concepts\": [{\"sourceTokens\": [\"normal\"], \"startPosList\": [81], \"lengthList\": [6], \"indicesInSection\": [13], \"umlsCUI\": \"C4553972\", \"preferedName\": \"How Often Felt Normal question\", \"hitTerm\": \"Normal\", \"categories\": [\"inpr\"], \"isHead\": 0, \"isNegated\": 0}]}, {\"concepts\": [{\"sourceTokens\": [\"normal\"], \"startPosList\": [81], \"lengthList\": [6], \"indicesInSection\": [13], \"umlsCUI\": \"C5200925\", \"preferedName\": \"Normal Gait\", \"hitTerm\": \"Normal\", \"categories\": [\"fndg\"], \"isHead\": 0, \"isNegated\": 0}]}, {\"concepts\": [{\"sourceTokens\": [\"normal\"], \"startPosList\": [81], \"lengthList\": [6], \"indicesInSection\": [13], \"umlsCUI\": \"C5202633\", \"preferedName\": \"Normal Immune Presence\", \"hitTerm\": \"Normal\", \"categories\": [\"fndg\"], \"isHead\": 0, \"isNegated\": 0}]}, {\"concepts\": [{\"sourceTokens\": [\"normal\"], \"startPosList\": [81], \"lengthList\": [6], \"indicesInSection\": [13], \"umlsCUI\": \"C5235018\", \"preferedName\": \"Normal Abdomen on Palpation\", \"hitTerm\": \"Normal\", \"categories\": [\"fndg\"], \"isHead\": 0, \"isNegated\": 0}]}, {\"concepts\": [{\"sourceTokens\": [\"normal\"], \"startPosList\": [81], \"lengthList\": [6], \"indicesInSection\": [13], \"umlsCUI\": \"C5235188\", \"preferedName\": \"Normal Precordial Palpation Finding\", \"hitTerm\": \"Normal\", \"categories\": [\"fndg\"], \"isHead\": 0, \"isNegated\": 0}]}, {\"concepts\": [{\"sourceTokens\": [\"normal\"], \"startPosList\": [81], \"lengthList\": [6], \"indicesInSection\": [13], \"umlsCUI\": \"C5235189\", \"preferedName\": \"Normal Abdomen on Visual Inspection\", \"hitTerm\": \"Normal\", \"categories\": [\"fndg\"], \"isHead\": 0, \"isNegated\": 0}]}, {\"concepts\": [{\"sourceTokens\": [\"normal\"], \"startPosList\": [81], \"lengthList\": [6], \"indicesInSection\": [13], \"umlsCUI\": \"C5235193\", \"preferedName\": \"Normal Chest Appearance\", \"hitTerm\": \"Normal\", \"categories\": [\"fndg\"], \"isHead\": 0, \"isNegated\": 0}]}, {\"concepts\": [{\"sourceTokens\": [\"normal\"], \"startPosList\": [81], \"lengthList\": [6], \"indicesInSection\": [13], \"umlsCUI\": \"C5235194\", \"preferedName\": \"Normal Appearance of Extremities\", \"hitTerm\": \"Normal\", \"categories\": [\"fndg\"], \"isHead\": 0, \"isNegated\": 0}]}, {\"concepts\": [{\"sourceTokens\": [\"normal\"], \"startPosList\": [81], \"lengthList\": [6], \"indicesInSection\": [13], \"umlsCUI\": \"C5235195\", \"preferedName\": \"Normal Male External Genitalia\", \"hitTerm\": \"Normal\", \"categories\": [\"fndg\"], \"isHead\": 0, \"isNegated\": 0}]}, {\"concepts\": [{\"sourceTokens\": [\"normal\"], \"startPosList\": [81], \"lengthList\": [6], \"indicesInSection\": [13], \"umlsCUI\": \"C5238822\", \"preferedName\": \"Normal Point of Maximum Impulse\", \"hitTerm\": \"Normal\", \"categories\": [\"fndg\"], \"isHead\": 0, \"isNegated\": 0}]}]}]}, {\"text\": \"Lungs are clear. \", \"startPos\": 90, \"length\": 17, \"tokens\": [\"lungs\", \"are\", \"clear\", \".\"], \"indicesInSection\": [15, 16, 17, 18], \"phrases\": [{\"text\": \"Lungs\", \"startPos\": 90, \"length\": 5, \"tokens\": [\"lungs\"], \"indicesInSection\": [15], \"syntaxChunks\": [{\"text\": \"Lungs\", \"lexicalMatch\": \"lungs\", \"dependencyTag\": \"head\", \"partOfSpeech\": \"noun\", \"tokens\": [\"lungs\"]}], \"mappings\": [{\"concepts\": [{\"sourceTokens\": [\"lungs\"], \"startPosList\": [90], \"lengthList\": [5], \"indicesInSection\": [15], \"umlsCUI\": \"C0024109\", \"preferedName\": \"Lung\", \"hitTerm\": \"LUNGS\", \"categories\": [\"bpoc\"], \"isHead\": 0, \"isNegated\": 0}]}]}, {\"text\": \"are\", \"startPos\": 96, \"length\": 3, \"tokens\": [\"are\"], \"indicesInSection\": [16], \"syntaxChunks\": [{\"text\": \"are\", \"lexicalMatch\": \"are\", \"dependencyTag\": \"aux\", \"partOfSpeech\": \"aux\", \"tokens\": [\"are\"]}], \"mappings\": []}, {\"text\": \"clear.\", \"startPos\": 100, \"length\": 6, \"tokens\": [\"clear\", \".\"], \"indicesInSection\": [17, 18], \"syntaxChunks\": [{\"text\": \"clear\", \"lexicalMatch\": \"clear\", \"dependencyTag\": \"head\", \"partOfSpeech\": \"adj\", \"tokens\": [\"clear\"]}, {\"text\": \".\", \"lexicalMatch\": \"\", \"dependencyTag\": \"punc\", \"partOfSpeech\": \"\", \"tokens\": [\".\"]}], \"mappings\": [{\"concepts\": [{\"sourceTokens\": [\"clear\"], \"startPosList\": [100], \"lengthList\": [5], \"indicesInSection\": [17], \"umlsCUI\": \"C1709157\", \"preferedName\": \"Negative Surgical Margin\", \"hitTerm\": \"Clear\", \"categories\": [\"fndg\"], \"isHead\": 0, \"isNegated\": 0}]}, {\"concepts\": [{\"sourceTokens\": [\"clear\"], \"startPosList\": [100], \"lengthList\": [5], \"indicesInSection\": [17], \"umlsCUI\": \"C2963144\", \"preferedName\": \"Clear\", \"hitTerm\": \"Clear\", \"categories\": [\"qlco\"], \"isHead\": 0, \"isNegated\": 0}]}, {\"concepts\": [{\"sourceTokens\": [\"clear\"], \"startPosList\": [100], \"lengthList\": [5], \"indicesInSection\": [17], \"umlsCUI\": \"C4761489\", \"preferedName\": \"Epidermal cGVHD Score 0\", \"hitTerm\": \"Clear\", \"categories\": [\"fndg\"], \"isHead\": 0, \"isNegated\": 0}]}]}]}, {\"text\": \"No pleural effusion or pneumothorax is present. \", \"startPos\": 107, \"length\": 48, \"tokens\": [\"no\", \"pleural\", \"effusion\", \"or\", \"pneumothorax\", \"is\", \"present\", \".\"], \"indicesInSection\": [19, 20, 21, 22, 23, 24, 25, 26], \"phrases\": [{\"text\": \"No pleural effusion\", \"startPos\": 107, \"length\": 19, \"tokens\": [\"no\", \"pleural\", \"effusion\"], \"indicesInSection\": [19, 20, 21], \"syntaxChunks\": [{\"text\": \"No\", \"lexicalMatch\": \"no\", \"dependencyTag\": \"det\", \"partOfSpeech\": \"det\", \"tokens\": [\"no\"]}, {\"text\": \"pleural effusion\", \"lexicalMatch\": \"pleural effusion\", \"dependencyTag\": \"head\", \"partOfSpeech\": \"noun\", \"tokens\": [\"pleural\", \"effusion\"]}], \"mappings\": [{\"concepts\": [{\"sourceTokens\": [\"pleural\", \"effusion\"], \"startPosList\": [110], \"lengthList\": [16], \"indicesInSection\": [20, 21], \"umlsCUI\": \"C0032227\", \"preferedName\": \"Pleural effusion disorder\", \"hitTerm\": \"PLEURAL EFFUSION\", \"categories\": [\"dsyn\"], \"isHead\": 0, \"isNegated\": 0}]}, {\"concepts\": [{\"sourceTokens\": [\"pleural\", \"effusion\"], \"startPosList\": [110], \"lengthList\": [16], \"indicesInSection\": [20, 21], \"umlsCUI\": \"C1253943\", \"preferedName\": \"Pleural effusion fluid\", \"hitTerm\": \"Pleural effusion\", \"categories\": [\"bdsu\"], \"isHead\": 0, \"isNegated\": 0}]}, {\"concepts\": [{\"sourceTokens\": [\"pleural\", \"effusion\"], \"startPosList\": [110], \"lengthList\": [16], \"indicesInSection\": [20, 21], \"umlsCUI\": \"C2073625\", \"preferedName\": \"x-ray of chest: pleural effusion\", \"hitTerm\": \"pleural effusion\", \"categories\": [\"fndg\"], \"isHead\": 0, \"isNegated\": 0}]}, {\"concepts\": [{\"sourceTokens\": [\"pleural\", \"effusion\"], \"startPosList\": [110], \"lengthList\": [16], \"indicesInSection\": [20, 21], \"umlsCUI\": \"C4552777\", \"preferedName\": \"Pleural Effusion, CTCAE\", \"hitTerm\": \"Pleural Effusion\", \"categories\": [\"fndg\"], \"isHead\": 0, \"isNegated\": 0}]}]}, {\"text\": \"or\", \"startPos\": 127, \"length\": 2, \"tokens\": [\"or\"], \"indicesInSection\": [22], \"syntaxChunks\": [{\"text\": \"or\", \"lexicalMatch\": \"or\", \"dependencyTag\": \"conj\", \"partOfSpeech\": \"conj\", \"tokens\": [\"or\"]}], \"mappings\": []}, {\"text\": \"pneumothorax\", \"startPos\": 130, \"length\": 12, \"tokens\": [\"pneumothorax\"], \"indicesInSection\": [23], \"syntaxChunks\": [{\"text\": \"pneumothorax\", \"lexicalMatch\": \"pneumothorax\", \"dependencyTag\": \"head\", \"partOfSpeech\": \"noun\", \"tokens\": [\"pneumothorax\"]}], \"mappings\": [{\"concepts\": [{\"sourceTokens\": [\"pneumothorax\"], \"startPosList\": [130], \"lengthList\": [12], \"indicesInSection\": [23], \"umlsCUI\": \"C0032326\", \"preferedName\": \"Pneumothorax\", \"hitTerm\": \"PNEUMOTHORAX\", \"categories\": [\"dsyn\"], \"isHead\": 0, \"isNegated\": 0}]}, {\"concepts\": [{\"sourceTokens\": [\"pneumothorax\"], \"startPosList\": [130], \"lengthList\": [12], \"indicesInSection\": [23], \"umlsCUI\": \"C1963215\", \"preferedName\": \"Pneumothorax, CTCAE\", \"hitTerm\": \"Pneumothorax\", \"categories\": [\"fndg\"], \"isHead\": 0, \"isNegated\": 0}]}]}, {\"text\": \"is\", \"startPos\": 143, \"length\": 2, \"tokens\": [\"is\"], \"indicesInSection\": [24], \"syntaxChunks\": [{\"text\": \"is\", \"lexicalMatch\": \"is\", \"dependencyTag\": \"aux\", \"partOfSpeech\": \"aux\", \"tokens\": [\"is\"]}], \"mappings\": []}, {\"text\": \"present.\", \"startPos\": 146, \"length\": 8, \"tokens\": [\"present\", \".\"], \"indicesInSection\": [25, 26], \"syntaxChunks\": [{\"text\": \"present\", \"lexicalMatch\": \"present\", \"dependencyTag\": \"head\", \"partOfSpeech\": \"adj\", \"tokens\": [\"present\"]}, {\"text\": \".\", \"lexicalMatch\": \"\", \"dependencyTag\": \"punc\", \"partOfSpeech\": \"\", \"tokens\": [\".\"]}], \"mappings\": [{\"concepts\": [{\"sourceTokens\": [\"present\"], \"startPosList\": [146], \"lengthList\": [7], \"indicesInSection\": [25], \"umlsCUI\": \"C0150312\", \"preferedName\": \"Present\", \"hitTerm\": \"PRESENT\", \"categories\": [\"fndg\"], \"isHead\": 0, \"isNegated\": 0}]}, {\"concepts\": [{\"sourceTokens\": [\"present\"], \"startPosList\": [146], \"lengthList\": [7], \"indicesInSection\": [25], \"umlsCUI\": \"C0449450\", \"preferedName\": \"Presentation\", \"hitTerm\": \"Present\", \"categories\": [\"idcn\"], \"isHead\": 0, \"isNegated\": 0}]}, {\"concepts\": [{\"sourceTokens\": [\"present\"], \"startPosList\": [146], \"lengthList\": [7], \"indicesInSection\": [25], \"umlsCUI\": \"C5238858\", \"preferedName\": \"Radial-Femoral Lag Present\", \"hitTerm\": \"Present\", \"categories\": [\"fndg\"], \"isHead\": 0, \"isNegated\": 0}]}]}]}, {\"text\": \"Multiple clips are again seen projecting over the left breast.  \", \"startPos\": 155, \"length\": 64, \"tokens\": [\"multiple\", \"clips\", \"are\", \"again\", \"seen\", \"projecting\", \"over\", \"the\", \"left\", \"breast\", \".\"], \"indicesInSection\": [27, 28, 29, 30, 31, 32, 33, 34, 35, 36, 37], \"phrases\": [{\"text\": \"Multiple clips\", \"startPos\": 155, \"length\": 14, \"tokens\": [\"multiple\", \"clips\"], \"indicesInSection\": [27, 28], \"syntaxChunks\": [{\"text\": \"Multiple\", \"lexicalMatch\": \"multiple\", \"dependencyTag\": \"mod\", \"partOfSpeech\": \"adj\", \"tokens\": [\"multiple\"]}, {\"text\": \"clips\", \"lexicalMatch\": \"clips\", \"dependencyTag\": \"head\", \"partOfSpeech\": \"noun\", \"tokens\": [\"clips\"]}], \"mappings\": [{\"concepts\": [{\"sourceTokens\": [\"multiple\"], \"startPosList\": [155], \"lengthList\": [8], \"indicesInSection\": [27], \"umlsCUI\": \"C0439064\", \"preferedName\": \"Numerous\", \"hitTerm\": \"MULTIPLE\", \"categories\": [\"qnco\"], \"isHead\": 0, \"isNegated\": 0}, {\"sourceTokens\": [\"clips\"], \"startPosList\": [164], \"lengthList\": [5], \"indicesInSection\": [28], \"umlsCUI\": \"C0175722\", \"preferedName\": \"Clip\", \"hitTerm\": \"Clips\", \"categories\": [\"medd\"], \"isHead\": 0, \"isNegated\": 0}]}, {\"concepts\": [{\"sourceTokens\": [\"multiple\"], \"startPosList\": [155], \"lengthList\": [8], \"indicesInSection\": [27], \"umlsCUI\": \"C0439064\", \"preferedName\": \"Numerous\", \"hitTerm\": \"MULTIPLE\", \"categories\": [\"qnco\"], \"isHead\": 0, \"isNegated\": 0}, {\"sourceTokens\": [\"clip\"], \"startPosList\": [164], \"lengthList\": [5], \"indicesInSection\": [28], \"umlsCUI\": \"C3812382\", \"preferedName\": \"Cross-Linking and Immunoprecipitation\", \"hitTerm\": \"CLIP\", \"categories\": [\"lbpr\"], \"isHead\": 0, \"isNegated\": 0}]}]}, {\"text\": \"are\", \"startPos\": 170, \"length\": 3, \"tokens\": [\"are\"], \"indicesInSection\": [29], \"syntaxChunks\": [{\"text\": \"are\", \"lexicalMatch\": \"are\", \"dependencyTag\": \"aux\", \"partOfSpeech\": \"aux\", \"tokens\": [\"are\"]}], \"mappings\": []}, {\"text\": \"again\", \"startPos\": 174, \"length\": 5, \"tokens\": [\"again\"], \"indicesInSection\": [30], \"syntaxChunks\": [{\"text\": \"again\", \"lexicalMatch\": \"again\", \"dependencyTag\": \"adv\", \"partOfSpeech\": \"adv\", \"tokens\": [\"again\"]}], \"mappings\": []}, {\"text\": \"seen\", \"startPos\": 180, \"length\": 4, \"tokens\": [\"seen\"], \"indicesInSection\": [31], \"syntaxChunks\": [{\"text\": \"seen\", \"lexicalMatch\": \"seen\", \"dependencyTag\": \"verb\", \"partOfSpeech\": \"verb\", \"tokens\": [\"seen\"]}], \"mappings\": [{\"concepts\": [{\"sourceTokens\": [\"seen\"], \"startPosList\": [180], \"lengthList\": [4], \"indicesInSection\": [31], \"umlsCUI\": \"C0205397\", \"preferedName\": \"seen\", \"hitTerm\": \"Seen\", \"categories\": [\"qlco\"], \"isHead\": 0, \"isNegated\": 0}]}]}, {\"text\": \"projecting over the left breast.\", \"startPos\": 185, \"length\": 32, \"tokens\": [\"projecting\", \"over\", \"the\", \"left\", \"breast\", \".\"], \"indicesInSection\": [32, 33, 34, 35, 36, 37], \"syntaxChunks\": [{\"text\": \"projecting\", \"lexicalMatch\": \"projecting\", \"dependencyTag\": \"verb\", \"partOfSpeech\": \"verb\", \"tokens\": [\"projecting\"]}, {\"text\": \"over\", \"lexicalMatch\": \"over\", \"dependencyTag\": \"prep\", \"partOfSpeech\": \"prep\", \"tokens\": [\"over\"]}, {\"text\": \"the\", \"lexicalMatch\": \"the\", \"dependencyTag\": \"det\", \"partOfSpeech\": \"det\", \"tokens\": [\"the\"]}, {\"text\": \"left breast\", \"lexicalMatch\": \"left breast\", \"dependencyTag\": \"mod\", \"partOfSpeech\": \"noun\", \"tokens\": [\"left\", \"breast\"]}, {\"text\": \".\", \"lexicalMatch\": \"\", \"dependencyTag\": \"punc\", \"partOfSpeech\": \"\", \"tokens\": [\".\"]}], \"mappings\": [{\"concepts\": [{\"sourceTokens\": [\"project\"], \"startPosList\": [185], \"lengthList\": [10], \"indicesInSection\": [32], \"umlsCUI\": \"C1709701\", \"preferedName\": \"Project\", \"hitTerm\": \"Project\", \"categories\": [\"cnce\"], \"isHead\": 0, \"isNegated\": 0}, {\"sourceTokens\": [\"left\", \"breast\"], \"startPosList\": [205], \"lengthList\": [11], \"indicesInSection\": [35, 36], \"umlsCUI\": \"C0222601\", \"preferedName\": \"Left breast\", \"hitTerm\": \"Left Breast\", \"categories\": [\"bpoc\"], \"isHead\": 0, \"isNegated\": 0}]}, {\"concepts\": [{\"sourceTokens\": [\"project\"], \"startPosList\": [185], \"lengthList\": [10], \"indicesInSection\": [32], \"umlsCUI\": \"C5236848\", \"preferedName\": \"Project Name\", \"hitTerm\": \"project\", \"categories\": [\"inpr\"], \"isHead\": 0, \"isNegated\": 0}, {\"sourceTokens\": [\"left\", \"breast\"], \"startPosList\": [205], \"lengthList\": [11], \"indicesInSection\": [35, 36], \"umlsCUI\": \"C0222601\", \"preferedName\": \"Left breast\", \"hitTerm\": \"Left Breast\", \"categories\": [\"bpoc\"], \"isHead\": 0, \"isNegated\": 0}]}]}]}, {\"text\": \"Remote left-sided rib fractures are also re- demonstrated.\", \"startPos\": 219, \"length\": 58, \"tokens\": [\"remote\", \"left\", \"sided\", \"rib\", \"fractures\", \"are\", \"also\", \"re\", \"demonstrated\", \".\"], \"indicesInSection\": [38, 39, 40, 41, 42, 43, 44, 45, 46, 47], \"phrases\": [{\"text\": \"Remote left-sided rib fractures\", \"startPos\": 219, \"length\": 31, \"tokens\": [\"remote\", \"left\", \"sided\", \"rib\", \"fractures\"], \"indicesInSection\": [38, 39, 40, 41, 42], \"syntaxChunks\": [{\"text\": \"Remote\", \"lexicalMatch\": \"remote\", \"dependencyTag\": \"mod\", \"partOfSpeech\": \"adj\", \"tokens\": [\"remote\"]}, {\"text\": \"left - sided\", \"lexicalMatch\": \"left-sided\", \"dependencyTag\": \"mod\", \"partOfSpeech\": \"adj\", \"tokens\": [\"left\", \"sided\"]}, {\"text\": \"rib\", \"lexicalMatch\": \"rib\", \"dependencyTag\": \"mod\", \"partOfSpeech\": \"noun\", \"tokens\": [\"rib\"]}, {\"text\": \"fractures\", \"lexicalMatch\": \"fractures\", \"dependencyTag\": \"head\", \"partOfSpeech\": \"noun\", \"tokens\": [\"fractures\"]}], \"mappings\": [{\"concepts\": [{\"sourceTokens\": [\"remote\"], \"startPosList\": [219], \"lengthList\": [6], \"indicesInSection\": [38], \"umlsCUI\": \"C0205157\", \"preferedName\": \"Remote\", \"hitTerm\": \"Remote\", \"categories\": [\"spco\"], \"isHead\": 0, \"isNegated\": 0}, {\"sourceTokens\": [\"left\", \"sided\"], \"startPosList\": [226], \"lengthList\": [10], \"indicesInSection\": [39, 40], \"umlsCUI\": \"C0205091\", \"preferedName\": \"Left\", \"hitTerm\": \"left sided\", \"categories\": [\"spco\"], \"isHead\": 0, \"isNegated\": 0}, {\"sourceTokens\": [\"rib\", \"fractures\"], \"startPosList\": [237], \"lengthList\": [13], \"indicesInSection\": [41, 42], \"umlsCUI\": \"C0035522\", \"preferedName\": \"Rib Fractures\", \"hitTerm\": \"Rib Fractures\", \"categories\": [\"inpo\"], \"isHead\": 0, \"isNegated\": 0}]}, {\"concepts\": [{\"sourceTokens\": [\"remote\"], \"startPosList\": [219], \"lengthList\": [6], \"indicesInSection\": [38], \"umlsCUI\": \"C0205157\", \"preferedName\": \"Remote\", \"hitTerm\": \"Remote\", \"categories\": [\"spco\"], \"isHead\": 0, \"isNegated\": 0}, {\"sourceTokens\": [\"left\", \"sided\"], \"startPosList\": [226], \"lengthList\": [10], \"indicesInSection\": [39, 40], \"umlsCUI\": \"C0443246\", \"preferedName\": \"Left sided\", \"hitTerm\": \"LEFT-SIDED\", \"categories\": [\"spco\"], \"isHead\": 0, \"isNegated\": 0}, {\"sourceTokens\": [\"rib\", \"fractures\"], \"startPosList\": [237], \"lengthList\": [13], \"indicesInSection\": [41, 42], \"umlsCUI\": \"C0035522\", \"preferedName\": \"Rib Fractures\", \"hitTerm\": \"Rib Fractures\", \"categories\": [\"inpo\"], \"isHead\": 0, \"isNegated\": 0}]}, {\"concepts\": [{\"sourceTokens\": [\"remote\"], \"startPosList\": [219], \"lengthList\": [6], \"indicesInSection\": [38], \"umlsCUI\": \"C0443203\", \"preferedName\": \"Distant\", \"hitTerm\": \"Remote\", \"categories\": [\"spco\"], \"isHead\": 0, \"isNegated\": 0}, {\"sourceTokens\": [\"left\", \"sided\"], \"startPosList\": [226], \"lengthList\": [10], \"indicesInSection\": [39, 40], \"umlsCUI\": \"C0205091\", \"preferedName\": \"Left\", \"hitTerm\": \"left sided\", \"categories\": [\"spco\"], \"isHead\": 0, \"isNegated\": 0}, {\"sourceTokens\": [\"rib\", \"fractures\"], \"startPosList\": [237], \"lengthList\": [13], \"indicesInSection\": [41, 42], \"umlsCUI\": \"C0035522\", \"preferedName\": \"Rib Fractures\", \"hitTerm\": \"Rib Fractures\", \"categories\": [\"inpo\"], \"isHead\": 0, \"isNegated\": 0}]}, {\"concepts\": [{\"sourceTokens\": [\"remote\"], \"startPosList\": [219], \"lengthList\": [6], \"indicesInSection\": [38], \"umlsCUI\": \"C0443203\", \"preferedName\": \"Distant\", \"hitTerm\": \"Remote\", \"categories\": [\"spco\"], \"isHead\": 0, \"isNegated\": 0}, {\"sourceTokens\": [\"left\", \"sided\"], \"startPosList\": [226], \"lengthList\": [10], \"indicesInSection\": [39, 40], \"umlsCUI\": \"C0443246\", \"preferedName\": \"Left sided\", \"hitTerm\": \"LEFT-SIDED\", \"categories\": [\"spco\"], \"isHead\": 0, \"isNegated\": 0}, {\"sourceTokens\": [\"rib\", \"fractures\"], \"startPosList\": [237], \"lengthList\": [13], \"indicesInSection\": [41, 42], \"umlsCUI\": \"C0035522\", \"preferedName\": \"Rib Fractures\", \"hitTerm\": \"Rib Fractures\", \"categories\": [\"inpo\"], \"isHead\": 0, \"isNegated\": 0}]}, {\"concepts\": [{\"sourceTokens\": [\"remote\"], \"startPosList\": [219], \"lengthList\": [6], \"indicesInSection\": [38], \"umlsCUI\": \"C1550013\", \"preferedName\": \"location - remote\", \"hitTerm\": \"remote\", \"categories\": [\"spco\"], \"isHead\": 0, \"isNegated\": 0}, {\"sourceTokens\": [\"left\", \"sided\"], \"startPosList\": [226], \"lengthList\": [10], \"indicesInSection\": [39, 40], \"umlsCUI\": \"C0205091\", \"preferedName\": \"Left\", \"hitTerm\": \"left sided\", \"categories\": [\"spco\"], \"isHead\": 0, \"isNegated\": 0}, {\"sourceTokens\": [\"rib\", \"fractures\"], \"startPosList\": [237], \"lengthList\": [13], \"indicesInSection\": [41, 42], \"umlsCUI\": \"C0035522\", \"preferedName\": \"Rib Fractures\", \"hitTerm\": \"Rib Fractures\", \"categories\": [\"inpo\"], \"isHead\": 0, \"isNegated\": 0}]}, {\"concepts\": [{\"sourceTokens\": [\"remote\"], \"startPosList\": [219], \"lengthList\": [6], \"indicesInSection\": [38], \"umlsCUI\": \"C1550013\", \"preferedName\": \"location - remote\", \"hitTerm\": \"remote\", \"categories\": [\"spco\"], \"isHead\": 0, \"isNegated\": 0}, {\"sourceTokens\": [\"left\", \"sided\"], \"startPosList\": [226], \"lengthList\": [10], \"indicesInSection\": [39, 40], \"umlsCUI\": \"C0443246\", \"preferedName\": \"Left sided\", \"hitTerm\": \"LEFT-SIDED\", \"categories\": [\"spco\"], \"isHead\": 0, \"isNegated\": 0}, {\"sourceTokens\": [\"rib\", \"fractures\"], \"startPosList\": [237], \"lengthList\": [13], \"indicesInSection\": [41, 42], \"umlsCUI\": \"C0035522\", \"preferedName\": \"Rib Fractures\", \"hitTerm\": \"Rib Fractures\", \"categories\": [\"inpo\"], \"isHead\": 0, \"isNegated\": 0}]}]}, {\"text\": \"are\", \"startPos\": 251, \"length\": 3, \"tokens\": [\"are\"], \"indicesInSection\": [43], \"syntaxChunks\": [{\"text\": \"are\", \"lexicalMatch\": \"are\", \"dependencyTag\": \"aux\", \"partOfSpeech\": \"aux\", \"tokens\": [\"are\"]}], \"mappings\": []}, {\"text\": \"also\", \"startPos\": 255, \"length\": 4, \"tokens\": [\"also\"], \"indicesInSection\": [44], \"syntaxChunks\": [{\"text\": \"also\", \"lexicalMatch\": \"also\", \"dependencyTag\": \"adv\", \"partOfSpeech\": \"adv\", \"tokens\": [\"also\"]}], \"mappings\": []}, {\"text\": \"re- demonstrated.\", \"startPos\": 260, \"length\": 17, \"tokens\": [\"re\", \"demonstrated\", \".\"], \"indicesInSection\": [45, 46, 47], \"syntaxChunks\": [{\"text\": \"re - demonstrated\", \"lexicalMatch\": \"re-demonstrated\", \"dependencyTag\": \"verb\", \"partOfSpeech\": \"verb\", \"tokens\": [\"re\", \"demonstrated\"]}, {\"text\": \".\", \"lexicalMatch\": \"\", \"dependencyTag\": \"punc\", \"partOfSpeech\": \"\", \"tokens\": [\".\"]}], \"mappings\": [{\"concepts\": [{\"sourceTokens\": [\"re\"], \"startPosList\": [260], \"lengthList\": [2], \"indicesInSection\": [45], \"umlsCUI\": \"C0586866\", \"preferedName\": \"Reproductive endocrinologist\", \"hitTerm\": \"RE\", \"categories\": [\"prog\"], \"isHead\": 0, \"isNegated\": 0}]}, {\"concepts\": [{\"sourceTokens\": [\"re\"], \"startPosList\": [260], \"lengthList\": [2], \"indicesInSection\": [45], \"umlsCUI\": \"C2986904\", \"preferedName\": \"Respiratory Domain\", \"hitTerm\": \"RE\", \"categories\": [\"inpr\"], \"isHead\": 0, \"isNegated\": 0}]}, {\"concepts\": [{\"sourceTokens\": [\"re\"], \"startPosList\": [260], \"lengthList\": [2], \"indicesInSection\": [45], \"umlsCUI\": \"C5392218\", \"preferedName\": \"Effective Reproduction Number\", \"hitTerm\": \"Re\", \"categories\": [\"qnco\"], \"isHead\": 0, \"isNegated\": 0}]}]}]}], \"negations\": [{\"trgger\": {\"text\": \"no\", \"startPosList\": [107], \"lengthList\": [2], \"indicesInSection\": [19]}, \"tarrget\": {\"conceptsCUIs\": [\"C2073625\", \"C4552777\", \"C0032227\"], \"startPosList\": [110], \"lengthList\": [16], \"indicesInSection\": [20, 21]}}, {\"trgger\": {\"text\": \"no\", \"startPosList\": [107], \"lengthList\": [2], \"indicesInSection\": [19]}, \"tarrget\": {\"conceptsCUIs\": [\"C1963215\", \"C0032326\"], \"startPosList\": [130], \"lengthList\": [12], \"indicesInSection\": [23]}}, {\"trgger\": {\"text\": \"no\", \"startPosList\": [107], \"lengthList\": [2], \"indicesInSection\": [19]}, \"tarrget\": {\"conceptsCUIs\": [\"C5238858\", \"C0150312\"], \"startPosList\": [146], \"lengthList\": [7], \"indicesInSection\": [25]}}]}]}]}\n"
     ]
    }
   ],
   "source": [
    "from concurrent.futures import ProcessPoolExecutor, as_completed\n",
    "import json\n",
    "\n",
    "BATCH_SIZE = 2\n",
    "WORKERS_NUM = 1\n",
    "DATA_START_INDEX = 0\n",
    "DATA_END_INDEX = 2\n",
    "# DATA_END_INDEX = DATA_SIZE\n",
    "executor = ProcessPoolExecutor(max_workers=WORKERS_NUM)\n",
    "all_task = [executor.submit(run_metamap, startIndex, BATCH_SIZE) for startIndex in range(DATA_START_INDEX, DATA_END_INDEX, BATCH_SIZE)]\n",
    "\n",
    "for future in as_completed(all_task):\n",
    "    output, idx_inteval = future.result()\n",
    "    # Only the second line is the required JSON string.\n",
    "    id_subList = id_list[idx_inteval[0]:idx_inteval[1]]\n",
    "    json_output = list(output.split(\"\\n\"))[1]\n",
    "    with open(\"/home/yuxiangliao/PhD/output/metamap_output_test.json\",\"w\") as f:\n",
    "        f.write(json_output)\n",
    "    json_obj = json.loads(json_output)\n",
    "    records_batch = parseMetamapJSON(json_obj, id_subList)\n",
    "    print(classToJSON(records_batch))"
   ]
  },
  {
   "cell_type": "markdown",
   "metadata": {},
   "source": [
    "test"
   ]
  },
  {
   "cell_type": "code",
   "execution_count": 470,
   "metadata": {},
   "outputs": [
    {
     "name": "stdout",
     "output_type": "stream",
     "text": [
      "364\n",
      "68\n",
      "71\n",
      "45\n",
      "65\n",
      "42\n",
      "73\n",
      "consolidation\n",
      "['pleural', 'effusion']\n",
      "posterior\n",
      "noted\n"
     ]
    }
   ],
   "source": [
    "s = \"There is no focal consolidation, pleural effusion or pneumothorax.  Bilateral nodular opacities that most likely represent nipple shadows. The cardiomediastinal silhouette is normal.  Clips project over the left lung, potentially within the breast. The imaged upper abdomen is unremarkable. Chronic deformity of the posterior left sixth and seventh ribs are noted.\"\n",
    "tok = [\n",
    "                        \"there\",\n",
    "                        \"is\",\n",
    "                        \"no\",\n",
    "                        \"focal\",\n",
    "                        \"consolidation\",\n",
    "                        \",\",\n",
    "                        \"pleural\",\n",
    "                        \"effusion\",\n",
    "                        \"or\",\n",
    "                        \"pneumothorax\",\n",
    "                        \".\",\n",
    "                        \"bilateral\",\n",
    "                        \"nodular\",\n",
    "                        \"opacities\",\n",
    "                        \"that\",\n",
    "                        \"most\",\n",
    "                        \"likely\",\n",
    "                        \"represent\",\n",
    "                        \"nipple\",\n",
    "                        \"shadows\",\n",
    "                        \".\",\n",
    "                        \"the\",\n",
    "                        \"cardiomediastinal\",\n",
    "                        \"silhouette\",\n",
    "                        \"is\",\n",
    "                        \"normal\",\n",
    "                        \".\",\n",
    "                        \"clips\",\n",
    "                        \"project\",\n",
    "                        \"over\",\n",
    "                        \"the\",\n",
    "                        \"left\",\n",
    "                        \"lung\",\n",
    "                        \",\",\n",
    "                        \"potentially\",\n",
    "                        \"within\",\n",
    "                        \"the\",\n",
    "                        \"breast\",\n",
    "                        \".\",\n",
    "                        \"the\",\n",
    "                        \"imaged\",\n",
    "                        \"upper\",\n",
    "                        \"abdomen\",\n",
    "                        \"is\",\n",
    "                        \"unremarkable\",\n",
    "                        \".\",\n",
    "                        \"chronic\",\n",
    "                        \"deformity\",\n",
    "                        \"of\",\n",
    "                        \"the\",\n",
    "                        \"posterior\",\n",
    "                        \"left\",\n",
    "                        \"sixth\",\n",
    "                        \"and\",\n",
    "                        \"seventh\",\n",
    "                        \"ribs\",\n",
    "                        \"are\",\n",
    "                        \"noted\",\n",
    "                        \".\"\n",
    "                    ]\n",
    "print(len(s))\n",
    "s1 = (\"There is no focal consolidation, pleural effusion or pneumothorax.  \")\n",
    "print(len(s1))\n",
    "s2 = \"Bilateral nodular opacities that most likely represent nipple shadows. \"\n",
    "print(len(s2))\n",
    "s3 = \"The cardiomediastinal silhouette is normal.  \"\n",
    "print(len(s3))\n",
    "s4 = \"Clips project over the left lung, potentially within the breast. \"\n",
    "print(len(s4))\n",
    "s5 = \"The imaged upper abdomen is unremarkable. \"\n",
    "print(len(s5))\n",
    "s6 = \"Chronic deformity of the posterior left sixth and seventh ribs are noted.\"\n",
    "print(len(s6))\n",
    "\n",
    "print(s[18:18+13])\n",
    "print(tok[6:8])\n",
    "\n",
    "print(tok[50])\n",
    "print(tok[57])\n"
   ]
  },
  {
   "cell_type": "code",
   "execution_count": 471,
   "metadata": {},
   "outputs": [
    {
     "name": "stdout",
     "output_type": "stream",
     "text": [
      "['there', 'is', 'no', 'focal', 'consolidation', ',', 'pleural', 'effusion', 'or', 'pneumothorax', '.', 'bilateral', 'nodular', 'opacities', 'that', 'most', 'likely', 'represent', 'nipple', 'shadows', '.', 'the', 'cardiomediastinal', 'silhouette', 'is', 'normal', '.', 'clips', 'project', 'over', 'the', 'left', 'lung', ',', 'potentially', 'within', 'the', 'breast', '.', 'the', 'imaged', 'upper', 'abdomen', 'is', 'unremarkable', '.', 'chronic', 'deformity', 'of', 'the', 'posterior', 'left', 'sixth', 'and', 'seventh', 'ribs', 'are', 'noted', '.']\n",
      "[0, 6, 9, 12, 18, 31, 33, 41, 50, 53, 65, 68, 78, 86, 96, 101, 106, 113, 123, 130, 137, 139, 143, 161, 172, 175, 181, 184, 190, 198, 203, 207, 212, 216, 218, 230, 237, 241, 247, 249, 253, 260, 266, 274, 277, 289, 291, 299, 309, 312, 316, 326, 331, 337, 341, 349, 354, 358, 363]\n",
      "posterior lef\n"
     ]
    }
   ],
   "source": [
    "text = \"There is no focal consolidation, pleural effusion or pneumothorax.  Bilateral nodular opacities that most likely represent nipple shadows. The cardiomediastinal silhouette is normal.  Clips project over the left lung, potentially within the breast. The imaged upper abdomen is unremarkable. Chronic deformity of the posterior left sixth and seventh ribs are noted.\"\n",
    "offset = [0]\n",
    "for i,substring in enumerate(tok):\n",
    "    offset.append(text.lower().find(substring,offset[i],len(text)))\n",
    "offset = offset[1:]\n",
    "print(tok)\n",
    "print(offset)\n",
    "o = 316\n",
    "l = 13\n",
    "print(text[o:o+l])"
   ]
  }
 ],
 "metadata": {
  "kernelspec": {
   "display_name": "Python 3 (ipykernel)",
   "language": "python",
   "name": "python3"
  },
  "orig_nbformat": 4
 },
 "nbformat": 4,
 "nbformat_minor": 2
}
