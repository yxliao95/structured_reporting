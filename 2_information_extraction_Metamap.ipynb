{
 "cells": [
  {
   "cell_type": "code",
   "execution_count": 206,
   "metadata": {},
   "outputs": [
    {
     "data": {
      "text/plain": [
       "'/home/yuxiangliao/PhD'"
      ]
     },
     "execution_count": 206,
     "metadata": {},
     "output_type": "execute_result"
    }
   ],
   "source": [
    "import os\n",
    "os.path.abspath(\"\")"
   ]
  },
  {
   "cell_type": "markdown",
   "metadata": {},
   "source": [
    "# Install Metamap\n",
    "\n",
    "Follow the following instructions:\n",
    "- Install Metamap2020: https://lhncbc.nlm.nih.gov/ii/tools/MetaMap/documentation/Installation.html \n",
    "- Install additional datasets (2022 Specialist Lexicon, 2022AA UMLS NLM Datasets): https://lhncbc.nlm.nih.gov/ii/tools/MetaMap/additional-tools/DataSetDownload.html"
   ]
  },
  {
   "cell_type": "markdown",
   "metadata": {},
   "source": [
    "# Processing"
   ]
  },
  {
   "cell_type": "markdown",
   "metadata": {},
   "source": [
    "## Check if the servers started\n",
    "- taggerServer\n",
    "- DisambiguatorServer"
   ]
  },
  {
   "cell_type": "code",
   "execution_count": 207,
   "metadata": {},
   "outputs": [
    {
     "name": "stdout",
     "output_type": "stream",
     "text": [
      "yuxiang+    6074    1341  0 Jun25 ?        00:03:55 java -Dtaggerserver.port=1795 -DlexFile=/home/yuxiangliao/PhD/UMLS/Metamap/public_mm/MedPost-SKR/data/lexDB.serial -DngramOne=/home/yuxiangliao/PhD/UMLS/Metamap/public_mm/MedPost-SKR/data/ngramOne.serial -cp /home/yuxiangliao/PhD/UMLS/Metamap/public_mm/MedPost-SKR/Tagger_server/lib/taggerServer.jar:/home/yuxiangliao/PhD/UMLS/Metamap/public_mm/MedPost-SKR/Tagger_server/lib/mps.jar taggerServer\n",
      "yuxiang+    6108    1341  0 Jun25 ?        00:04:40 java -Xmx2g -Dserver.config.file=/home/yuxiangliao/PhD/UMLS/Metamap/public_mm/WSD_Server/config/disambServer.cfg -classpath /home/yuxiangliao/PhD/UMLS/Metamap/public_mm/WSD_Server/lib/metamapwsd.jar:/home/yuxiangliao/PhD/UMLS/Metamap/public_mm/WSD_Server/lib/utils.jar:/home/yuxiangliao/PhD/UMLS/Metamap/public_mm/WSD_Server/lib/lucene-core-3.0.1.jar:/home/yuxiangliao/PhD/UMLS/Metamap/public_mm/WSD_Server/lib/monq-1.1.1.jar:/home/yuxiangliao/PhD/UMLS/Metamap/public_mm/WSD_Server/lib/wsd.jar:/home/yuxiangliao/PhD/UMLS/Metamap/public_mm/WSD_Server/lib/kss-api.jar:/home/yuxiangliao/PhD/UMLS/Metamap/public_mm/WSD_Server/lib/thirdparty.jar:/home/yuxiangliao/PhD/UMLS/Metamap/public_mm/WSD_Server/lib/db.jar:/home/yuxiangliao/PhD/UMLS/Metamap/public_mm/WSD_Server/lib/log4j-1.2.8.jar wsd.server.DisambiguatorServer\n",
      "yuxiang+   25380    5451  0 21:49 ?        00:00:00 /bin/sh -c ps -ef | grep java\n",
      "yuxiang+   25382   25380  0 21:49 ?        00:00:00 grep java\n",
      "\n"
     ]
    }
   ],
   "source": [
    "import os\n",
    "cmd = 'ps -ef | grep java'\n",
    "out = os.popen(cmd)\n",
    "print(out.read())"
   ]
  },
  {
   "cell_type": "markdown",
   "metadata": {},
   "source": [
    "## Load data"
   ]
  },
  {
   "cell_type": "markdown",
   "metadata": {},
   "source": [
    "## Run command"
   ]
  },
  {
   "cell_type": "code",
   "execution_count": 194,
   "metadata": {},
   "outputs": [],
   "source": [
    "# Documentation: https://lhncbc.nlm.nih.gov/ii/tools/MetaMap/Docs/MM_2016_Usage.pdf\n",
    "def get_metamap_command():\n",
    "    command = format_command_arg(\"metamap\")\n",
    "    command += format_command_arg(\"-V NLM\")                # Data Version: -V (--mm data version) [Base, USAbase, NLM]\n",
    "    command += format_command_arg(\"-Z 2022AA\")             # Knowledge Source: -Z (--mm data year)\n",
    "    command += format_command_arg(\"--silent\")              # Hide Header Output: --silent\n",
    "    command += format_command_arg(\"-C\")                    # Data Model: [-A (--strict model), -C (--relaxed model)]\n",
    "    command += format_command_arg(\"--JSONn\")               # Output format: [-q (--machine output), --XMLf, --XMLn, --XMLf1, --XMLn1, --JSONf, --JSONn, -N (--fielded mmi output), -F (--formal tagger output)]\n",
    "    # command += \" --conj\"                                   # Turn on Conjunction Processing\n",
    "    # command += \" -y\"                                       # Word-Sense Disambiguation: -y (--word sense disambiguation)\n",
    "    UDA_path = \"/home/yuxiangliao/PhD/UMLS/custom-resources/custom-word-replacement\"\n",
    "    command += format_command_arg(f\"--UDA {UDA_path}\")     # User-Defined Acronyms/Abbreviations (word replacement): --UDA <file>\n",
    "    # semantic_types = \"virs,cgab,acab,ffas,bpoc,medd,tmco,qlco,qnco,bsoj,blor,fndg,sosy,topp,ortf,patf,dsyn,inpo\"\n",
    "    # commend += f\"-J {semantic_types}\"                      # Retain only Concepts with Specified Semantic Types: -J (--restrict to sts) <list>\n",
    "    # command += format_command_arg(\"-I\")                    # For human readable output\n",
    "    return command\n",
    "\n",
    "def format_command_arg(arg):\n",
    "    return \" \" + arg"
   ]
  },
  {
   "cell_type": "code",
   "execution_count": 201,
   "metadata": {},
   "outputs": [
    {
     "name": "stderr",
     "output_type": "stream",
     "text": [
      "### WARNING: Overriding default model 2020AA with 2022AA.\n",
      "Reading default AAs from file /home/yuxiangliao/PhD/UMLS/custom-resources/custom-word-replacement\n"
     ]
    },
    {
     "name": "stdout",
     "output_type": "stream",
     "text": [
      "\n"
     ]
    }
   ],
   "source": [
    "import os\n",
    "import subprocess, shlex, time\n",
    "record = repr(\"\"\"s222222|PA and lateral views of the chest provided.   The lungs are adequately aerated. \n",
    " There is a focal consolidation at the left lung base adjacent to the lateral hemidiaphragm. There is mild vascular engorgement. There is bilateral apical pleural thickening. \n",
    " The cardiomediastinal silhouette is remarkable for aortic arch calcifications. The heart is top normal in size.\n",
    "\"\"\")\n",
    "input_command = f\"echo -e {record}\"\n",
    "input_process = subprocess.Popen(shlex.split(input_command), stdout=subprocess.PIPE)\n",
    "meta_command = get_metamap_command()\n",
    "metamap_process = subprocess.Popen(shlex.split(meta_command), stdout=subprocess.PIPE, stdin=input_process.stdout)\n",
    "\n",
    "output, error = metamap_process.communicate()\n",
    "\n",
    "with open(\"/home/yuxiangliao/PhD/output/metamap.out\",'w') as f:\n",
    "    # Only the second line is the required JSON string.\n",
    "    f.write(list(output.decode().split(\"\\n\"))[1])"
   ]
  }
 ],
 "metadata": {
  "kernelspec": {
   "display_name": "Python 3 (ipykernel)",
   "language": "python",
   "name": "python3"
  },
  "language_info": {
   "codemirror_mode": {
    "name": "ipython",
    "version": 3
   },
   "file_extension": ".py",
   "mimetype": "text/x-python",
   "name": "python",
   "nbconvert_exporter": "python",
   "pygments_lexer": "ipython3",
   "version": "3.9.7"
  },
  "orig_nbformat": 4
 },
 "nbformat": 4,
 "nbformat_minor": 2
}
