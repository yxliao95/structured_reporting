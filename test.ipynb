{
 "cells": [
  {
   "cell_type": "code",
   "execution_count": 34,
   "metadata": {},
   "outputs": [],
   "source": [
    "from transformers import LongformerTokenizerFast, AutoTokenizer\n",
    "\n",
    "# tokenizer = LongformerTokenizerFast.from_pretrained(\"allenai/longformer-base-4096\", add_prefix_space=True)\n",
    "tokenizer = AutoTokenizer.from_pretrained(pretrained_model_name_or_path=\"shtoshni/longformer_coreference_joint\")"
   ]
  },
  {
   "cell_type": "code",
   "execution_count": 8,
   "metadata": {},
   "outputs": [
    {
     "data": {
      "text/plain": [
       "[20, 3186]"
      ]
     },
     "execution_count": 8,
     "metadata": {},
     "output_type": "execute_result"
    }
   ],
   "source": [
    "tokenizer.convert_tokens_to_ids(tokenizer.tokenize(\"The patient\"))"
   ]
  },
  {
   "cell_type": "code",
   "execution_count": 35,
   "metadata": {},
   "outputs": [
    {
     "data": {
      "text/plain": [
       "' 004668411 CTMC 68299235 763052 9/29/1993 12:00:00 AM Discharge Summary Signed DIS Admission Date : 09/29/1993 Report Status : Signed Discharge Date : 10/04/1993 HISTORY OF PRESENT ILLNESS : The patient is a 28-year-old woman who is HIV positive for two years. She presented with left upper quadrant pain as well as nausea and vomiting which is a long-standing complaint. She was diagnosed in 1991 during the birth of her child. She claims she does not know why she is HIV positive. She is from Maryland, apparently had no blood transfusions before the birth of her children so it is presumed heterosexual transmission. At that time, she also had cat scratch fever and she had resection of an abscess in the left lower extremity. She has not used any anti retroviral therapy since then, because of pancytopenia and vomiting on DDI. She has complaints of nausea and vomiting as well as left upper quadrant pain on and off getting progressively worse over the past month. She has had similar pain intermittently for last year. She described the pain as a burning pain which is positional, worse when she walks or does any type of exercise. She has no relief from antacids or H2 blockers. In 10/92, she had a CT scan which showed fatty infiltration of her liver diffusely with a 1 cm cyst in the right lobe of the liver. She had a normal pancreas at that time, however, hyperdense kidneys. Her alkaline phosphatase was slightly elevated but otherwise relatively normal. Her amylase was mildly elevated but has been down since then. The patient has had progressive failure to thrive and steady weight loss. She was brought in for an esophagogastroduodenoscopy on 9/26 but she basically was not sufficiently sedated and readmitted at this time for a GI work-up as well as an evaluation of new abscess in her left lower calf and right medial lower extremity quadriceps muscle. She was also admitted to be connected up with social services for HIV patients. PAST MEDICAL HISTORY : As above. ALLERGIES : BACTRIM. MEDICATIONS : On admission included Percocet, Prinovil, Dapsone, Mycelex troches. SOCIAL HISTORY : The patient was recently separated from her husband. She lives with her daughter. She does not drink, use IV drugs or smoke. PHYSICAL EXAMINATION : On admission revealed a cachetic woman in no acute distress with stable vital signs. She was afebrile. She was not orthostatic. Blood pressure 110/80. HEENT exam was within normal limits. Lungs were clear to auscultation and percussion bilaterally. Cardiovascular exam revealed a regular rate and rhythm without murmur. Abdomen was soft, nontender, nondistended with positive bowel sounds. There was no hepatosplenomegaly. Extremities revealed a 2 x 3 cm tender mass in the lateral left calf, medial 1 cm mass above her knee. There was no evidence of edema. LABORATORY DATA : On admission included BUN / creatinine of 33/2.1. Sodium 141. Potassium 4.2. Hematocrit 23. White blood cell count was 2.1 with 56 polys and 1 band. Platelet count 411,000. Amylase 143. Lipase was elevated to 600. ESR was greater than 140. Alkaline phosphatase 190. ALT 52. AST 65. Beta hCG was negative. Urinalysis was positive for protein. Bilirubin 0.4. Chest x-ray revealed clear lung fields. There was no evidence of rib fracture. HOSPITAL COURSE : The patient was admitted and many cultures were sent which were all negative. She did not have any of her pain in the hospital. On the third hospital day, she did have some pain and was treated with Percocet. She went for a debridement of her left calf lesion on 10/2/93 and was started empirically on IV ceftriaxone which was changed to po doxycycline on the day of discharge. A follow-up CT scan was done which did not show any evidence for splenomegaly or hepatomegaly. The 1 cm cyst which was seen in 10/92 was still present. There was a question of a cyst in her kidney with a stone right below the cyst, although this did not seem to be clinically significant. DISPOSITION : The patient was discharged to home in stable condition. Cultures were pending on her aspirate and will be treated with po doxycycline. Dictated By : JIMCHARL B. BUN, M.D. OC33 Attending : I BUN, M.D. GR67 EF283/9675 Batch : 2027 Index No. BOKMII88JZ D : 10/03/93 T : 10/07/93'"
      ]
     },
     "execution_count": 35,
     "metadata": {},
     "output_type": "execute_result"
    }
   ],
   "source": [
    "id = [612, 613]\n",
    "tokenizer.decode(orig_tokens)"
   ]
  },
  {
   "cell_type": "code",
   "execution_count": 45,
   "metadata": {},
   "outputs": [],
   "source": [
    "with open(\"/Users/liao/Desktop/DBMI_c2b2_2011_coref/longformer/all/all.4096.jsonlines\") as f:\n",
    "    tokenized_doc = json.loads(f.readlines()[1])\n",
    "    subtoken_map = tokenized_doc[\"subtoken_map\"]\n",
    "    orig_tokens = tokenized_doc[\"sentences\"][0]"
   ]
  },
  {
   "cell_type": "code",
   "execution_count": 25,
   "metadata": {},
   "outputs": [
    {
     "name": "stdout",
     "output_type": "stream",
     "text": [
      "[612, 613]\n"
     ]
    }
   ],
   "source": [
    "print(subtoken_map[797:799])"
   ]
  },
  {
   "cell_type": "code",
   "execution_count": 18,
   "metadata": {},
   "outputs": [
    {
     "name": "stdout",
     "output_type": "stream",
     "text": [
      "[16273, 38620, 6232, 1225, 12464, 6018, 5595, 23942, 23821, 5553, 541, 4429, 361, 73, 2890, 73, 41655, 316, 35, 612, 35, 612, 3326, 6310, 15040, 19584, 33994, 15421, 18032, 10566, 4832, 12087, 73, 2890, 73, 41655, 2872, 17058, 4832, 33994, 6310, 15040, 10566, 4832, 158, 73, 3387, 73, 41655, 289, 40699, 3243, 18557, 5382, 38, 6006, 41422, 4832, 20, 3186, 16, 10, 971, 12, 180, 12, 279, 693, 54, 16, 7947, 1313, 13, 80, 107, 479, 264, 2633, 19, 314, 2853, 15694, 6618, 2400, 25, 157, 25, 27214, 8, 23600, 61, 16, 10, 251, 12, 8190, 3674, 479, 264, 21, 6443, 11, 9633, 148, 5, 3113, 9, 69, 920, 479, 264, 1449, 79, 473, 45, 216, 596, 79, 16, 7947, 1313, 479, 264, 16, 31, 4788, 2156, 4100, 56, 117, 1925, 30387, 26841, 137, 5, 3113, 9, 69, 408, 98, 24, 16, 23924, 35262, 9235, 479, 497, 14, 86, 2156, 79, 67, 56, 4758, 12272, 11696, 8, 79, 56, 25806, 14970, 9, 41, 15428, 19348, 11, 5, 314, 795, 34867, 1571, 479, 264, 34, 45, 341, 143, 1475, 11299, 705, 24811, 5804, 187, 172, 2156, 142, 9, 5730, 4469, 8766, 225, 493, 8, 23600, 15, 211, 10063, 479, 264, 34, 4496, 9, 27214, 8, 23600, 25, 157, 25, 314, 2853, 15694, 6618, 2400, 15, 8, 160, 562, 32080, 3007, 81, 5, 375, 353, 479, 264, 34, 56, 1122, 2400, 41870, 7240, 13, 94, 76, 479, 264, 1602, 5, 2400, 25, 10, 6574, 2400, 61, 16, 42611, 2156, 3007, 77, 79, 5792, 50, 473, 143, 1907, 9, 3325, 479, 264, 34, 117, 3500, 31, 9876, 1043, 7823, 50, 289, 176, 39991, 479, 96, 158, 73, 6617, 2156, 79, 56, 10, 12464, 14194, 61, 969, 27935, 38763, 9, 69, 12581, 41118, 352, 19, 10, 112, 25434, 19258, 620, 11, 5, 235, 45776, 9, 5, 12581, 479, 264, 56, 10, 2340, 27974, 241, 281, 23, 14, 86, 2156, 959, 2156, 8944, 417, 9401, 33473, 479, 1405, 38204, 34637, 40196, 415, 3175, 21, 2829, 10944, 53, 3680, 3487, 2340, 479, 1405, 524, 4360, 3175, 21, 33019, 10944, 53, 34, 57, 159, 187, 172, 479, 20, 3186, 34, 56, 8212, 2988, 7, 12692, 8, 5204, 2408, 872, 479, 264, 21, 1146, 11, 13, 41, 2714, 6673, 33395, 1988, 44953, 1630, 225, 17591, 16572, 15, 361, 73, 2481, 53, 79, 5072, 21, 45, 21547, 10195, 1070, 8, 1166, 13979, 23, 42, 86, 13, 10, 31749, 173, 12, 658, 25, 157, 25, 41, 10437, 9, 92, 15428, 19348, 11, 69, 314, 795, 16701, 8, 235, 44016, 795, 34867, 1571, 15694, 15474, 3275, 8698, 479, 264, 21, 67, 2641, 7, 28, 3665, 62, 19, 592, 518, 13, 7947, 1484, 479, 221, 10388, 22718, 24308, 289, 40699, 4832, 287, 1065, 479, 12389, 39042, 7536, 4832, 163, 2562, 6997, 3755, 479, 22718, 2371, 14939, 4832, 374, 7988, 1165, 2595, 438, 1975, 594, 2156, 26093, 1417, 718, 2156, 211, 7527, 1264, 2156, 1308, 1755, 14726, 14168, 5559, 479, 29000, 11694, 289, 40699, 4832, 20, 3186, 21, 682, 8254, 31, 69, 1623, 479, 264, 1074, 19, 69, 1354, 479, 264, 473, 45, 4076, 2156, 304, 10831, 2196, 50, 4603, 479, 9715, 14780, 24308, 10649, 2620, 2444, 6034, 4832, 374, 7988, 1487, 10, 33624, 18667, 693, 11, 117, 13827, 13250, 19, 4375, 4874, 2434, 479, 264, 21, 9724, 3209, 1069, 459, 479, 264, 21, 45, 25691, 2603, 5183, 479, 11391, 1164, 8017, 73, 2940, 479, 12925, 5382, 10743, 21, 624, 2340, 4971, 479, 23851, 29, 58, 699, 7, 10, 20214, 6070, 1258, 8, 34077, 741, 45931, 479, 5866, 40789, 10743, 1487, 10, 1675, 731, 8, 12989, 396, 22802, 20541, 479, 2060, 12623, 225, 21, 3793, 2156, 41316, 7232, 2156, 29470, 661, 6228, 19, 1313, 29928, 4428, 479, 345, 21, 117, 47323, 366, 2911, 225, 4399, 571, 7776, 479, 40313, 2192, 1487, 10, 132, 3023, 155, 25434, 8780, 2862, 11, 5, 30972, 314, 16701, 2156, 44016, 112, 25434, 2862, 1065, 69, 4117, 479, 345, 21, 117, 1283, 9, 4803, 8557, 479, 226, 4546, 3411, 2571, 26116, 35900, 4832, 374, 7988, 1165, 163, 4154, 1589, 34113, 179, 833, 9, 2357, 73, 176, 4, 134, 479, 43382, 23580, 479, 7622, 45736, 204, 4, 176, 479, 10869, 415, 1975, 3961, 883, 479, 735, 1925, 3551, 3212, 21, 132, 4, 134, 19, 4772, 11424, 29, 8, 112, 1971, 479, 19201, 2716, 3212, 37793, 6, 151, 479, 1918, 4360, 3175, 22726, 479, 15914, 3175, 21, 10944, 7, 5594, 479, 381, 17973, 21, 2388, 87, 9680, 479, 726, 330, 34637, 40196, 415, 3175, 17235, 479, 6019, 565, 3135, 479, 40411, 3620, 479, 25905, 1368, 40099, 21, 2430, 479, 9163, 6204, 26499, 21, 1313, 13, 8276, 479, 11611, 853, 1792, 179, 321, 4, 306, 479, 23063, 3023, 12, 5022, 1487, 699, 10665, 5447, 479, 345, 21, 117, 1283, 9, 14966, 22259, 479, 289, 41713, 33069, 45247, 3388, 4832, 20, 3186, 21, 2641, 8, 171, 13426, 58, 1051, 61, 58, 70, 2430, 479, 264, 222, 45, 33, 143, 9, 69, 2400, 11, 5, 1098, 479, 374, 5, 371, 1098, 183, 2156, 79, 222, 33, 103, 2400, 8, 21, 3032, 19, 2595, 438, 1975, 594, 479, 264, 439, 13, 10, 263, 21676, 6285, 9, 69, 314, 16701, 7427, 1499, 15, 158, 73, 176, 73, 6478, 8, 21, 554, 46533, 3435, 15, 10831, 8635, 2543, 1069, 3631, 1264, 61, 21, 1714, 7, 4202, 109, 32027, 19297, 833, 15, 5, 183, 9, 15462, 479, 83, 1407, 12, 658, 12464, 14194, 21, 626, 61, 222, 45, 311, 143, 1283, 13, 11743, 225, 4399, 571, 7776, 50, 47323, 4399, 571, 7776, 479, 20, 112, 25434, 19258, 620, 61, 21, 450, 11, 158, 73, 6617, 21, 202, 1455, 479, 345, 21, 10, 864, 9, 10, 19258, 620, 11, 69, 12855, 19, 10, 7326, 235, 874, 5, 19258, 620, 2156, 1712, 42, 222, 45, 2045, 7, 28, 34948, 1233, 479, 15421, 42740, 25815, 4832, 20, 3186, 21, 16406, 7, 184, 11, 4375, 1881, 479, 26961, 4123, 58, 5319, 15, 69, 17518, 877, 8, 40, 28, 3032, 19, 4202, 109, 32027, 19297, 833, 479, 211, 11726, 1070, 870, 4832, 344, 3755, 29146, 574, 163, 4, 163, 4154, 2156, 256, 4, 495, 4, 18726, 3103, 7279, 4345, 4832, 38, 163, 4154, 2156, 256, 4, 495, 4, 8837, 4111, 17112, 32307, 73, 5607, 2545, 163, 11175, 4832, 291, 2518, 4648, 440, 4, 163, 9335, 448, 11194, 4652, 863, 1301, 211, 4832, 158, 73, 3933, 73, 6478, 255, 4832, 158, 73, 3570, 73, 6478]\n"
     ]
    }
   ],
   "source": [
    "print(orig_tokens)"
   ]
  },
  {
   "cell_type": "code",
   "execution_count": 19,
   "metadata": {},
   "outputs": [
    {
     "name": "stdout",
     "output_type": "stream",
     "text": [
      "[0, 0, 0, 0, 1, 1, 2, 2, 2, 3, 3, 3, 4, 4, 4, 4, 4, 5, 5, 5, 5, 5, 6, 7, 7, 8, 9, 10, 11, 12, 13, 14, 14, 14, 14, 14, 15, 16, 17, 18, 19, 19, 20, 21, 22, 22, 22, 22, 22, 23, 23, 24, 25, 25, 26, 26, 26, 27, 28, 29, 30, 31, 32, 32, 32, 32, 32, 33, 34, 35, 36, 37, 38, 39, 40, 41, 42, 43, 44, 45, 46, 47, 47, 48, 49, 50, 51, 52, 53, 54, 55, 56, 57, 58, 58, 58, 59, 60, 61, 62, 63, 64, 65, 66, 67, 68, 69, 70, 71, 72, 73, 74, 75, 76, 77, 78, 79, 80, 81, 82, 83, 84, 85, 86, 87, 88, 89, 90, 91, 92, 93, 94, 94, 95, 96, 97, 98, 99, 100, 101, 102, 103, 104, 105, 106, 107, 108, 109, 110, 111, 112, 113, 114, 115, 116, 117, 118, 119, 120, 121, 121, 122, 123, 124, 124, 125, 126, 127, 128, 129, 129, 130, 131, 132, 133, 134, 135, 136, 137, 137, 137, 138, 139, 140, 141, 142, 143, 144, 144, 144, 144, 144, 145, 146, 147, 148, 148, 149, 150, 151, 152, 153, 154, 155, 156, 157, 158, 159, 160, 161, 162, 162, 163, 164, 165, 166, 167, 168, 169, 170, 171, 172, 173, 174, 175, 176, 177, 178, 179, 180, 180, 181, 182, 183, 184, 185, 186, 187, 188, 189, 190, 191, 192, 193, 194, 195, 196, 197, 198, 199, 200, 201, 202, 203, 204, 205, 206, 207, 208, 209, 210, 211, 212, 213, 213, 213, 214, 215, 215, 216, 217, 218, 219, 219, 219, 220, 221, 222, 223, 224, 225, 226, 227, 228, 229, 230, 231, 232, 233, 233, 234, 235, 236, 237, 238, 238, 239, 240, 241, 242, 243, 244, 245, 246, 247, 248, 249, 250, 251, 251, 251, 252, 253, 254, 255, 256, 257, 258, 258, 258, 259, 260, 261, 262, 262, 263, 263, 263, 264, 265, 266, 267, 268, 269, 270, 271, 272, 273, 273, 273, 274, 275, 276, 277, 278, 279, 280, 281, 282, 283, 284, 285, 286, 287, 288, 289, 290, 291, 292, 293, 294, 295, 296, 297, 298, 299, 300, 301, 302, 303, 303, 303, 303, 303, 303, 303, 303, 303, 304, 305, 305, 305, 306, 307, 308, 309, 310, 311, 312, 312, 313, 314, 314, 315, 316, 317, 318, 319, 320, 321, 321, 321, 322, 323, 324, 325, 326, 327, 328, 329, 329, 330, 331, 332, 333, 334, 335, 336, 337, 338, 339, 339, 340, 340, 340, 341, 342, 343, 344, 345, 346, 347, 348, 349, 350, 351, 352, 353, 354, 355, 356, 357, 358, 358, 359, 359, 360, 360, 361, 362, 363, 364, 365, 365, 365, 366, 367, 367, 367, 367, 368, 369, 369, 369, 370, 371, 372, 373, 374, 374, 374, 374, 375, 376, 376, 376, 377, 378, 378, 378, 379, 380, 380, 380, 381, 381, 382, 383, 383, 384, 384, 385, 386, 387, 388, 389, 390, 391, 392, 393, 394, 395, 396, 397, 398, 399, 400, 401, 402, 403, 404, 405, 406, 407, 408, 409, 410, 411, 412, 412, 412, 413, 413, 413, 413, 414, 415, 416, 417, 418, 419, 419, 420, 421, 422, 423, 424, 425, 426, 427, 428, 429, 430, 431, 432, 432, 432, 432, 433, 434, 435, 436, 437, 437, 437, 438, 439, 440, 441, 441, 441, 442, 443, 443, 444, 445, 446, 447, 448, 449, 450, 450, 451, 452, 453, 454, 454, 454, 454, 455, 456, 457, 457, 458, 459, 459, 460, 461, 462, 463, 464, 465, 466, 467, 468, 468, 469, 470, 470, 470, 471, 472, 473, 474, 474, 475, 476, 476, 476, 477, 478, 479, 480, 481, 482, 483, 484, 485, 485, 485, 485, 485, 485, 485, 486, 487, 487, 488, 489, 490, 491, 492, 493, 494, 495, 496, 497, 498, 499, 500, 501, 502, 503, 504, 505, 506, 507, 508, 509, 510, 511, 512, 513, 514, 515, 515, 516, 517, 517, 517, 517, 517, 518, 519, 520, 521, 522, 523, 523, 524, 525, 525, 525, 526, 527, 527, 527, 527, 527, 528, 529, 530, 531, 532, 532, 533, 533, 533, 534, 535, 535, 535, 535, 536, 537, 538, 539, 540, 541, 542, 543, 543, 543, 544, 545, 546, 546, 547, 548, 549, 550, 551, 551, 552, 553, 553, 553, 554, 555, 555, 555, 556, 557, 558, 558, 559, 560, 561, 562, 563, 564, 564, 565, 566, 567, 568, 569, 570, 570, 570, 571, 571, 571, 572, 573, 574, 574, 575, 576, 577, 578, 579, 580, 581, 581, 582, 583, 584, 585, 585, 585, 586, 587, 588, 589, 590, 591, 591, 591, 591, 592, 592, 592, 593, 594, 595, 595, 595, 596, 597, 598, 599, 600, 601, 602, 603, 604, 605, 606, 607, 608, 609, 609, 609, 610, 610, 611, 612, 613, 614, 615, 616, 617, 618, 619, 620, 621, 622, 623, 624, 625, 626, 627, 628, 629, 630, 631, 632, 633, 634, 635, 636, 637, 638, 639, 640, 641, 642, 643, 644, 645, 646, 647, 648, 649, 650, 651, 652, 653, 653, 653, 653, 654, 655, 656, 657, 658, 659, 659, 659, 660, 661, 662, 663, 664, 664, 665, 666, 666, 666, 666, 666, 667, 668, 669, 670, 670, 671, 672, 673, 673, 673, 673, 673, 674, 675, 676, 677, 678, 679, 679, 679, 679, 680, 681, 682, 683, 684, 685, 686, 687, 687, 687, 688, 689, 690, 691, 692, 693, 694, 695, 696, 697, 698, 699, 699, 699, 699, 699, 700, 701, 701, 701, 701, 702, 703, 704, 705, 706, 706, 707, 708, 709, 710, 711, 711, 711, 712, 713, 714, 715, 716, 717, 718, 719, 720, 721, 722, 722, 723, 724, 725, 726, 727, 728, 729, 730, 731, 732, 732, 733, 734, 735, 736, 737, 738, 739, 740, 741, 742, 743, 744, 744, 744, 745, 746, 747, 748, 749, 750, 751, 752, 753, 754, 755, 756, 756, 757, 758, 759, 760, 761, 761, 762, 763, 764, 765, 766, 767, 768, 768, 768, 768, 769, 770, 770, 770, 771, 772, 773, 773, 773, 773, 774, 774, 775, 775, 776, 777, 777, 777, 777, 778, 778, 779, 779, 780, 781, 782, 782, 783, 784, 784, 784, 784, 785, 785, 786, 786, 786, 786, 786, 787, 787, 788, 789, 789, 790, 791, 791, 792, 792, 792, 792, 792, 792, 792, 793, 794, 795, 795, 795, 795, 795, 796, 797, 798, 798, 798, 798, 798]\n"
     ]
    }
   ],
   "source": [
    "print(subtoken_map)"
   ]
  },
  {
   "cell_type": "code",
   "execution_count": 38,
   "metadata": {},
   "outputs": [
    {
     "data": {
      "text/plain": [
       "1061"
      ]
     },
     "execution_count": 38,
     "metadata": {},
     "output_type": "execute_result"
    }
   ],
   "source": [
    "len(subtoken_map)"
   ]
  },
  {
   "cell_type": "code",
   "execution_count": 48,
   "metadata": {},
   "outputs": [],
   "source": [
    "import json\n",
    "\n",
    "with open(\"/Users/liao/Desktop/DBMI_c2b2_2011_coref/longformer/all/all.4096.jsonlines\") as f:\n",
    "    tokenized_doc = json.loads(f.readlines()[1])\n",
    "    subtoken_map = tokenized_doc[\"subtoken_map\"]\n",
    "    subtoken_id = tokenized_doc[\"sentences\"][0]\n",
    "    clusters = []\n",
    "    for idx_cluster in tokenized_doc[\"clusters\"]:\n",
    "        cur_cluster = []\n",
    "        for (ment_start, ment_end) in idx_cluster:\n",
    "            coref_id = subtoken_id[ment_start : ment_end + 1]\n",
    "            coref_str = tokenizer.decode(coref_id)\n",
    "            cur_cluster.append(((ment_start, ment_end), coref_str,))\n",
    "\n",
    "        clusters.append(cur_cluster)"
   ]
  },
  {
   "cell_type": "code",
   "execution_count": 49,
   "metadata": {},
   "outputs": [
    {
     "name": "stdout",
     "output_type": "stream",
     "text": [
      "35\n",
      "[((1810, 1810), ' his'), ((269, 270), ' The patient'), ((415, 415), ' He'), ((534, 534), ' patient'), ((1241, 1241), ' He'), ((439, 440), ' The patient'), ((1733, 1734), ' the patient'), ((314, 314), ' he'), ((273, 273), ' his'), ((458, 459), ' the patient'), ((1601, 1602), ' The patient'), ((1682, 1682), ' he'), ((389, 390), ' The patient'), ((865, 865), ' He'), ((631, 631), ' his'), ((278, 278), ' his'), ((1710, 1710), ' him'), ((1792, 1792), ' He'), ((1615, 1616), ' The patient'), ((243, 244), ' The patient'), ((1655, 1656), ' the patient'), ((1738, 1738), ' his'), ((41, 51), ' NETSHUFFSCARVTRACE, RIRA'), ((444, 444), ' his'), ((572, 572), ' he'), ((1297, 1297), ' he'), ((349, 350), ' the patient'), ((358, 359), ' The patient'), ((159, 159), ' This'), ((623, 623), ' his'), ((480, 480), ' His'), ((1371, 1371), ' he'), ((1724, 1724), ' him'), ((1770, 1770), ' his'), ((256, 256), ' he'), ((1197, 1197), ' He'), ((1789, 1789), ' he'), ((1302, 1302), ' his'), ((233, 233), ' he'), ((1440, 1440), ' he'), ((1224, 1224), ' He'), ((894, 894), ' His'), ((1185, 1186), ' The patient'), ((1546, 1546), ' he'), ((1674, 1674), ' he'), ((327, 328), ' The patient'), ((174, 174), ' who'), ((449, 449), ' his'), ((1991, 1991), ' his'), ((552, 553), ' The patient'), ((1286, 1287), ' the patient'), ((201, 201), ' He'), ((1014, 1014), ' He'), ((1529, 1530), ' the patient'), ((502, 503), ' The patient'), ((1756, 1757), ' The patient'), ((1212, 1212), ' he'), ((1340, 1340), ' his'), ((1984, 1985), ' The patient'), ((473, 473), ' he'), ((1253, 1253), ' he'), ((900, 900), ' He'), ((1469, 1469), ' his'), ((1384, 1385), ' The patient'), ((300, 301), ' The patient'), ((1448, 1449), ' The patient'), ((854, 854), ' He'), ((887, 887), ' He'), ((1572, 1573), ' The patient'), ((1329, 1330), ' the patient'), ((1483, 1483), ' his'), ((1690, 1690), ' his'), ((561, 561), ' he'), ((322, 322), ' his'), ((1494, 1495), ' The patient')]\n",
      "[((168, 173), ' severe chronic obstructive pulmonary disease'), ((1783, 1788), ' severe chronic obstructive pulmonary disease'), ((95, 101), ' Severe chronic obstructive pulmonary disease'), ((631, 639), ' his usual severe bilateral emphysema_____')]\n",
      "[((673, 673), ' pneumonia'), ((114, 117), ' Right lower lobe pneumonia'), ((1444, 1446), ' a serious pneumonia'), ((1392, 1392), ' pneumonia'), ((1237, 1239), ' gram negative pneumonia')]\n",
      "[((119, 122), ' Atonic bladder'), ((695, 698), ' Atonic bladder')]\n",
      "[((278, 284), ' his suprapubic catheter'), ((700, 705), ' a suprapubic tube'), ((322, 324), ' his catheter'), ((124, 129), ' suprapubic catheter'), ((296, 298), ' the catheter')]\n",
      "[((709, 709), ' Anxiety'), ((131, 131), ' Anxiety')]\n",
      "[((133, 137), ' Coronary artery disease'), ((713, 717), ' Coronary artery disease')]\n",
      "[((733, 734), ' colon cancer'), ((141, 142), ' colon cancer')]\n",
      "[((736, 739), ' a colectomy'), ((145, 148), ' hemicolectomy')]\n",
      "[((287, 287), ' discomfort'), ((258, 258), ' discomfort')]\n",
      "[((861, 863), ' moderate respiratory distress'), ((333, 337), ' slight shortness of breath'), ((476, 478), ' moderate respiratory distress'), ((379, 382), ' shortness of breath'), ((890, 892), ' moderate respiratory distress'), ((352, 356), ' increasing shortness of breath')]\n",
      "[((485, 487), ' 40% 02'), ((1068, 1070), ' 40% 02')]\n",
      "[((489, 490), ' P02'), ((1055, 1056), ' P02')]\n",
      "[((493, 494), ' PC02'), ((1059, 1060), ' PC02')]\n",
      "[((1063, 1063), ' PH'), ((497, 497), ' PH')]\n",
      "[((506, 507), ' respiratory therapy'), ((574, 576), ' continuous respiratory therapy'), ((1801, 1803), ' continued respiratory therapy')]\n",
      "[((1309, 1312), ' nebulizer treatments'), ((512, 515), ' nebulizer treatments'), ((1214, 1217), ' nebulizer treatments'), ((581, 587), ' Albuterol nebulizers'), ((1219, 1222), ' Albuterol')]\n",
      "[((1703, 1704), ' the family'), ((1718, 1719), ' the family'), ((536, 536), ' family'), ((1731, 1731), ' They')]\n",
      "[((594, 596), ' intravenous steroids'), ((1320, 1326), ' intravenous Solu-Medrol')]\n",
      "[((1316, 1318), ' intravenous antibiotics'), ((598, 600), ' intravenous antibiotics')]\n",
      "[((1358, 1362), ' the chest x-ray'), ((602, 606), ' A chest x-ray'), ((623, 627), ' his chest x-ray')]\n",
      "[((1363, 1363), ' that'), ((1353, 1356), ' the opacities'), ((649, 663), ' new air space opacifications in the left apex and the right lower lobe'), ((665, 665), ' These')]\n",
      "[((675, 679), ' asymmetric pulmonary edema'), ((1367, 1369), ' pulmonary edema')]\n",
      "[((1857, 1858), ' Ativan'), ((754, 755), ' Ativan')]\n",
      "[((1955, 1957), ' Trusopt'), ((765, 767), ' Trusopt')]\n",
      "[((780, 782), ' Xalatan'), ((1923, 1928), ' Xalatan eyedrops')]\n",
      "[((1425, 1429), ' The Ticarcillin'), ((1229, 1234), ' intravenous Ticarcillin')]\n",
      "[((1247, 1250), ' intravenous Lasix'), ((1515, 1516), ' Lasix'), ((1252, 1252), ' which')]\n",
      "[((1329, 1338), ' the patient &apos;s diuresis'), ((1510, 1513), ' brisk diuresis')]\n",
      "[((1878, 1880), ' Levaquin'), ((1389, 1389), ' antibiotics'), ((1408, 1408), ' This'), ((1398, 1400), ' Levaquin'), ((1394, 1395), ' The antibiotic')]\n",
      "[((1539, 1544), ' mild epigastric discomfort'), ((1615, 1623), ' The patient &apos;s abdominal pain'), ((1635, 1635), ' it')]\n",
      "[((1550, 1552), ' Cimetidine'), ((1561, 1564), ' prophylaxis')]\n",
      "[((1577, 1580), ' Prilosec'), ((1971, 1974), ' Prilosec'), ((1640, 1643), ' Prilosec')]\n",
      "[((1806, 1807), ' Physical Therapy'), ((1686, 1687), ' physical therapy')]\n",
      "[((2031, 2038), ' ROD END, M.D.'), ((1991, 2004), ' his primary care physician Dr. Rod Linkeboltshieltrus'), ((2023, 2023), ' his'), ((2063, 2070), ' ROD END, M.D.')]\n"
     ]
    }
   ],
   "source": [
    "print(len(clusters))\n",
    "for cluster in clusters:\n",
    "    print(cluster)"
   ]
  }
 ],
 "metadata": {
  "kernelspec": {
   "display_name": "Python 3.9.7 ('base')",
   "language": "python",
   "name": "python3"
  },
  "language_info": {
   "codemirror_mode": {
    "name": "ipython",
    "version": 3
   },
   "file_extension": ".py",
   "mimetype": "text/x-python",
   "name": "python",
   "nbconvert_exporter": "python",
   "pygments_lexer": "ipython3",
   "version": "3.9.7"
  },
  "orig_nbformat": 4,
  "vscode": {
   "interpreter": {
    "hash": "bbe186fad143582492f874971b555a6a67ca040c11267037e80d88fc47d0fa6d"
   }
  }
 },
 "nbformat": 4,
 "nbformat_minor": 2
}
