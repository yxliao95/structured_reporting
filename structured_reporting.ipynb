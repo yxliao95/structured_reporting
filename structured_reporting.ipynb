{
 "cells": [
  {
   "cell_type": "markdown",
   "metadata": {},
   "source": [
    "# 日志类"
   ]
  },
  {
   "cell_type": "code",
   "execution_count": 5,
   "metadata": {},
   "outputs": [
    {
     "data": {
      "text/plain": [
       "3"
      ]
     },
     "execution_count": 5,
     "metadata": {},
     "output_type": "execute_result"
    }
   ],
   "source": [
    "import os, sys\n",
    "from loguru import logger\n",
    "\n",
    "LOG_ROOT = os.path.abspath(\"./\")\n",
    "LOG_FILE = LOG_ROOT + \"/logs/mimic-cxr.log\"\n",
    "\n",
    "# Remove all handlers and reset stderr\n",
    "logger.remove(handler_id=None)\n",
    "logger.add(\n",
    "    LOG_FILE,\n",
    "    level=\"TRACE\",\n",
    "    mode=\"w\",\n",
    "    backtrace=False,\n",
    "    diagnose=True,\n",
    "    colorize=False,\n",
    "    format=\"{time:YYYY-MM-DD HH:mm:ss} | {level} | {message}\",\n",
    ")\n",
    "logger.info(\"\\r\\n\" + \">\" * 29 + \"\\r\\n\" + \">>> New execution started >>>\" + \"\\r\\n\" + \">\" * 29)\n",
    "# To filter log level: TRACE=5, DEBUG=10, INFO=20, SUCCESS=25, WARNING=30, ERROR=40, CRITICAL=50\n",
    "logger.add(sys.stdout, level=\"INFO\", filter=lambda record: record[\"level\"].no < 40, colorize=True)\n",
    "logger.add(sys.stderr, level=\"ERROR\", backtrace=False, diagnose=True, colorize=True)"
   ]
  },
  {
   "cell_type": "markdown",
   "metadata": {},
   "source": [
    "# Read From Database"
   ]
  },
  {
   "cell_type": "code",
   "execution_count": 4,
   "metadata": {},
   "outputs": [
    {
     "name": "stdout",
     "output_type": "stream",
     "text": [
      "              pid        sid  \\\n",
      "0       p10000032  s50414267   \n",
      "1       p10000032  s53189527   \n",
      "2       p10000032  s53911762   \n",
      "3       p10000032  s56699142   \n",
      "4       p10000764  s57375967   \n",
      "...           ...        ...   \n",
      "227823  p19999442  s58708861   \n",
      "227824  p19999733  s57132437   \n",
      "227825  p19999987  s55368167   \n",
      "227826  p19999987  s58621812   \n",
      "227827  p19999987  s58971208   \n",
      "\n",
      "                                                 findings  \\\n",
      "0       There is no focal consolidation, pleural effus...   \n",
      "1       The cardiac, mediastinal and hilar contours ar...   \n",
      "2       Single frontal view of the chest provided. \\n ...   \n",
      "3       The lungs are clear of focal consolidation, pl...   \n",
      "4       PA and lateral views of the chest provided.   ...   \n",
      "...                                                   ...   \n",
      "227823  ET tube ends 4.7 cm above the carina.  NG tube...   \n",
      "227824  The lungs are clear, and the cardiomediastinal...   \n",
      "227825  There has been interval extubation and improve...   \n",
      "227826  Portable supine AP view of the chest provided ...   \n",
      "227827  The ET tube terminates approximately 2.9 cm fr...   \n",
      "\n",
      "                                               impression  \\\n",
      "0                     No acute cardiopulmonary process.\\n   \n",
      "1                 No acute cardiopulmonary abnormality.\\n   \n",
      "2                       No acute intrathoracic process.\\n   \n",
      "3                     No acute cardiopulmonary process.\\n   \n",
      "4       Focal consolidation at the left lung base, pos...   \n",
      "...                                                   ...   \n",
      "227823  1.  Lines and tubes are in adequate position. ...   \n",
      "227824                 No acute cardiothoracic process.\\n   \n",
      "227825                                                      \n",
      "227826  Appropriately positioned ET and NG tubes.  Bib...   \n",
      "227827  Slight interval worsening of right lower lung ...   \n",
      "\n",
      "       provisional_findings_impression findings_and_impression  \\\n",
      "0                                                                \n",
      "1                                                                \n",
      "2                                                                \n",
      "3                                                                \n",
      "4                                                                \n",
      "...                                ...                     ...   \n",
      "227823                                                           \n",
      "227824                                                           \n",
      "227825                                                           \n",
      "227826                                                           \n",
      "227827                                                           \n",
      "\n",
      "                                     clinical_information  \\\n",
      "0       @[INDICATION]\\n___F with new onset ascites  //...   \n",
      "1       @[INDICATION]\\nHistory: ___F with shortness of...   \n",
      "2       @[INDICATION]\\n___F with cough  // acute proce...   \n",
      "3       @[INDICATION]\\n___ year old woman with cirrhos...   \n",
      "4       @[INDICATION]\\n___M with hypoxia  // ?pna, asp...   \n",
      "...                                                   ...   \n",
      "227823  @[INDICATION]\\nPatient with intubation, evalua...   \n",
      "227824     @[INDICATION]\\n___-year-old with chest pain.\\n   \n",
      "227825                                                      \n",
      "227826  @[CLINICAL HISTORY]\\nTransfer from outside hos...   \n",
      "227827  @[INDICATION]\\n___-year-old female intubated f...   \n",
      "\n",
      "                                    procedure_information  \\\n",
      "0       @[EXAMINATION]\\nCHEST (PA AND LAT)\\n@[TECHNIQU...   \n",
      "1       @[EXAMINATION]\\nCHEST (PA AND LAT)\\n@[TECHNIQU...   \n",
      "2                   @[EXAMINATION]\\nCHEST (PORTABLE AP)\\n   \n",
      "3       @[TECHNIQUE]\\nFrontal chest radiographs were o...   \n",
      "4                    @[EXAMINATION]\\nCHEST (PA AND LAT)\\n   \n",
      "...                                                   ...   \n",
      "227823                                                      \n",
      "227824  @[TECHNIQUE]\\nFrontal and lateral radiographs ...   \n",
      "227825                                                      \n",
      "227826                                                      \n",
      "227827  @[TECHNIQUE]\\nSingle AP portable exam on the c...   \n",
      "\n",
      "                                               comparison addendum wet_read  \\\n",
      "0                                  @[COMPARISON]\\nNone.\\n                     \n",
      "1                                    @[COMPARISON]\\n___\\n                     \n",
      "2                   @[COMPARISON]\\nChest radiograph ___\\n                     \n",
      "3       @[COMPARISON]\\nRadiographs from ___, ___ and _...                     \n",
      "4                                   @[COMPARISON]\\nNone\\n                     \n",
      "...                                                   ...      ...      ...   \n",
      "227823                             @[COMPARISON]\\nNone.\\n                     \n",
      "227824                             @[COMPARISON]\\nNone.\\n                     \n",
      "227825                   @[COMPARISON]\\n___ radiograph.\\n                     \n",
      "227826  @[COMPARISON]\\nPrior chest radiograph from ear...                     \n",
      "227827      @[COMPARISONS]\\nChest radiographs from ___.\\n                     \n",
      "\n",
      "                                                unknown  \n",
      "0                                                        \n",
      "1                                                        \n",
      "2                                                        \n",
      "3                                                        \n",
      "4                                                        \n",
      "...                                                 ...  \n",
      "227823            @[UNKNOWN]\\nPORTABLE AP CHEST X-RAY\\n  \n",
      "227824                                                   \n",
      "227825              @[UNKNOWN]\\nPORTABLE CHEST OF ___\\n  \n",
      "227826  @[UNKNOWN]\\nCHEST RADIOGRAPH PERFORMED ON ___\\n  \n",
      "227827                                                   \n",
      "\n",
      "[227828 rows x 12 columns]\n"
     ]
    }
   ],
   "source": [
    "import os\n",
    "import pymysql\n",
    "import pandas as pd\n",
    "\n",
    "# DB connect\n",
    "DB = pymysql.connect(host=\"127.0.0.1\", port=3306, user=\"root\", password=\"1121\", db=\"radiology_datasets\", charset=\"utf8\")\n",
    "CURSOR = DB.cursor(cursor=pymysql.cursors.DictCursor)\n",
    "\n",
    "sql_select = \"SELECT * FROM radiology_datasets.`mimic-cxr_manual` WHERE findings != '' OR impression != '' OR provisional_findings_impression != '' OR findings_and_impression != '';\"\n",
    "\n",
    "CURSOR.execute(sql_select)\n",
    "df = pd.DataFrame(CURSOR.fetchall())\n",
    "print(df)\n",
    "\n",
    "CURSOR.close()\n",
    "DB.close()"
   ]
  },
  {
   "cell_type": "markdown",
   "metadata": {},
   "source": [
    "# Utils\n"
   ]
  },
  {
   "cell_type": "markdown",
   "metadata": {},
   "source": [
    "## Remove heading labels\n",
    "@[...]"
   ]
  },
  {
   "cell_type": "code",
   "execution_count": 11,
   "metadata": {},
   "outputs": [],
   "source": [
    "import re\n",
    "\n",
    "def removeHeadingLabels(content):\n",
    "    reStr = r\"@\\[.*?\\]\"\n",
    "    content = re.sub(reStr,\"\",content)\n",
    "    return content.strip()"
   ]
  }
 ],
 "metadata": {
  "interpreter": {
   "hash": "bbe186fad143582492f874971b555a6a67ca040c11267037e80d88fc47d0fa6d"
  },
  "kernelspec": {
   "display_name": "Python 3.9.7 ('base')",
   "language": "python",
   "name": "python3"
  },
  "language_info": {
   "codemirror_mode": {
    "name": "ipython",
    "version": 3
   },
   "file_extension": ".py",
   "mimetype": "text/x-python",
   "name": "python",
   "nbconvert_exporter": "python",
   "pygments_lexer": "ipython3",
   "version": "3.9.7"
  },
  "orig_nbformat": 4
 },
 "nbformat": 4,
 "nbformat_minor": 2
}
