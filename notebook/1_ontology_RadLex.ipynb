{
 "cells": [
  {
   "cell_type": "code",
   "execution_count": 1,
   "metadata": {},
   "outputs": [
    {
     "data": {
      "text/plain": [
       "'/Users/liao/myProjects/VSCode_workspace/structured_reporting/RadLex'"
      ]
     },
     "execution_count": 1,
     "metadata": {},
     "output_type": "execute_result"
    }
   ],
   "source": [
    "import os\n",
    "os.path.abspath(\"./RadLex\")"
   ]
  },
  {
   "cell_type": "code",
   "execution_count": 272,
   "metadata": {},
   "outputs": [
    {
     "data": {
      "text/plain": [
       "18"
      ]
     },
     "execution_count": 272,
     "metadata": {},
     "output_type": "execute_result"
    }
   ],
   "source": [
    "import os, sys\n",
    "from loguru import logger\n",
    "\n",
    "LOG_ROOT = os.path.abspath(\"./\")\n",
    "LOG_FILE = LOG_ROOT + \"/logs/radlex.log\"\n",
    "\n",
    "# Remove all handlers and reset stderr\n",
    "logger.remove(handler_id=None)\n",
    "logger.add(\n",
    "    LOG_FILE,\n",
    "    level=\"TRACE\",\n",
    "    mode=\"w\",\n",
    "    backtrace=False,\n",
    "    diagnose=True,\n",
    "    colorize=False,\n",
    "    format=\"{time:YYYY-MM-DD HH:mm:ss} | {level} | {message}\",\n",
    ")\n",
    "logger.info(\"\\r\\n\" + \">\" * 29 + \"\\r\\n\" + \">>> New execution started >>>\" + \"\\r\\n\" + \">\" * 29)\n",
    "# To filter log level: TRACE=5, DEBUG=10, INFO=20, SUCCESS=25, WARNING=30, ERROR=40, CRITICAL=50\n",
    "logger.add(sys.stdout, level=\"INFO\", filter=lambda record: record[\"level\"].no < 40, colorize=True)\n",
    "logger.add(sys.stderr, level=\"ERROR\", backtrace=False, diagnose=True, colorize=True)"
   ]
  },
  {
   "cell_type": "code",
   "execution_count": 273,
   "metadata": {},
   "outputs": [
    {
     "name": "stdout",
     "output_type": "stream",
     "text": [
      "1499968\n"
     ]
    }
   ],
   "source": [
    "with open(\"/home/yuxiangliao/PhD/RadLex/owlapi.xrdf\", \"r\") as f:\n",
    "  radlex = f.readlines()\n",
    "    \n",
    "print(len(radlex))"
   ]
  },
  {
   "cell_type": "code",
   "execution_count": 274,
   "metadata": {},
   "outputs": [],
   "source": [
    "# import xml.etree.cElementTree as ET  \n",
    "import xml.etree.ElementTree as ET \n",
    "tree = ET.parse(\"/home/yuxiangliao/PhD/RadLex/owlapi.xrdf\")\n",
    "root = tree.getroot()"
   ]
  },
  {
   "cell_type": "markdown",
   "metadata": {},
   "source": [
    "# Analyse the content"
   ]
  },
  {
   "cell_type": "code",
   "execution_count": 275,
   "metadata": {},
   "outputs": [
    {
     "name": "stdout",
     "output_type": "stream",
     "text": [
      "node:{http://www.w3.org/2002/07/owl#}Axiom, len: 7316\n",
      "node:{http://www.w3.org/2000/01/rdf-schema#}Datatype, len: 1\n",
      "node:{http://www.w3.org/1999/02/22-rdf-syntax-ns#}Description, len: 24076\n",
      "node:{http://www.w3.org/2002/07/owl#}ObjectProperty, len: 52\n",
      "node:{http://www.w3.org/2002/07/owl#}Ontology, len: 1\n",
      "node:{http://www.w3.org/2002/07/owl#}AnnotationProperty, len: 30\n",
      "node:{http://www.w3.org/2002/07/owl#}NamedIndividual, len: 24075\n",
      "node:{http://www.w3.org/2002/07/owl#}Class, len: 46761\n"
     ]
    }
   ],
   "source": [
    "child_lv1 = set()\n",
    "for child in root:\n",
    "    child_lv1.add(child.tag)\n",
    "for nodeName in child_lv1:\n",
    "    print(f\"node:{nodeName}, len: {len(root.findall(nodeName))}\")"
   ]
  },
  {
   "cell_type": "code",
   "execution_count": 276,
   "metadata": {},
   "outputs": [
    {
     "name": "stdout",
     "output_type": "stream",
     "text": [
      "{http://radlex.org/RID/}Projects_To\n",
      "{http://radlex.org/RID/}Posterior_to\n",
      "{http://radlex.org/RID/}Has_Regional_Part\n",
      "{http://radlex.org/RID/}Proximal_to\n",
      "{http://radlex.org/RID/}Has_Part\n",
      "{http://radlex.org/RID/}Has_Innervation_Source\n",
      "{http://radlex.org/RID/}May_Be_Caused_By\n",
      "{http://radlex.org/RID/}Origin_of\n",
      "{http://radlex.org/RID/}Innervates\n",
      "{http://radlex.org/RID/}Has_Constitutional_Part\n",
      "{http://radlex.org/RID/}Has_origin\n",
      "{http://www.w3.org/1999/02/22-rdf-syntax-ns#}type\n",
      "{http://radlex.org/RID/}Member_Of\n",
      "{http://radlex.org/RID/}Has_Member\n",
      "{http://radlex.org/RID/}Has_Blood_Supply\n",
      "{http://radlex.org/RID/}Attaches_to\n",
      "{http://radlex.org/RID/}Projects_From\n",
      "{http://radlex.org/RID/}Receives_Drainage_From\n",
      "{http://radlex.org/RID/}Distal_to\n",
      "{http://radlex.org/RID/}Receives_Projection_From\n",
      "{http://radlex.org/RID/}Surrounds\n",
      "{http://radlex.org/RID/}Related_modality\n",
      "{http://radlex.org/RID/}Branch_Of\n",
      "{http://radlex.org/RID/}Anatomical_Site\n",
      "{http://radlex.org/RID/}Receives_attachment_from\n",
      "{http://radlex.org/RID/}Lymphatic_Drainage_Of\n",
      "{http://radlex.org/RID/}Bounds\n",
      "{http://radlex.org/RID/}Lymphatic_Drainage\n",
      "{http://radlex.org/RID/}Insertion_of\n",
      "{http://radlex.org/RID/}Superior_to\n",
      "{http://radlex.org/RID/}Drains_Into\n",
      "{http://radlex.org/RID/}Surrounded_by\n",
      "{http://radlex.org/RID/}Tributary_Of\n",
      "{http://radlex.org/RID/}Anterior_to\n",
      "{http://radlex.org/RID/}Has_Branch\n",
      "{http://radlex.org/RID/}May_Cause\n",
      "{http://radlex.org/RID/}Contained_In\n",
      "{http://radlex.org/RID/}Part_Of\n",
      "{http://radlex.org/RID/}Has_Entrapment_Site\n",
      "{http://radlex.org/RID/}Contains\n",
      "{http://www.w3.org/2002/07/owl#}NamedIndividual\n",
      "{http://radlex.org/RID/}Inferior_to\n",
      "{http://radlex.org/RID/}Receives_Input_From\n",
      "{http://radlex.org/RID/}Continuous_With\n",
      "{http://radlex.org/RID/}Bounded_by\n",
      "{http://radlex.org/RID/}Sends_Output_To\n",
      "{http://radlex.org/RID/}Constitutional_Part_Of\n",
      "{http://radlex.org/RID/}Regional_Part_Of\n",
      "{http://radlex.org/RID/}Segment_Of\n",
      "{http://radlex.org/RID/}Blood_Supply_of\n",
      "{http://radlex.org/RID/}Has_insertion\n",
      "{http://radlex.org/RID/}External_to\n"
     ]
    }
   ],
   "source": [
    "# All the XML tags under specific path\n",
    "classes = root.findall(OWL_NAMED_INDIVIDUAL)\n",
    "\n",
    "class_tags = set()\n",
    "for class_node in classes:\n",
    "    for ele in class_node.iter():\n",
    "        class_tags.add(ele.tag)\n",
    "        # if ele.tag == \"{http://www.w3.org/1999/02/22-rdf-syntax-ns#}Description\":\n",
    "        #     print(class_node.tag)\n",
    "        #     print(class_node.attrib)\n",
    "        #     print(class_node.text)\n",
    "        \n",
    "for i in class_tags:\n",
    "    print(i)"
   ]
  },
  {
   "cell_type": "code",
   "execution_count": 277,
   "metadata": {},
   "outputs": [
    {
     "name": "stdout",
     "output_type": "stream",
     "text": [
      "<Element '{http://www.w3.org/2002/07/owl#}equivalentClass' at 0x7f175bbf3270>\n"
     ]
    }
   ],
   "source": [
    "idx1 = 0\n",
    "idx2 = 1\n",
    "node = root.find(\"{http://www.w3.org/2000/01/rdf-schema#}Datatype\")\n",
    "print(node.find(\"{http://www.w3.org/2002/07/owl#}equivalentClass\"))"
   ]
  },
  {
   "cell_type": "markdown",
   "metadata": {},
   "source": [
    "# Extract"
   ]
  },
  {
   "cell_type": "markdown",
   "metadata": {},
   "source": [
    "## Common static variables and methods"
   ]
  },
  {
   "cell_type": "code",
   "execution_count": 278,
   "metadata": {},
   "outputs": [],
   "source": [
    "import pandas as pd"
   ]
  },
  {
   "cell_type": "code",
   "execution_count": 279,
   "metadata": {},
   "outputs": [],
   "source": [
    "OWL = \"{http://www.w3.org/2002/07/owl#}\"\n",
    "OWL_RESTRICTION = OWL + \"Restriction\"\n",
    "OWL_ON_PROPERTY = OWL + \"onProperty\"\n",
    "OWL_SOME_VALUES_FROM = OWL + \"someValuesFrom\"\n",
    "OWL_ANNOTATION_PROPERTY = OWL + \"AnnotationProperty\"\n",
    "OWL_OBJECT_PROPERTY = OWL + \"ObjectProperty\"\n",
    "OWL_INVERSE_OF = OWL + \"inverseOf\"\n",
    "OWL_CLASS = OWL + \"Class\"\n",
    "OWL_NAMED_INDIVIDUAL = OWL + \"NamedIndividual\"\n",
    "\n",
    "RDF = \"{http://www.w3.org/1999/02/22-rdf-syntax-ns#}\"\n",
    "RDF_DESCRIPTION = RDF + \"Description\"\n",
    "RDF_RESOURCE = RDF + \"resource\"\n",
    "RDF_ABOUT = RDF + \"about\"\n",
    "RDF_TYPE = RDF + \"type\"\n",
    "\n",
    "RDFS = \"{http://www.w3.org/2000/01/rdf-schema#}\"\n",
    "RDFS_SUB_PROPERTY_OF = RDFS + \"subPropertyOf\"\n",
    "RDFS_SUB_CLASS_OF = RDFS + \"subClassOf\"\n",
    "\n",
    "RID = \"{http://radlex.org/RID/}\"\n",
    "RID_PREFERRED_NAME = RID + \"Preferred_name\"\n",
    "RID_SYNONYM = RID + \"Synonym\"\n",
    "RID_ACRONYM = RID + \"Acronym\"\n",
    "RID_DEFINITION = RID + \"Definition\"\n",
    "RID_UMLS_ID = RID + \"UMLS_ID\"\n",
    "RID_REPLACE_BY = RID + \"Replaced_by\"\n",
    "RID_MISSPELLING_OF_TERM = RID + \"Misspelling_of_term\"\n",
    "RID_COMMENT = RID + \"Comment\"\n",
    "RID_SNOMED_ID = RID + \"SNOMED_ID\"\n",
    "RID_PREFERRED_NAME_FOR_OBSOLETE = RID + \"Preferred_Name_for_Obsolete\"\n",
    "RID_UNSANCTIONED_TERM = RID + \"Unsanctioned_Term\""
   ]
  },
  {
   "cell_type": "code",
   "execution_count": 280,
   "metadata": {},
   "outputs": [],
   "source": [
    "def concatList(l:list):\n",
    "    return \"|\".join(l)\n",
    "\n",
    "def nodeTextToList(node:ET.Element,label:str):\n",
    "    textList = []\n",
    "    for i in node.findall(label):\n",
    "        if i.text: # to ingone the \"None\" type\n",
    "            textList.append(i.text)\n",
    "    return textList\n",
    "\n",
    "def hasAttrib(node:ET.Element):\n",
    "    return True if node.attrib else False\n",
    "    \n",
    "def getAttribValue_resource(node:ET.Element):\n",
    "    try:\n",
    "        return node.attrib[RDF_RESOURCE]\n",
    "    except KeyError:\n",
    "        logger.error(f\"Tag:[{node.tag}], attr:[{node.attrib}], text:[{node.text}]\")\n",
    "        raise\n",
    "    \n",
    "def getAttribValue_about(node:ET.Element):\n",
    "    try:\n",
    "        return node.attrib[RDF_ABOUT]\n",
    "    except KeyError:\n",
    "        logger.error(f\"Tag:[{node.tag}], attr:[{node.attrib}], text:[{node.text}]\")\n",
    "        raise"
   ]
  },
  {
   "cell_type": "markdown",
   "metadata": {},
   "source": [
    "## A set of relationships for concepts"
   ]
  },
  {
   "cell_type": "markdown",
   "metadata": {},
   "source": [
    "### OWL_OBJECT_PROPERTY"
   ]
  },
  {
   "cell_type": "code",
   "execution_count": 281,
   "metadata": {},
   "outputs": [
    {
     "name": "stdout",
     "output_type": "stream",
     "text": [
      "                                  relationshipName  \\\n",
      "0            http://radlex.org/RID/Anatomical_Site   \n",
      "1                http://radlex.org/RID/Anterior_to   \n",
      "2                http://radlex.org/RID/Attaches_to   \n",
      "3            http://radlex.org/RID/Blood_Supply_of   \n",
      "4                 http://radlex.org/RID/Bounded_by   \n",
      "5                     http://radlex.org/RID/Bounds   \n",
      "6                  http://radlex.org/RID/Branch_Of   \n",
      "7             http://radlex.org/RID/Branch_Part_of   \n",
      "8     http://radlex.org/RID/Constitutional_Part_Of   \n",
      "9               http://radlex.org/RID/Contained_In   \n",
      "10                  http://radlex.org/RID/Contains   \n",
      "11           http://radlex.org/RID/Continuous_With   \n",
      "12                 http://radlex.org/RID/Distal_to   \n",
      "13               http://radlex.org/RID/Drains_Into   \n",
      "14               http://radlex.org/RID/External_to   \n",
      "15          http://radlex.org/RID/Has_Blood_Supply   \n",
      "16                http://radlex.org/RID/Has_Branch   \n",
      "17           http://radlex.org/RID/Has_Branch_Part   \n",
      "18   http://radlex.org/RID/Has_Constitutional_Part   \n",
      "19       http://radlex.org/RID/Has_Entrapment_Site   \n",
      "20    http://radlex.org/RID/Has_Innervation_Source   \n",
      "21                http://radlex.org/RID/Has_Member   \n",
      "22                  http://radlex.org/RID/Has_Part   \n",
      "23         http://radlex.org/RID/Has_Regional_Part   \n",
      "24             http://radlex.org/RID/Has_insertion   \n",
      "25                http://radlex.org/RID/Has_origin   \n",
      "26               http://radlex.org/RID/Inferior_to   \n",
      "27                http://radlex.org/RID/Innervates   \n",
      "28              http://radlex.org/RID/Insertion_of   \n",
      "29        http://radlex.org/RID/Lymphatic_Drainage   \n",
      "30     http://radlex.org/RID/Lymphatic_Drainage_Of   \n",
      "31          http://radlex.org/RID/May_Be_Caused_By   \n",
      "32                 http://radlex.org/RID/May_Cause   \n",
      "33                 http://radlex.org/RID/Member_Of   \n",
      "34                 http://radlex.org/RID/Origin_of   \n",
      "35                   http://radlex.org/RID/Part_Of   \n",
      "36              http://radlex.org/RID/Posterior_to   \n",
      "37             http://radlex.org/RID/Projects_From   \n",
      "38               http://radlex.org/RID/Projects_To   \n",
      "39               http://radlex.org/RID/Proximal_to   \n",
      "40    http://radlex.org/RID/Receives_Drainage_From   \n",
      "41       http://radlex.org/RID/Receives_Input_From   \n",
      "42  http://radlex.org/RID/Receives_Projection_From   \n",
      "43  http://radlex.org/RID/Receives_attachment_from   \n",
      "44          http://radlex.org/RID/Regional_Part_Of   \n",
      "45          http://radlex.org/RID/Related_modality   \n",
      "46                http://radlex.org/RID/Segment_Of   \n",
      "47           http://radlex.org/RID/Sends_Output_To   \n",
      "48               http://radlex.org/RID/Superior_to   \n",
      "49             http://radlex.org/RID/Surrounded_by   \n",
      "50                 http://radlex.org/RID/Surrounds   \n",
      "51              http://radlex.org/RID/Tributary_Of   \n",
      "\n",
      "                                subPropertyOf  \\\n",
      "0                                         NaN   \n",
      "1                                         NaN   \n",
      "2                                         NaN   \n",
      "3                                         NaN   \n",
      "4                                         NaN   \n",
      "5                                         NaN   \n",
      "6       http://radlex.org/RID/Continuous_With   \n",
      "7      http://radlex.org/RID/Regional_Part_Of   \n",
      "8               http://radlex.org/RID/Part_Of   \n",
      "9                                         NaN   \n",
      "10                                        NaN   \n",
      "11                                        NaN   \n",
      "12                                        NaN   \n",
      "13      http://radlex.org/RID/Sends_Output_To   \n",
      "14                                        NaN   \n",
      "15                                        NaN   \n",
      "16      http://radlex.org/RID/Continuous_With   \n",
      "17    http://radlex.org/RID/Has_Regional_Part   \n",
      "18             http://radlex.org/RID/Has_Part   \n",
      "19                                        NaN   \n",
      "20                                        NaN   \n",
      "21                                        NaN   \n",
      "22                                        NaN   \n",
      "23             http://radlex.org/RID/Has_Part   \n",
      "24                                        NaN   \n",
      "25                                        NaN   \n",
      "26                                        NaN   \n",
      "27                                        NaN   \n",
      "28                                        NaN   \n",
      "29                                        NaN   \n",
      "30                                        NaN   \n",
      "31                                        NaN   \n",
      "32                                        NaN   \n",
      "33                                        NaN   \n",
      "34                                        NaN   \n",
      "35                                        NaN   \n",
      "36                                        NaN   \n",
      "37                                        NaN   \n",
      "38                                        NaN   \n",
      "39                                        NaN   \n",
      "40  http://radlex.org/RID/Receives_Input_From   \n",
      "41                                        NaN   \n",
      "42                                        NaN   \n",
      "43                                        NaN   \n",
      "44              http://radlex.org/RID/Part_Of   \n",
      "45                                        NaN   \n",
      "46              http://radlex.org/RID/Part_Of   \n",
      "47                                        NaN   \n",
      "48                                        NaN   \n",
      "49                                        NaN   \n",
      "50                                        NaN   \n",
      "51      http://radlex.org/RID/Continuous_With   \n",
      "\n",
      "                                         inverseOf  \n",
      "0                                              NaN  \n",
      "1                                              NaN  \n",
      "2   http://radlex.org/RID/Receives_attachment_from  \n",
      "3           http://radlex.org/RID/Has_Blood_Supply  \n",
      "4                     http://radlex.org/RID/Bounds  \n",
      "5                                              NaN  \n",
      "6                 http://radlex.org/RID/Has_Branch  \n",
      "7            http://radlex.org/RID/Has_Branch_Part  \n",
      "8    http://radlex.org/RID/Has_Constitutional_Part  \n",
      "9                   http://radlex.org/RID/Contains  \n",
      "10                                             NaN  \n",
      "11                                             NaN  \n",
      "12                                             NaN  \n",
      "13    http://radlex.org/RID/Receives_Drainage_From  \n",
      "14                                             NaN  \n",
      "15                                             NaN  \n",
      "16                                             NaN  \n",
      "17                                             NaN  \n",
      "18                                             NaN  \n",
      "19                                             NaN  \n",
      "20                http://radlex.org/RID/Innervates  \n",
      "21                 http://radlex.org/RID/Member_Of  \n",
      "22                   http://radlex.org/RID/Part_Of  \n",
      "23          http://radlex.org/RID/Regional_Part_Of  \n",
      "24              http://radlex.org/RID/Insertion_of  \n",
      "25                 http://radlex.org/RID/Origin_of  \n",
      "26                                             NaN  \n",
      "27                                             NaN  \n",
      "28                                             NaN  \n",
      "29     http://radlex.org/RID/Lymphatic_Drainage_Of  \n",
      "30                                             NaN  \n",
      "31                 http://radlex.org/RID/May_Cause  \n",
      "32                                             NaN  \n",
      "33                                             NaN  \n",
      "34                                             NaN  \n",
      "35                                             NaN  \n",
      "36                                             NaN  \n",
      "37                                             NaN  \n",
      "38  http://radlex.org/RID/Receives_Projection_From  \n",
      "39                                             NaN  \n",
      "40                                             NaN  \n",
      "41           http://radlex.org/RID/Sends_Output_To  \n",
      "42                                             NaN  \n",
      "43                                             NaN  \n",
      "44                                             NaN  \n",
      "45                                             NaN  \n",
      "46                                             NaN  \n",
      "47                                             NaN  \n",
      "48                                             NaN  \n",
      "49                 http://radlex.org/RID/Surrounds  \n",
      "50                                             NaN  \n",
      "51                                             NaN  \n"
     ]
    }
   ],
   "source": [
    "object_properties = root.findall(OWL_OBJECT_PROPERTY)\n",
    "df_relationships = pd.DataFrame(columns=[\"relationshipName\", \"subPropertyOf\", \"inverseOf\"])\n",
    "\n",
    "for objProp in object_properties:\n",
    "    df_relationships.loc[len(df_relationships), \"relationshipName\"] = getAttribValue_about(objProp)\n",
    "    for child in objProp:\n",
    "        if child.tag == RDFS_SUB_PROPERTY_OF:\n",
    "            df_relationships.loc[len(df_relationships) - 1, \"subPropertyOf\"] = getAttribValue_resource(child)\n",
    "        if child.tag == OWL_INVERSE_OF:\n",
    "            df_relationships.loc[len(df_relationships) - 1, \"inverseOf\"] = getAttribValue_resource(child)\n",
    "\n",
    "print(df_relationships)\n"
   ]
  },
  {
   "cell_type": "markdown",
   "metadata": {},
   "source": [
    "## A set of annotation labels for concepts (the columns of concept information table)"
   ]
  },
  {
   "cell_type": "markdown",
   "metadata": {},
   "source": [
    "### OWL_ANNOTATION_PROPERTY"
   ]
  },
  {
   "cell_type": "code",
   "execution_count": 282,
   "metadata": {},
   "outputs": [
    {
     "name": "stdout",
     "output_type": "stream",
     "text": [
      "                                            labelName  \\\n",
      "0      http://data.bioontology.org/metadata/prefixIRI   \n",
      "1                           http://radlex.org/RID/AAL   \n",
      "2                       http://radlex.org/RID/Acronym   \n",
      "3                     http://radlex.org/RID/CMA_Label   \n",
      "4         http://radlex.org/RID/Changes_made_to_class   \n",
      "5                       http://radlex.org/RID/Comment   \n",
      "6                       http://radlex.org/RID/Created   \n",
      "7                    http://radlex.org/RID/Definition   \n",
      "8                 http://radlex.org/RID/Domain_string   \n",
      "9                         http://radlex.org/RID/FMAID   \n",
      "10                   http://radlex.org/RID/Freesurfer   \n",
      "11                   http://radlex.org/RID/JHU_DTI-81   \n",
      "12  http://radlex.org/RID/JHU_White-Matter_Tractog...   \n",
      "13          http://radlex.org/RID/Misspelling_of_term   \n",
      "14  http://radlex.org/RID/Preferred_Name_for_Obsolete   \n",
      "15               http://radlex.org/RID/Preferred_name   \n",
      "16        http://radlex.org/RID/Preferred_name_German   \n",
      "17  http://radlex.org/RID/Radlex_version_of_class_...   \n",
      "18                  http://radlex.org/RID/Replaced_by   \n",
      "19                    http://radlex.org/RID/SNOMED_ID   \n",
      "20                  http://radlex.org/RID/SNOMED_Term   \n",
      "21                       http://radlex.org/RID/Source   \n",
      "22                      http://radlex.org/RID/Synonym   \n",
      "23               http://radlex.org/RID/Synonym_German   \n",
      "24                    http://radlex.org/RID/Talairach   \n",
      "25                    http://radlex.org/RID/Term_type   \n",
      "26                      http://radlex.org/RID/UMLS_ID   \n",
      "27                    http://radlex.org/RID/UMLS_Term   \n",
      "28            http://radlex.org/RID/Unsanctioned_Term   \n",
      "29                         http://radlex.org/RID/name   \n",
      "\n",
      "                    subPropertyOf  \n",
      "0                             NaN  \n",
      "1                             NaN  \n",
      "2   http://radlex.org/RID/Synonym  \n",
      "3                             NaN  \n",
      "4                             NaN  \n",
      "5                             NaN  \n",
      "6                             NaN  \n",
      "7                             NaN  \n",
      "8                             NaN  \n",
      "9                             NaN  \n",
      "10                            NaN  \n",
      "11                            NaN  \n",
      "12                            NaN  \n",
      "13  http://radlex.org/RID/Synonym  \n",
      "14                            NaN  \n",
      "15                            NaN  \n",
      "16                            NaN  \n",
      "17                            NaN  \n",
      "18                            NaN  \n",
      "19                            NaN  \n",
      "20                            NaN  \n",
      "21                            NaN  \n",
      "22  http://radlex.org/RID/Synonym  \n",
      "23  http://radlex.org/RID/Synonym  \n",
      "24                            NaN  \n",
      "25                            NaN  \n",
      "26                            NaN  \n",
      "27                            NaN  \n",
      "28  http://radlex.org/RID/Synonym  \n",
      "29                            NaN  \n"
     ]
    }
   ],
   "source": [
    "annotation_properties = root.findall(OWL_ANNOTATION_PROPERTY)\n",
    "df_annotations = pd.DataFrame(columns=['labelName','subPropertyOf'])\n",
    "\n",
    "for annProp in annotation_properties:\n",
    "    df_annotations.loc[len(df_annotations),'labelName'] = getAttribValue_about(annProp)\n",
    "    for child in annProp:\n",
    "        if child.tag==RDFS_SUB_PROPERTY_OF:\n",
    "            df_annotations.loc[len(df_annotations)-1,'subPropertyOf'] = getAttribValue_resource(child)\n",
    "            \n",
    "print(df_annotations)"
   ]
  },
  {
   "cell_type": "markdown",
   "metadata": {},
   "source": [
    "## A set of concepts, and corresponding relationships and hierarchy"
   ]
  },
  {
   "cell_type": "markdown",
   "metadata": {},
   "source": [
    "### OWL_CLASS"
   ]
  },
  {
   "cell_type": "code",
   "execution_count": 283,
   "metadata": {},
   "outputs": [],
   "source": [
    "def getRelationship(node:ET.Element):\n",
    "    # Relationship elements are surrounded by the \"Restriction\" label\n",
    "    # The sub elements only contain two tags: onProperty and someValuesFrom\n",
    "    assert node[0].tag == OWL_RESTRICTION\n",
    "    for relationship_node in node[0]:\n",
    "        if relationship_node.tag == OWL_ON_PROPERTY:\n",
    "            relationship_label = getAttribValue_resource(relationship_node)\n",
    "        elif relationship_node.tag == OWL_SOME_VALUES_FROM:\n",
    "            if hasAttrib(relationship_node):\n",
    "                refers_to = [getAttribValue_resource(relationship_node)]\n",
    "            else:\n",
    "                refers_to = [getAttribValue_about(i) for i in relationship_node[0][0].findall(RDF_DESCRIPTION)]\n",
    "\n",
    "    return (relationship_label,refers_to)"
   ]
  },
  {
   "cell_type": "code",
   "execution_count": 284,
   "metadata": {},
   "outputs": [
    {
     "name": "stdout",
     "output_type": "stream",
     "text": [
      "                                   conceptID  \\\n",
      "0      http://radlex.org/RID/Non-RadLex_term   \n",
      "1                 http://radlex.org/RID/RID0   \n",
      "2                 http://radlex.org/RID/RID1   \n",
      "3                http://radlex.org/RID/RID10   \n",
      "4              http://radlex.org/RID/RID1000   \n",
      "...                                      ...   \n",
      "46757          http://radlex.org/RID/RID9996   \n",
      "46758          http://radlex.org/RID/RID9997   \n",
      "46759          http://radlex.org/RID/RID9998   \n",
      "46760          http://radlex.org/RID/RID9999   \n",
      "46761      http://radlex.org/RID/RadLex_term   \n",
      "\n",
      "                       borderConcept(Is_A)  \n",
      "0               http://radlex.org/RID/RID0  \n",
      "1      http://www.w3.org/2002/07/owl#Thing  \n",
      "2               http://radlex.org/RID/RID0  \n",
      "3           http://radlex.org/RID/RID35977  \n",
      "4           http://radlex.org/RID/RID28913  \n",
      "...                                    ...  \n",
      "46757       http://radlex.org/RID/RID34554  \n",
      "46758       http://radlex.org/RID/RID34554  \n",
      "46759       http://radlex.org/RID/RID34854  \n",
      "46760       http://radlex.org/RID/RID34852  \n",
      "46761           http://radlex.org/RID/RID0  \n",
      "\n",
      "[46762 rows x 2 columns]\n",
      "                            conceptID                        relationship  \\\n",
      "0       http://radlex.org/RID/RID1000     http://radlex.org/RID/Branch_Of   \n",
      "1       http://radlex.org/RID/RID1000       http://radlex.org/RID/Part_Of   \n",
      "2      http://radlex.org/RID/RID10000  http://radlex.org/RID/Contained_In   \n",
      "3      http://radlex.org/RID/RID10001  http://radlex.org/RID/Contained_In   \n",
      "4      http://radlex.org/RID/RID10001      http://radlex.org/RID/Has_Part   \n",
      "...                               ...                                 ...   \n",
      "82115   http://radlex.org/RID/RID9996       http://radlex.org/RID/Part_Of   \n",
      "82116   http://radlex.org/RID/RID9997       http://radlex.org/RID/Part_Of   \n",
      "82117   http://radlex.org/RID/RID9998     http://radlex.org/RID/Member_Of   \n",
      "82118   http://radlex.org/RID/RID9998       http://radlex.org/RID/Part_Of   \n",
      "82119   http://radlex.org/RID/RID9999  http://radlex.org/RID/Contained_In   \n",
      "\n",
      "                            refers_to  \n",
      "0        http://radlex.org/RID/RID998  \n",
      "1      http://radlex.org/RID/RID13183  \n",
      "2       http://radlex.org/RID/RID9990  \n",
      "3       http://radlex.org/RID/RID9990  \n",
      "4      http://radlex.org/RID/RID10002  \n",
      "...                               ...  \n",
      "82115   http://radlex.org/RID/RID9995  \n",
      "82116   http://radlex.org/RID/RID9995  \n",
      "82117   http://radlex.org/RID/RID7740  \n",
      "82118   http://radlex.org/RID/RID9990  \n",
      "82119   http://radlex.org/RID/RID9990  \n",
      "\n",
      "[82120 rows x 3 columns]\n"
     ]
    }
   ],
   "source": [
    "classes = root.findall(OWL_CLASS) # aka. concpets\n",
    "conceptIDList = []\n",
    "conceptInfoList = [] # 46760 RIDs + 1 root RID\n",
    "hierarchyList = []\n",
    "relationshipList = []\n",
    "\n",
    "for class_node in classes:\n",
    "    conceptItem = []\n",
    "    conceptInfoList.append(conceptItem)\n",
    "    \n",
    "    # Concept ID\n",
    "    classID = getAttribValue_about(class_node)\n",
    "    conceptIDList.append(classID)\n",
    "    conceptItem.append(classID)\n",
    "    # Preferred Name\n",
    "    conceptItem.append(concatList(nodeTextToList(class_node,RID_PREFERRED_NAME)))\n",
    "    # Synonym\n",
    "    conceptItem.append(concatList(nodeTextToList(class_node,RID_SYNONYM)))\n",
    "    # Acronym\n",
    "    conceptItem.append(concatList(nodeTextToList(class_node,RID_ACRONYM)))\n",
    "    # Definition\n",
    "    conceptItem.append(concatList(nodeTextToList(class_node,RID_DEFINITION)))\n",
    "    # Comment\n",
    "    conceptItem.append(concatList(nodeTextToList(class_node,RID_COMMENT)))\n",
    "    # UMLS_ID\n",
    "    conceptItem.append(concatList(nodeTextToList(class_node,RID_UMLS_ID)))\n",
    "    # Replaced_by, which means the referring concept is depricated\n",
    "    conceptItem.append(concatList(nodeTextToList(class_node,RID_REPLACE_BY)))\n",
    "    # Misspelling_of_term\n",
    "    conceptItem.append(concatList(nodeTextToList(class_node,RID_MISSPELLING_OF_TERM)))\n",
    "    # SNOMED_ID\n",
    "    conceptItem.append(concatList(nodeTextToList(class_node,RID_SNOMED_ID)))\n",
    "    # Preferred_Name_for_Obsolete\n",
    "    conceptItem.append(concatList(nodeTextToList(class_node,RID_PREFERRED_NAME_FOR_OBSOLETE)))\n",
    "    # Unsanctioned_Term\n",
    "    conceptItem.append(concatList(nodeTextToList(class_node,RID_UNSANCTIONED_TERM)))\n",
    "    \n",
    "    # Concept hierarchy and concept relationship\n",
    "    for node in class_node.findall(RDFS_SUB_CLASS_OF):\n",
    "        if node.attrib: # Hierarchy\n",
    "            borderClassID = getAttribValue_resource(node)\n",
    "            hierarchyList.append([classID,borderClassID])\n",
    "        else: # Relationship\n",
    "            (relationship_label,refers_to) = getRelationship(node)\n",
    "            relationshipList.append([classID, relationship_label, concatList(refers_to)])\n",
    "    \n",
    "# The concept information table (to be re-constructed later)\n",
    "# df_concepts_info = pd.DataFrame(conceptInfoList, columns=['radlexID','preferredName','synonym','acronym','definition','comment','umlsID','replacedBy','misspelling','snomedID','preferredNameForObsolete','unsanctionedTerm'])\n",
    "# print(df_concepts_info)\n",
    "\n",
    "# The concept hierarchy table\n",
    "df_concept_hierarchy = pd.DataFrame(hierarchyList, columns=['conceptID','borderConcept(Is_A)'])\n",
    "print(df_concept_hierarchy)\n",
    "\n",
    "# The concept relationship table (to be updated later)\n",
    "df_concept_relationship = pd.DataFrame(relationshipList, columns=['conceptID','relationship','refers_to'])\n",
    "print(df_concept_relationship)"
   ]
  },
  {
   "cell_type": "markdown",
   "metadata": {},
   "source": [
    "### RDF_DESCRIPTION, update concept_info tabel"
   ]
  },
  {
   "cell_type": "code",
   "execution_count": 285,
   "metadata": {},
   "outputs": [],
   "source": [
    "def updateConceptInfoList_byConceptID(conceptItemList_extra:list):\n",
    "    idx = conceptIDList.index(conceptItemList_extra[0])\n",
    "    conceptItemList = conceptInfoList[idx]\n",
    "    for (idx,item) in enumerate(conceptItemList):\n",
    "        if idx == 0:\n",
    "            continue\n",
    "        elif not item:\n",
    "            conceptItemList[idx] = conceptItemList_extra[idx]\n",
    "        else:\n",
    "            assert conceptItemList[idx] == conceptItemList_extra[idx]"
   ]
  },
  {
   "cell_type": "code",
   "execution_count": 286,
   "metadata": {},
   "outputs": [
    {
     "name": "stdout",
     "output_type": "stream",
     "text": [
      "                                    radlexID  \\\n",
      "0      http://radlex.org/RID/Non-RadLex_term   \n",
      "1                 http://radlex.org/RID/RID0   \n",
      "2                 http://radlex.org/RID/RID1   \n",
      "3                http://radlex.org/RID/RID10   \n",
      "4              http://radlex.org/RID/RID1000   \n",
      "...                                      ...   \n",
      "46756          http://radlex.org/RID/RID9996   \n",
      "46757          http://radlex.org/RID/RID9997   \n",
      "46758          http://radlex.org/RID/RID9998   \n",
      "46759          http://radlex.org/RID/RID9999   \n",
      "46760      http://radlex.org/RID/RadLex_term   \n",
      "\n",
      "                          preferredName  \\\n",
      "0                                         \n",
      "1                RadLex ontology entity   \n",
      "2                         RadLex entity   \n",
      "3                         image quality   \n",
      "4      lingular inferior segment artery   \n",
      "...                                 ...   \n",
      "46756           salpingopharyngeal fold   \n",
      "46757             salpingopalatine fold   \n",
      "46758                      tubal tonsil   \n",
      "46759                 pharyngeal recess   \n",
      "46760                                     \n",
      "\n",
      "                                                 synonym acronym definition  \\\n",
      "0                                                                             \n",
      "1                                                                             \n",
      "2                                                                             \n",
      "3                                                                             \n",
      "4      inferior lingular artery|inferior lingular seg...                      \n",
      "...                                                  ...     ...        ...   \n",
      "46756                                                                         \n",
      "46757                                                                         \n",
      "46758      Eustachian amygdala|auditory tube lymph gland                      \n",
      "46759                                                                         \n",
      "46760                                                                         \n",
      "\n",
      "      comment umlsID replacedBy misspelling snomedID preferredNameForObsolete  \\\n",
      "0                                                                               \n",
      "1                                                                               \n",
      "2                                                                               \n",
      "3                                                                               \n",
      "4                                                                               \n",
      "...       ...    ...        ...         ...      ...                      ...   \n",
      "46756                                                                           \n",
      "46757                                                                           \n",
      "46758                                                                           \n",
      "46759                                                                           \n",
      "46760                                                                           \n",
      "\n",
      "      unsanctionedTerm  \n",
      "0                       \n",
      "1                       \n",
      "2                       \n",
      "3                       \n",
      "4                       \n",
      "...                ...  \n",
      "46756                   \n",
      "46757                   \n",
      "46758                   \n",
      "46759                   \n",
      "46760                   \n",
      "\n",
      "[46761 rows x 12 columns]\n"
     ]
    }
   ],
   "source": [
    "descriptions = root.findall(RDF_DESCRIPTION)\n",
    "\n",
    "for description_node in descriptions:\n",
    "    if description_node.attrib: # See the case in owlapi.xrdf at line 1286557\n",
    "        conceptItems = []\n",
    "        # ConceptID\n",
    "        conceptID = getAttribValue_about(description_node)\n",
    "        conceptItems.append(conceptID)\n",
    "        # Preferred Name\n",
    "        conceptItems.append(concatList(nodeTextToList(description_node,RID_PREFERRED_NAME)))\n",
    "        # Synonym\n",
    "        conceptItems.append(concatList(nodeTextToList(description_node,RID_SYNONYM)))\n",
    "        # Acronym\n",
    "        conceptItems.append(concatList(nodeTextToList(description_node,RID_ACRONYM)))\n",
    "        # Definition\n",
    "        conceptItems.append(concatList(nodeTextToList(description_node,RID_DEFINITION)))\n",
    "        # Comment\n",
    "        conceptItems.append(concatList(nodeTextToList(description_node,RID_COMMENT)))\n",
    "        # UMLS_ID\n",
    "        conceptItems.append(concatList(nodeTextToList(description_node,RID_UMLS_ID)))\n",
    "        # Replaced_by, which means the referring concept is depricated\n",
    "        conceptItems.append(concatList(nodeTextToList(description_node,RID_REPLACE_BY)))\n",
    "        # Misspelling_of_term\n",
    "        conceptItems.append(concatList(nodeTextToList(description_node,RID_MISSPELLING_OF_TERM)))\n",
    "        # SNOMED_ID\n",
    "        conceptItems.append(concatList(nodeTextToList(description_node,RID_SNOMED_ID)))\n",
    "        # Preferred_Name_for_Obsolete\n",
    "        conceptItems.append(concatList(nodeTextToList(description_node,RID_PREFERRED_NAME_FOR_OBSOLETE)))\n",
    "        # Unsanctioned_Term\n",
    "        conceptItems.append(concatList(nodeTextToList(description_node,RID_UNSANCTIONED_TERM)))\n",
    "        updateConceptInfoList_byConceptID(conceptItems)\n",
    "    \n",
    "# The concept information table\n",
    "df_concepts_info = pd.DataFrame(conceptInfoList, columns=['radlexID','preferredName','synonym','acronym','definition','comment','umlsID','replacedBy','misspelling','snomedID','preferredNameForObsolete','unsanctionedTerm'])\n",
    "print(df_concepts_info)"
   ]
  },
  {
   "cell_type": "markdown",
   "metadata": {},
   "source": [
    "### OWL_NAMED_INDIVIDUAL, update concept_relationship table"
   ]
  },
  {
   "cell_type": "code",
   "execution_count": 287,
   "metadata": {},
   "outputs": [],
   "source": [
    "def updateRelationship(relationshipList_extra:list):\n",
    "    print(f\"relationshipList size: {len(relationshipList)}, relationshipList_extra size: {len(relationshipList_extra)}\")\n",
    "    df_concept_relationship_extra = pd.DataFrame(relationshipList_extra, columns=['conceptID','relationship','refers_to'])\n",
    "    df_concept_relationship_new = pd.concat([df_concept_relationship,df_concept_relationship_extra],ignore_index=True)\n",
    "    return df_concept_relationship_new.drop_duplicates().reset_index(drop=True)"
   ]
  },
  {
   "cell_type": "code",
   "execution_count": 288,
   "metadata": {},
   "outputs": [
    {
     "name": "stdout",
     "output_type": "stream",
     "text": [
      "relationshipList size: 82120, relationshipList_extra size: 83134\n",
      "                            conceptID                        relationship  \\\n",
      "0       http://radlex.org/RID/RID1000     http://radlex.org/RID/Branch_Of   \n",
      "1       http://radlex.org/RID/RID1000       http://radlex.org/RID/Part_Of   \n",
      "2      http://radlex.org/RID/RID10000  http://radlex.org/RID/Contained_In   \n",
      "3      http://radlex.org/RID/RID10001  http://radlex.org/RID/Contained_In   \n",
      "4      http://radlex.org/RID/RID10001      http://radlex.org/RID/Has_Part   \n",
      "...                               ...                                 ...   \n",
      "83703   http://radlex.org/RID/RID5352     http://radlex.org/RID/May_Cause   \n",
      "83704   http://radlex.org/RID/RID5352     http://radlex.org/RID/May_Cause   \n",
      "83705   http://radlex.org/RID/RID5392     http://radlex.org/RID/May_Cause   \n",
      "83706   http://radlex.org/RID/RID5392     http://radlex.org/RID/May_Cause   \n",
      "83707   http://radlex.org/RID/RID5392     http://radlex.org/RID/May_Cause   \n",
      "\n",
      "                            refers_to  \n",
      "0        http://radlex.org/RID/RID998  \n",
      "1      http://radlex.org/RID/RID13183  \n",
      "2       http://radlex.org/RID/RID9990  \n",
      "3       http://radlex.org/RID/RID9990  \n",
      "4      http://radlex.org/RID/RID10002  \n",
      "...                               ...  \n",
      "83703  http://radlex.org/RID/RID35531  \n",
      "83704  http://radlex.org/RID/RID35676  \n",
      "83705  http://radlex.org/RID/RID35051  \n",
      "83706  http://radlex.org/RID/RID35364  \n",
      "83707  http://radlex.org/RID/RID35515  \n",
      "\n",
      "[83708 rows x 3 columns]\n"
     ]
    }
   ],
   "source": [
    "namedIndividuals = root.findall(OWL_NAMED_INDIVIDUAL)\n",
    "\n",
    "relationshipList_extra = []\n",
    "for namedIndividualNode in namedIndividuals:\n",
    "    conceptID = getAttribValue_about(namedIndividualNode)\n",
    "    for node in namedIndividualNode.iter():\n",
    "        if node.tag != RDF_TYPE and node.tag != OWL_NAMED_INDIVIDUAL:\n",
    "            relationship_label = node.tag.replace('{','').replace('}','')\n",
    "            refers_to = getAttribValue_resource(node)\n",
    "            relationshipList_extra.append([conceptID, relationship_label, refers_to])\n",
    "        \n",
    "df_concept_relationship = updateRelationship(relationshipList_extra)\n",
    "print(df_concept_relationship)"
   ]
  },
  {
   "cell_type": "markdown",
   "metadata": {},
   "source": [
    "## Conclusion"
   ]
  },
  {
   "cell_type": "code",
   "execution_count": 290,
   "metadata": {},
   "outputs": [
    {
     "name": "stdout",
     "output_type": "stream",
     "text": [
      "df_concepts_info: (46761, 12)\n",
      "df_concept_hierarchy: (46762, 2)\n",
      "df_concept_relationship: (83708, 3)\n",
      "df_relationships: (52, 3)\n",
      "df_annotations: (30, 2)\n"
     ]
    }
   ],
   "source": [
    "# The concept information table\n",
    "print(f\"df_concepts_info: {df_concepts_info.shape}\")\n",
    "\n",
    "# The concept hierarchy table\n",
    "print(f\"df_concept_hierarchy: {df_concept_hierarchy.shape}\")\n",
    "\n",
    "# The concept relationship table\n",
    "print(f\"df_concept_relationship: {df_concept_relationship.shape}\")\n",
    "\n",
    "# The relationships for concepts\n",
    "print(f\"df_relationships: {df_relationships.shape}\")\n",
    "\n",
    "# The annotation labels for concepts (the columns of concept information table)\n",
    "print(f\"df_annotations: {df_annotations.shape}\")"
   ]
  }
 ],
 "metadata": {
  "interpreter": {
   "hash": "bbe186fad143582492f874971b555a6a67ca040c11267037e80d88fc47d0fa6d"
  },
  "kernelspec": {
   "display_name": "Python 3 (ipykernel)",
   "language": "python",
   "name": "python3"
  },
  "language_info": {
   "codemirror_mode": {
    "name": "ipython",
    "version": 3
   },
   "file_extension": ".py",
   "mimetype": "text/x-python",
   "name": "python",
   "nbconvert_exporter": "python",
   "pygments_lexer": "ipython3",
   "version": "3.9.7"
  },
  "orig_nbformat": 4
 },
 "nbformat": 4,
 "nbformat_minor": 2
}
