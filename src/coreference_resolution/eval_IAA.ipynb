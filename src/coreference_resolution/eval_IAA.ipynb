{
 "cells": [
  {
   "cell_type": "markdown",
   "metadata": {},
   "source": [
    "# Inter-annotator agreement for coreference annotation\n",
    "\n",
    "Algorithms: \"Passonneau, 2004, Computing Reliability for Coreference Annotation\" and \"Krippendorff's alpha\"\n",
    "\n",
    "Krippendorff’s alpha is fundamentally a Kappa-like metric. Its values range from -1 to 1, with 1 representing unanimous agreement between the raters, 0 indicating they’re guessing randomly, and negative values suggesting the raters are systematically disagreeing. \n",
    "\n",
    "(This can happen when raters value different things — for example, if rater A thinks a crowded store is a sign of success, but rater B thinks it proves understaffing and poor management). "
   ]
  },
  {
   "cell_type": "markdown",
   "metadata": {},
   "source": [
    "## Prepare"
   ]
  },
  {
   "cell_type": "code",
   "execution_count": 1,
   "metadata": {},
   "outputs": [],
   "source": [
    "import sys\n",
    "sys.path.append(\"../../src\")\n",
    "\n",
    "import os\n",
    "from tqdm import tqdm\n",
    "import pandas as pd\n",
    "import numpy as np\n",
    "import matplotlib.pyplot as plt\n",
    "import matplotlib as mpl\n",
    "from collections import defaultdict\n",
    "\n",
    "from IPython.display import display, HTML\n",
    "# display(HTML(df.to_html()))\n",
    "\n",
    "from concurrent.futures import ProcessPoolExecutor, as_completed\n",
    "from multiprocessing import Event\n",
    "from common_utils.data_loader_utils import load_mimic_cxr_bySection\n",
    "from common_utils.coref_utils import resolve_mention_and_group_num\n",
    "from common_utils.file_checker import FileChecker\n",
    "from common_utils.common_utils import check_and_create_dirs, check_and_remove_dirs\n",
    "\n",
    "FILE_CHECKER = FileChecker()\n",
    "START_EVENT = Event()\n",
    "\n",
    "mpl.style.use(\"default\")\n",
    "\n",
    "SMALL_SIZE = 12\n",
    "MEDIUM_SIZE = 14\n",
    "BIGGER_SIZE = 16\n",
    "\n",
    "plt.rc('font', size=SMALL_SIZE)          # controls default text sizes\n",
    "plt.rc('axes', titlesize=SMALL_SIZE)     # fontsize of the axes title\n",
    "plt.rc('axes', labelsize=MEDIUM_SIZE)    # fontsize of the x and y labels\n",
    "plt.rc('xtick', labelsize=SMALL_SIZE)    # fontsize of the tick labels\n",
    "plt.rc('ytick', labelsize=SMALL_SIZE)    # fontsize of the tick labels\n",
    "plt.rc('legend', fontsize=SMALL_SIZE)    # legend fontsize\n",
    "plt.rc('figure', titlesize=BIGGER_SIZE)  # fontsize of the figure title"
   ]
  },
  {
   "cell_type": "code",
   "execution_count": 2,
   "metadata": {},
   "outputs": [],
   "source": [
    "from hydra import compose, initialize\n",
    "from omegaconf import OmegaConf\n",
    "\n",
    "config = None\n",
    "with initialize(version_base=None, config_path=\"../config\", job_name=\"nlp_ensemble\"):\n",
    "        config = compose(config_name=\"coreference_resolution\", overrides=[\"+nlp_ensemble@_global_=mimic_cxr\"])"
   ]
  },
  {
   "cell_type": "code",
   "execution_count": 3,
   "metadata": {},
   "outputs": [],
   "source": [
    "from krippendorff import alpha\n",
    "import numpy as np\n",
    "from typing import Any"
   ]
  },
  {
   "cell_type": "markdown",
   "metadata": {},
   "source": [
    "## Example 1\n",
    "\n",
    "Example from \"Passonneau, 2004, Computing Reliability for Coreference Annotation\"\n",
    "\n",
    "The results reported in Passonneau:\n",
    "- Unweighted Krippendroff's alpha: 0.45 (Our:0.45)\n",
    "- Weighted Krippendroff's alpha: 0.74 (Our:0.76)"
   ]
  },
  {
   "cell_type": "code",
   "execution_count": 30,
   "metadata": {},
   "outputs": [
    {
     "name": "stdout",
     "output_type": "stream",
     "text": [
      "Unweighted Krippendroff's alpha: 0.449541\n",
      "Weighted Krippendroff's alpha: 0.763529\n"
     ]
    }
   ],
   "source": [
    "reliability_data =[\n",
    "    [1,2,4,1,2,2,6,4,6,6,2],\n",
    "    [1,2,5,1,2,2,7,9,10,7,2],\n",
    "    [1,2,3,1,2,2,8,3,3,3,2]\n",
    "]\n",
    "\n",
    "w = \"\"\"0\t1\t1\t1\t1\t1\t1\t1\t1\t1\n",
    "1\t0\t1\t1\t1\t1\t1\t1\t1\t1\n",
    "1\t1\t0\t0.33\t0.33\t0.67\t0.67\t1\t0.33\t0.33\n",
    "1\t1\t0.33\t0\t0.33\t1\t1\t1\t0.33\t1\n",
    "1\t1\t0.33\t0.33\t0\t1\t1\t1\t1\t1\n",
    "1\t1\t0.67\t1\t1\t0\t0.33\t0.33\t1\t0.33\n",
    "1\t1\t0.67\t1\t1\t0.33\t0\t0.33\t1\t1\n",
    "1\t1\t1\t1\t1\t0.33\t0.33\t0\t1\t1\n",
    "1\t1\t0.33\t0.33\t1\t1\t1\t1\t0\t1\n",
    "1\t1\t0.33\t1\t1\t0.33\t1\t1\t1\t0\"\"\"\n",
    "weights = np.array([[np.float64(cell) if cell else np.float64(0) for cell in row.split(\"\\t\")] for row in w.split(\"\\n\")])\n",
    "\n",
    "def weight_matrix(v1: np.ndarray, v2: np.ndarray, dtype: Any = np.float64, **kwargs) -> np.ndarray:  # noqa\n",
    "    \"\"\" A matirx of weights for nominal label pairs \"\"\"\n",
    "    return weights.astype(dtype)\n",
    "\n",
    "print(\"Unweighted Krippendroff's alpha:\",round(alpha(reliability_data=reliability_data, level_of_measurement=\"nominal\"), 6))\n",
    "print(\"Weighted Krippendroff's alpha:\",round(alpha(reliability_data=reliability_data, level_of_measurement=weight_matrix), 6))"
   ]
  },
  {
   "cell_type": "markdown",
   "metadata": {},
   "source": [
    "## Example 2\n",
    "\n",
    "Example from http://en.wikipedia.org/wiki/Krippendorff's_Alpha\\\n",
    "\n",
    "Use np.nan for category like “cannot code,” “no answer,” or “lacking an observation.”"
   ]
  },
  {
   "cell_type": "code",
   "execution_count": 31,
   "metadata": {},
   "outputs": [
    {
     "name": "stdout",
     "output_type": "stream",
     "text": [
      "[[nan, nan, nan, nan, nan, 3, 4, 1, 2, 1, 1, 3, 3, nan, 3], [1, nan, 2, 1, 3, 3, 4, 3, nan, nan, nan, nan, nan, nan, nan], [nan, nan, 2, 1, 3, 4, 4, nan, 2, 1, 1, 3, 3, nan, 4]] \n",
      "\n",
      "nominal Krippendroff's alpha: 0.691358\n",
      "ordinal Krippendroff's alpha: 0.806721\n",
      "interval Krippendroff's alpha: 0.810845\n",
      "ratio Krippendroff's alpha: 0.808944\n"
     ]
    }
   ],
   "source": [
    "reliability_data = (\n",
    "    \"*    *    *    *    *    3    4    1    2    1    1    3    3    *    3\", # coder A\n",
    "    \"1    *    2    1    3    3    4    3    *    *    *    *    *    *    *\", # coder B\n",
    "    \"*    *    2    1    3    4    4    *    2    1    1    3    3    *    4\", # coder C\n",
    ")\n",
    "reliability_data = [d.split() for d in reliability_data]  # convert to 2D list of string items\n",
    "reliability_data = [[int(cell) if cell!=\"*\" else np.nan for cell in row] for row in reliability_data]\n",
    "print(reliability_data, \"\\n\")\n",
    "\n",
    "print(\"nominal Krippendroff's alpha:\",round(alpha(reliability_data=reliability_data, level_of_measurement=\"nominal\"), 6))\n",
    "print(\"ordinal Krippendroff's alpha:\",round(alpha(reliability_data=reliability_data, level_of_measurement=\"ordinal\"), 6))\n",
    "print(\"interval Krippendroff's alpha:\",round(alpha(reliability_data=reliability_data, level_of_measurement=\"interval\"), 6))\n",
    "print(\"ratio Krippendroff's alpha:\",round(alpha(reliability_data=reliability_data, level_of_measurement=\"ratio\"), 6))"
   ]
  },
  {
   "cell_type": "markdown",
   "metadata": {},
   "source": [
    "## Resolve BRAT output"
   ]
  },
  {
   "cell_type": "markdown",
   "metadata": {},
   "source": [
    "Manual:\n",
    "- Unweighted Krippendroff's alpha: 0.179963\n",
    "- Weighted Krippendroff's alpha: 0.698212\n",
    "\n",
    "Semiauto:\n",
    "- Unweighted Krippendroff's alpha: 0.469379\n",
    "- Weighted Krippendroff's alpha: 0.774338"
   ]
  },
  {
   "cell_type": "code",
   "execution_count": 21,
   "metadata": {},
   "outputs": [],
   "source": [
    "### Modify ###\n",
    "# Should not end with \"/\"\n",
    "brat_source_dirs = [\"../../output/brat_annotation/round1_YL/\",\"../../output/brat_annotation/round1_merged\"]\n",
    "# brat_source_dirs = [\"../../output/brat_annotation/MIMIC_semiauto_Hantao\",\"../../output/brat_annotation/MIMIC_semiauto_Irena\"]\n"
   ]
  },
  {
   "cell_type": "code",
   "execution_count": 22,
   "metadata": {},
   "outputs": [],
   "source": [
    "def find_sub_list(sublist,source_list) -> tuple[int,int]:\n",
    "    \"\"\" Returns: start index, end index (inclusive) \"\"\"\n",
    "    sll=len(sublist)\n",
    "    for ind in (i for i,e in enumerate(source_list) if e==sublist[0]):\n",
    "        if source_list[ind:ind+sll]==sublist:\n",
    "            return ind,ind+sll-1"
   ]
  },
  {
   "cell_type": "code",
   "execution_count": 23,
   "metadata": {},
   "outputs": [],
   "source": [
    "class BratMention:\n",
    "    def __init__(self,uid,brat_id,start,end, mention_str) -> None:\n",
    "        self.uid = uid # {section_name}_{doc_id} \n",
    "        self.brat_id = brat_id\n",
    "        self.tok_start = start\n",
    "        self.tok_end = end # Not inclusive\n",
    "        self.mention_str = mention_str\n",
    "    \n",
    "    def __eq__(self, __o: object) -> bool:\n",
    "        if isinstance(__o, BratMention):\n",
    "            return self.tok_start == __o.tok_start and self.tok_end == __o.tok_end and self.uid == __o.uid\n",
    "        elif isinstance(__o, str) and __o.startswith(\"T\"):\n",
    "            return self.brat_id == __o\n",
    "\n",
    "    def __hash__(self) -> int:\n",
    "        return self.tok_start.__hash__() + self.tok_end.__hash__()\n",
    "    \n",
    "    def __repr__(self) -> str:\n",
    "        return self.__str__()\n",
    "\n",
    "    def __str__(self) -> str:\n",
    "        return f\"{self.mention_str}({self.brat_id})({self.tok_start}-{self.tok_end})({self.uid})\"\n",
    "        \n",
    "        \n",
    "class BratCorefGroup:\n",
    "    def __init__(self) -> None:\n",
    "        self.coreference_list:list[BratCoreference] = []\n",
    "        self.mention_list:list[BratMention] = []\n",
    "\n",
    "    def add(self, ment_a:BratMention, ment_b:BratMention):\n",
    "        to_be_merged_idxs = set()\n",
    "        for group_id, _brat_coref_obj in enumerate(self.coreference_list):\n",
    "            if _brat_coref_obj.hasMention(ment_a) or _brat_coref_obj.hasMention(ment_b):\n",
    "                to_be_merged_idxs.add(group_id)\n",
    "                _brat_coref_obj.update([ment_a,ment_b])\n",
    "                \n",
    "        if len(to_be_merged_idxs) == 0:\n",
    "            # Not exist in curr group, thus create a new BratCoreference\n",
    "            self.coreference_list.append(BratCoreference({ment_a,ment_b}))\n",
    "        elif len(to_be_merged_idxs) > 1:\n",
    "            # Exist in multiple groups, thus need to merge\n",
    "            new_coref_set = set()\n",
    "            to_be_removed = list(to_be_merged_idxs.copy())\n",
    "            while to_be_merged_idxs:\n",
    "                old_coref_set = self.coreference_list[to_be_merged_idxs.pop()].mention_set\n",
    "                new_coref_set = new_coref_set.union(old_coref_set)\n",
    "            for index in sorted(to_be_removed, reverse=True):\n",
    "                del self.coreference_list[index]\n",
    "            self.coreference_list.append(BratCoreference(new_coref_set))\n",
    "\n",
    "    def __str__(self) -> str:\n",
    "        out = []\n",
    "        for coref_obj in self.coreference_list:\n",
    "            out.append(\"\\n\".join(map(str, coref_obj.mention_set)))\n",
    "        return \"\\n\\n\".join(out)\n",
    "        \n",
    "    \n",
    "class BratCoreference:\n",
    "    def __init__(self, mentionSet:set) -> None:\n",
    "        self.aggregrate_id = None\n",
    "        self.mention_set:set[BratMention] = mentionSet\n",
    "        \n",
    "    def hasMention(self, mention_x):\n",
    "        return mention_x in self.mention_set\n",
    "    \n",
    "    def update(self, elements):\n",
    "        self.mention_set.update(elements)\n",
    "        \n",
    "    def __eq__(self, __o: object) -> bool:\n",
    "        if isinstance(__o, BratCoreference):\n",
    "            return self.mention_set == __o.mention_set\n",
    "        return False\n",
    "\n",
    "    def __hash__(self) -> int:\n",
    "        hash_value = 0\n",
    "        for mention in self.mention_set:\n",
    "            hash_value += hash(mention)\n",
    "        return hash_value\n",
    "    \n",
    "    def __str__(self) -> str:\n",
    "        return \"|\".join(map(str, self.mention_set))\n",
    "\n",
    "    def __repr__(self) -> str:\n",
    "        return self.__str__()"
   ]
  },
  {
   "cell_type": "code",
   "execution_count": 24,
   "metadata": {},
   "outputs": [],
   "source": [
    "def resolve_brat_file(ann_file_list,section_name=\"\",doc_id=\"\") -> tuple[list[BratMention],BratCorefGroup]:\n",
    "    mention_list:list[BratMention] = []\n",
    "    bratCorefGroup_obj = BratCorefGroup()\n",
    "    for line in [line.strip() for line in ann_file_list]:\n",
    "        line_info_list = line.split(\"\\t\")\n",
    "        # print(line_info_list)\n",
    "        if line[0] == \"T\":\n",
    "            # Mention\n",
    "            mention_id = line_info_list[0]\n",
    "            ment_start = line_info_list[1].split(\" \")[1]\n",
    "            ment_end = line_info_list[1].split(\" \")[-1]\n",
    "            mention_str = line_info_list[2]\n",
    "            uid = section_name+\"_\"+doc_id\n",
    "            mention_list.append(BratMention(uid,mention_id,ment_start,ment_end, mention_str))\n",
    "        elif line[0] == \"R\":\n",
    "            # relation\n",
    "            relation_id = line_info_list[0]\n",
    "            mention_a_id = line_info_list[1].split(\" \")[1].split(\":\")[-1]\n",
    "            mention_b_id = line_info_list[1].split(\" \")[2].split(\":\")[-1]\n",
    "            mention_a = mention_list[mention_list.index(mention_a_id)]\n",
    "            mention_b = mention_list[mention_list.index(mention_b_id)]\n",
    "            bratCorefGroup_obj.add(mention_a, mention_b)\n",
    "    return mention_list, bratCorefGroup_obj"
   ]
  },
  {
   "cell_type": "code",
   "execution_count": 25,
   "metadata": {},
   "outputs": [],
   "source": [
    "def get_reliability_data(aggregrated_mentions, annotator_output_dict, aggregrated_coreferences, use_single_coding=False) -> list[list[int]]:\n",
    "    \"\"\" If use single coding, the np.nan will be replace by a new norminal id.\n",
    "    e.g. Use np.nan: [0,0,1,1,nan,2,2]; use single_coding: [0,0,1,1,3,2,2]\n",
    "    \"\"\"\n",
    "    reliability_data:list[list[int]] = []\n",
    "    for annotator, bratCorefGroup_obj_list in annotator_output_dict.items():\n",
    "        reliability_data_row:list[int] = []\n",
    "        annotator_mention_list = [_mention_obj for bratCorefGroup_obj in bratCorefGroup_obj_list for _mention_obj in bratCorefGroup_obj.mention_list]\n",
    "        annotator_coref_list = [_coref_obj for bratCorefGroup_obj in bratCorefGroup_obj_list for _coref_obj in bratCorefGroup_obj.coreference_list]\n",
    "        for mention_obj in sorted(aggregrated_mentions, key=lambda x: x.uid):\n",
    "            cell_value = np.nan\n",
    "            if mention_obj in annotator_mention_list:\n",
    "                # Find out that the mention belongs to which coref_obj\n",
    "                for coref_obj in annotator_coref_list:\n",
    "                    if coref_obj.hasMention(mention_obj):\n",
    "                        cell_value = coref_obj.aggregrate_id\n",
    "            # Replace nan with a new coding (consider mention as a coref singleton)\n",
    "            if np.isnan(cell_value) and use_single_coding:\n",
    "                brat_coref_obj = BratCoreference({mention_obj})\n",
    "                brat_coref_obj.aggregrate_id = len(aggregrated_coreferences)\n",
    "                cell_value = len(aggregrated_coreferences)\n",
    "                aggregrated_coreferences.add(brat_coref_obj)\n",
    "                \n",
    "            reliability_data_row.append(cell_value)\n",
    "        reliability_data.append(reliability_data_row)\n",
    "    return reliability_data"
   ]
  },
  {
   "cell_type": "code",
   "execution_count": 26,
   "metadata": {},
   "outputs": [],
   "source": [
    "def get_weights(aggregrated_coreferences) -> list[list[float]]:\n",
    "    weights_2dList:list[list[float]] = []\n",
    "    for coref_obj_row in sorted(aggregrated_coreferences,key=lambda x: x.aggregrate_id):\n",
    "        weights_row:list[float] = []\n",
    "        for coref_obj_col in sorted(aggregrated_coreferences,key=lambda x: x.aggregrate_id):\n",
    "            weight = None\n",
    "            if coref_obj_col == coref_obj_row:\n",
    "                weight = 0\n",
    "            elif coref_obj_col.mention_set.issubset(coref_obj_row.mention_set) or coref_obj_col.mention_set.issuperset(coref_obj_row.mention_set):\n",
    "                weight = 0.33\n",
    "            elif not coref_obj_col.mention_set.isdisjoint(coref_obj_row.mention_set):\n",
    "                weight = 0.67\n",
    "            else:\n",
    "                weight = 1\n",
    "            weights_row.append(weight)\n",
    "        weights_2dList.append(weights_row)\n",
    "    return weights_2dList"
   ]
  },
  {
   "cell_type": "markdown",
   "metadata": {},
   "source": [
    "Compute the alpha for each document, and then get the mean of alphas\n",
    "\n",
    "There are two option when computing the alpha:\n",
    "1. Use np.nan for mention that are not observed ->  get_reliability_data(... use_single_coding=False)\n",
    "2. Consider the mention as a singleton of coreference -> get_reliability_data(... use_single_coding=True)\n",
    "\n"
   ]
  },
  {
   "cell_type": "code",
   "execution_count": 27,
   "metadata": {},
   "outputs": [
    {
     "name": "stdout",
     "output_type": "stream",
     "text": [
      "Unweighted Krippendroff's alpha: 0.441553\n",
      "Weighted Krippendroff's alpha: 0.796203\n"
     ]
    }
   ],
   "source": [
    "annotator_output_dict:dict[str,list[BratCorefGroup]] = defaultdict(list)\n",
    "aggregrated_mentions:set[BratMention] = set()\n",
    "aggregrated_coreferences:set[BratCoreference] = set()\n",
    "\n",
    "for section_name in [\"findings\",\"impression\"]:\n",
    "    dir_for_docid = os.path.join(brat_source_dirs[0], section_name)\n",
    "    for doc_id in [f.rstrip(\".txt\") for f in FILE_CHECKER.filter(os.listdir(dir_for_docid)) if \".txt\" in f]:\n",
    "        # if doc_id != \"s50873220\" or section_name != \"findings\":\n",
    "        #     continue\n",
    "        \n",
    "        # Aggregrate the outputs of multiple annotators\n",
    "        for brat_source_dir in brat_source_dirs:\n",
    "            annotator = os.path.basename(brat_source_dir)\n",
    "            brat_dir = os.path.join(brat_source_dir, section_name)\n",
    "            \n",
    "            # brat outputs\n",
    "            with open(os.path.join(brat_dir, doc_id+\".txt\"), \"r\", encoding=\"UTF-8\") as f:\n",
    "                txt_file_str = \"\".join(f.readlines())\n",
    "            with open(os.path.join(brat_dir, doc_id+\".ann\"), \"r\", encoding=\"UTF-8\") as f:\n",
    "                ann_file_list = f.readlines()\n",
    "            \n",
    "            # Resolve brat files\n",
    "            mention_list, bratCorefGroup_obj = resolve_brat_file(ann_file_list, section_name, doc_id)\n",
    "            \n",
    "            bratCorefGroup_obj.mention_list = mention_list\n",
    "            annotator_output_dict[annotator].append(bratCorefGroup_obj)\n",
    "            aggregrated_mentions.update(mention_list)\n",
    "            aggregrated_coreferences.update(bratCorefGroup_obj.coreference_list)\n",
    "\n",
    "        \n",
    "# Assign id to BratCoreference\n",
    "for coref_id, _bratCoref_obj in enumerate(aggregrated_coreferences):\n",
    "    _bratCoref_obj.aggregrate_id = coref_id\n",
    "    # The _bratCoref_obj are different class objects in annotator_output_dict. We need to replace them with the same one.\n",
    "    for annotator, bratCorefGroup_obj_list in annotator_output_dict.items():\n",
    "        for bratCorefGroup_obj in bratCorefGroup_obj_list:\n",
    "            try:\n",
    "                idx = bratCorefGroup_obj.coreference_list.index(_bratCoref_obj)\n",
    "                bratCorefGroup_obj.coreference_list[idx] = _bratCoref_obj\n",
    "            except ValueError:\n",
    "                pass\n",
    "\n",
    "reliability_data:list[list[int]] = get_reliability_data(aggregrated_mentions, annotator_output_dict, aggregrated_coreferences, use_single_coding=True)\n",
    "\n",
    "weights_2dList:list[list[float]] = get_weights(aggregrated_coreferences)\n",
    "weights_np = np.array(weights_2dList)\n",
    "def weight_matrix(v1: np.ndarray, v2: np.ndarray, dtype: Any = np.float64, **kwargs) -> np.ndarray:  # noqa\n",
    "    \"\"\" A matirx of weights for nominal label pairs \"\"\"\n",
    "    return weights_np.astype(dtype)\n",
    "\n",
    "\n",
    "print(\"Unweighted Krippendroff's alpha:\",round(alpha(reliability_data=reliability_data, level_of_measurement=\"nominal\"), 6))\n",
    "print(\"Weighted Krippendroff's alpha:\",round(alpha(reliability_data=reliability_data, level_of_measurement=weight_matrix), 6))"
   ]
  },
  {
   "cell_type": "markdown",
   "metadata": {},
   "source": [
    "### Check the intermediate data for calculation"
   ]
  },
  {
   "cell_type": "code",
   "execution_count": 28,
   "metadata": {},
   "outputs": [
    {
     "name": "stdout",
     "output_type": "stream",
     "text": [
      "The canonical form of reliability data:\n",
      " [116, 117, 104, 104, 83, 83, 118, 119, 120, 121, 122, 123, 94, 124, 94, 94, 125, 105, 105, 105, 105, 51, 51, 13, 13, 55, 71, 47, 11, 47, 55, 71, 11, 126, 127, 91, 91, 128, 59, 59, 129, 130, 131, 132, 106, 106, 106, 73, 73, 84, 84, 49, 49, 133, 134, 135, 7, 77, 77, 7, 136, 137, 138, 139, 14, 14, 14, 24, 24, 111, 111, 101, 140, 64, 64, 101, 141, 142, 143, 144, 145, 146, 147, 148, 149, 95, 33, 95, 33, 150, 68, 68, 151, 48, 152, 48, 82, 82, 153, 154, 50, 50, 155, 23, 23, 156, 157, 31, 31, 74, 158, 74, 42, 40, 42, 159, 42, 40, 92, 92, 53, 53, 160, 161, 63, 162, 99, 8, 63, 45, 99, 8, 163, 45, 76, 164, 34, 76, 34, 165, 108, 108, 113, 113, 113, 22, 22, 56, 56, 166, 167, 67, 67, 67, 96, 96, 168, 169, 52, 52, 66, 66, 78, 170, 171, 172, 173, 174, 78, 70, 70, 175, 176, 177, 178, 46, 46, 179, 32, 32, 32, 43, 85, 180, 43, 85, 43, 181, 115, 75, 80, 182, 115, 115, 80, 75, 41, 41, 41, 41, 15, 15, 183, 21, 21, 184, 57, 185, 186, 57, 20, 20, 39, 39, 98, 98, 187, 188, 54, 65, 54, 65, 0, 0, 62, 62, 69, 69, 69, 189, 4, 4]\n",
      "round1_merged [18, 18, 18, 18, 83, 83, 97, 6, 89, 89, 6, 97, 94, 44, 94, 94, 44, 105, 105, 105, 105, 51, 51, 13, 13, 55, 71, 190, 191, 192, 55, 71, 193, 58, 58, 25, 194, 25, 59, 59, 17, 17, 35, 35, 106, 106, 106, 73, 73, 84, 84, 49, 49, 112, 112, 112, 7, 77, 77, 7, 37, 37, 110, 110, 14, 14, 14, 24, 24, 111, 111, 101, 10, 10, 10, 101, 19, 19, 16, 16, 16, 109, 1, 1, 109, 95, 33, 95, 33, 29, 29, 195, 27, 196, 27, 197, 82, 82, 93, 93, 198, 79, 79, 23, 23, 81, 81, 31, 31, 199, 102, 102, 42, 200, 42, 60, 42, 60, 92, 92, 53, 53, 12, 12, 63, 2, 99, 8, 63, 45, 99, 8, 2, 45, 76, 26, 201, 76, 202, 26, 108, 108, 113, 113, 113, 22, 22, 56, 56, 88, 88, 67, 67, 67, 96, 96, 90, 90, 203, 204, 66, 66, 78, 9, 72, 72, 9, 9, 78, 70, 70, 38, 38, 3, 3, 103, 205, 103, 206, 207, 208, 86, 209, 30, 210, 211, 86, 30, 100, 212, 80, 100, 213, 100, 80, 214, 107, 215, 107, 107, 15, 15, 36, 216, 217, 36, 218, 61, 114, 61, 219, 114, 39, 39, 5, 220, 5, 28, 54, 221, 54, 28, 0, 0, 62, 62, 69, 69, 69, 87, 222, 87]\n",
      "\n",
      "Compared one by one ['116|18', '117|18', '104|18', '104|18', '83|83', '83|83', '118|97', '119|6', '120|89', '121|89', '122|6', '123|97', '94|94', '124|44', '94|94', '94|94', '125|44', '105|105', '105|105', '105|105', '105|105', '51|51', '51|51', '13|13', '13|13', '55|55', '71|71', '47|190', '11|191', '47|192', '55|55', '71|71', '11|193', '126|58', '127|58', '91|25', '91|194', '128|25', '59|59', '59|59', '129|17', '130|17', '131|35', '132|35', '106|106', '106|106', '106|106', '73|73', '73|73', '84|84', '84|84', '49|49', '49|49', '133|112', '134|112', '135|112', '7|7', '77|77', '77|77', '7|7', '136|37', '137|37', '138|110', '139|110', '14|14', '14|14', '14|14', '24|24', '24|24', '111|111', '111|111', '101|101', '140|10', '64|10', '64|10', '101|101', '141|19', '142|19', '143|16', '144|16', '145|16', '146|109', '147|1', '148|1', '149|109', '95|95', '33|33', '95|95', '33|33', '150|29', '68|29', '68|195', '151|27', '48|196', '152|27', '48|197', '82|82', '82|82', '153|93', '154|93', '50|198', '50|79', '155|79', '23|23', '23|23', '156|81', '157|81', '31|31', '31|31', '74|199', '158|102', '74|102', '42|42', '40|200', '42|42', '159|60', '42|42', '40|60', '92|92', '92|92', '53|53', '53|53', '160|12', '161|12', '63|63', '162|2', '99|99', '8|8', '63|63', '45|45', '99|99', '8|8', '163|2', '45|45', '76|76', '164|26', '34|201', '76|76', '34|202', '165|26', '108|108', '108|108', '113|113', '113|113', '113|113', '22|22', '22|22', '56|56', '56|56', '166|88', '167|88', '67|67', '67|67', '67|67', '96|96', '96|96', '168|90', '169|90', '52|203', '52|204', '66|66', '66|66', '78|78', '170|9', '171|72', '172|72', '173|9', '174|9', '78|78', '70|70', '70|70', '175|38', '176|38', '177|3', '178|3', '46|103', '46|205', '179|103', '32|206', '32|207', '32|208', '43|86', '85|209', '180|30', '43|210', '85|211', '43|86', '181|30', '115|100', '75|212', '80|80', '182|100', '115|213', '115|100', '80|80', '75|214', '41|107', '41|215', '41|107', '41|107', '15|15', '15|15', '183|36', '21|216', '21|217', '184|36', '57|218', '185|61', '186|114', '57|61', '20|219', '20|114', '39|39', '39|39', '98|5', '98|220', '187|5', '188|28', '54|54', '65|221', '54|54', '65|28', '0|0', '0|0', '62|62', '62|62', '69|69', '69|69', '69|69', '189|87', '4|222', '4|87']\n",
      "\n",
      " [[0. 1. 1. ... 1. 1. 1.]\n",
      " [1. 0. 1. ... 1. 1. 1.]\n",
      " [1. 1. 0. ... 1. 1. 1.]\n",
      " ...\n",
      " [1. 1. 1. ... 0. 1. 1.]\n",
      " [1. 1. 1. ... 1. 0. 1.]\n",
      " [1. 1. 1. ... 1. 1. 0.]]\n"
     ]
    }
   ],
   "source": [
    "print(\"The canonical form of reliability data:\")\n",
    "for annotator, row in zip([ann for ann, _ in annotator_output_dict.items()],reliability_data):\n",
    "    print(annotator, row)\n",
    "\n",
    "print(\"\\nCompared one by one\",[f\"{i}|{j}\" for i,j in zip(reliability_data[0],reliability_data[1])])\n",
    "\n",
    "print(\"\\n\",weights_np)"
   ]
  }
 ],
 "metadata": {
  "kernelspec": {
   "display_name": "Python 3.9.12 ('corenlp')",
   "language": "python",
   "name": "python3"
  },
  "language_info": {
   "codemirror_mode": {
    "name": "ipython",
    "version": 3
   },
   "file_extension": ".py",
   "mimetype": "text/x-python",
   "name": "python",
   "nbconvert_exporter": "python",
   "pygments_lexer": "ipython3",
   "version": "3.9.12"
  },
  "orig_nbformat": 4,
  "vscode": {
   "interpreter": {
    "hash": "bb6968a69f778f9e728e35b65cd79a0dbef5b20465434381676f63f710dc4a24"
   }
  }
 },
 "nbformat": 4,
 "nbformat_minor": 2
}
