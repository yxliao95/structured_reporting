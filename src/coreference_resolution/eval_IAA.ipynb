{
 "cells": [
  {
   "cell_type": "markdown",
   "metadata": {},
   "source": [
    "# Inter-annotator agreement for coreference annotation\n",
    "\n",
    "Algorithms: \"Passonneau, 2004, Computing Reliability for Coreference Annotation\" and \"Krippendorff's alpha\"\n",
    "\n",
    "Krippendorff’s alpha is fundamentally a Kappa-like metric. Its values range from -1 to 1, with 1 representing unanimous agreement between the raters, 0 indicating they’re guessing randomly, and negative values suggesting the raters are systematically disagreeing. \n",
    "\n",
    "(This can happen when raters value different things — for example, if rater A thinks a crowded store is a sign of success, but rater B thinks it proves understaffing and poor management). "
   ]
  },
  {
   "cell_type": "markdown",
   "metadata": {},
   "source": [
    "## Prepare"
   ]
  },
  {
   "cell_type": "code",
   "execution_count": 8,
   "metadata": {},
   "outputs": [],
   "source": [
    "import sys\n",
    "sys.path.append(\"../../src\")\n",
    "\n",
    "import os\n",
    "from tqdm import tqdm\n",
    "import pandas as pd\n",
    "import numpy as np\n",
    "import matplotlib.pyplot as plt\n",
    "import matplotlib as mpl\n",
    "from collections import defaultdict\n",
    "\n",
    "from IPython.display import display, HTML\n",
    "# display(HTML(df.to_html()))\n",
    "\n",
    "from concurrent.futures import ProcessPoolExecutor, as_completed\n",
    "from multiprocessing import Event\n",
    "from common_utils.data_loader_utils import load_mimic_cxr_bySection\n",
    "from common_utils.coref_utils import resolve_mention_and_group_num\n",
    "from common_utils.file_checker import FileChecker\n",
    "from common_utils.common_utils import check_and_create_dirs, check_and_remove_dirs\n",
    "\n",
    "FILE_CHECKER = FileChecker()\n",
    "START_EVENT = Event()\n",
    "\n",
    "mpl.style.use(\"default\")\n",
    "\n",
    "SMALL_SIZE = 12\n",
    "MEDIUM_SIZE = 14\n",
    "BIGGER_SIZE = 16\n",
    "\n",
    "plt.rc('font', size=SMALL_SIZE)          # controls default text sizes\n",
    "plt.rc('axes', titlesize=SMALL_SIZE)     # fontsize of the axes title\n",
    "plt.rc('axes', labelsize=MEDIUM_SIZE)    # fontsize of the x and y labels\n",
    "plt.rc('xtick', labelsize=SMALL_SIZE)    # fontsize of the tick labels\n",
    "plt.rc('ytick', labelsize=SMALL_SIZE)    # fontsize of the tick labels\n",
    "plt.rc('legend', fontsize=SMALL_SIZE)    # legend fontsize\n",
    "plt.rc('figure', titlesize=BIGGER_SIZE)  # fontsize of the figure title"
   ]
  },
  {
   "cell_type": "code",
   "execution_count": 9,
   "metadata": {},
   "outputs": [],
   "source": [
    "from hydra import compose, initialize\n",
    "from omegaconf import OmegaConf\n",
    "\n",
    "config = None\n",
    "with initialize(version_base=None, config_path=\"../config\", job_name=\"nlp_ensemble\"):\n",
    "        config = compose(config_name=\"coreference_resolution\", overrides=[\"+nlp_ensemble@_global_=mimic_cxr\"])"
   ]
  },
  {
   "cell_type": "code",
   "execution_count": 10,
   "metadata": {},
   "outputs": [],
   "source": [
    "from krippendorff import alpha\n",
    "import numpy as np\n",
    "from typing import Any"
   ]
  },
  {
   "cell_type": "markdown",
   "metadata": {},
   "source": [
    "## Example 1\n",
    "\n",
    "Example from \"Passonneau, 2004, Computing Reliability for Coreference Annotation\"\n",
    "\n",
    "The results reported in Passonneau:\n",
    "- Unweighted Krippendroff's alpha: 0.45 (Our:0.45)\n",
    "- Weighted Krippendroff's alpha: 0.74 (Our:0.76)"
   ]
  },
  {
   "cell_type": "code",
   "execution_count": 41,
   "metadata": {},
   "outputs": [
    {
     "name": "stdout",
     "output_type": "stream",
     "text": [
      "Unweighted Krippendroff's alpha: 0.449541\n",
      "Weighted Krippendroff's alpha: 0.763529\n"
     ]
    }
   ],
   "source": [
    "reliability_data =[\n",
    "    [1,2,4,1,2,2,6,4,6,6,2],\n",
    "    [1,2,5,1,2,2,7,9,10,7,2],\n",
    "    [1,2,3,1,2,2,8,3,3,3,2]\n",
    "]\n",
    "\n",
    "w = \"\"\"0\t1\t1\t1\t1\t1\t1\t1\t1\t1\n",
    "1\t0\t1\t1\t1\t1\t1\t1\t1\t1\n",
    "1\t1\t0\t0.33\t0.33\t0.67\t0.67\t1\t0.33\t0.33\n",
    "1\t1\t0.33\t0\t0.33\t1\t1\t1\t0.33\t1\n",
    "1\t1\t0.33\t0.33\t0\t1\t1\t1\t1\t1\n",
    "1\t1\t0.67\t1\t1\t0\t0.33\t0.33\t1\t0.33\n",
    "1\t1\t0.67\t1\t1\t0.33\t0\t0.33\t1\t1\n",
    "1\t1\t1\t1\t1\t0.33\t0.33\t0\t1\t1\n",
    "1\t1\t0.33\t0.33\t1\t1\t1\t1\t0\t1\n",
    "1\t1\t0.33\t1\t1\t0.33\t1\t1\t1\t0\"\"\"\n",
    "weights = np.array([[np.float64(cell) if cell else np.float64(0) for cell in row.split(\"\\t\")] for row in w.split(\"\\n\")])\n",
    "\n",
    "def weight_matrix(v1: np.ndarray, v2: np.ndarray, dtype: Any = np.float64, **kwargs) -> np.ndarray:  # noqa\n",
    "    \"\"\" A matirx of weights for nominal label pairs \"\"\"\n",
    "    return weights.astype(dtype)\n",
    "\n",
    "print(\"Unweighted Krippendroff's alpha:\",round(alpha(reliability_data=reliability_data, level_of_measurement=\"nominal\"), 6))\n",
    "print(\"Weighted Krippendroff's alpha:\",round(alpha(reliability_data=reliability_data, level_of_measurement=weight_matrix), 6))"
   ]
  },
  {
   "cell_type": "markdown",
   "metadata": {},
   "source": [
    "## Example 2\n",
    "\n",
    "Example from http://en.wikipedia.org/wiki/Krippendorff's_Alpha\\\n",
    "\n",
    "Use np.nan for category like “cannot code,” “no answer,” or “lacking an observation.”"
   ]
  },
  {
   "cell_type": "code",
   "execution_count": 12,
   "metadata": {},
   "outputs": [
    {
     "name": "stdout",
     "output_type": "stream",
     "text": [
      "[[nan, nan, nan, nan, nan, 3, 4, 1, 2, 1, 1, 3, 3, nan, 3], [1, nan, 2, 1, 3, 3, 4, 3, nan, nan, nan, nan, nan, nan, nan], [nan, nan, 2, 1, 3, 4, 4, nan, 2, 1, 1, 3, 3, nan, 4]] \n",
      "\n",
      "nominal Krippendroff's alpha: 0.691358\n",
      "ordinal Krippendroff's alpha: 0.806721\n",
      "interval Krippendroff's alpha: 0.810845\n",
      "ratio Krippendroff's alpha: 0.808944\n"
     ]
    }
   ],
   "source": [
    "reliability_data = (\n",
    "    \"*    *    *    *    *    3    4    1    2    1    1    3    3    *    3\", # coder A\n",
    "    \"1    *    2    1    3    3    4    3    *    *    *    *    *    *    *\", # coder B\n",
    "    \"*    *    2    1    3    4    4    *    2    1    1    3    3    *    4\", # coder C\n",
    ")\n",
    "reliability_data = [d.split() for d in reliability_data]  # convert to 2D list of string items\n",
    "reliability_data = [[int(cell) if cell!=\"*\" else np.nan for cell in row] for row in reliability_data]\n",
    "print(reliability_data, \"\\n\")\n",
    "\n",
    "print(\"nominal Krippendroff's alpha:\",round(alpha(reliability_data=reliability_data, level_of_measurement=\"nominal\"), 6))\n",
    "print(\"ordinal Krippendroff's alpha:\",round(alpha(reliability_data=reliability_data, level_of_measurement=\"ordinal\"), 6))\n",
    "print(\"interval Krippendroff's alpha:\",round(alpha(reliability_data=reliability_data, level_of_measurement=\"interval\"), 6))\n",
    "print(\"ratio Krippendroff's alpha:\",round(alpha(reliability_data=reliability_data, level_of_measurement=\"ratio\"), 6))"
   ]
  },
  {
   "cell_type": "markdown",
   "metadata": {},
   "source": [
    "## Resolve BRAT output"
   ]
  },
  {
   "cell_type": "code",
   "execution_count": 46,
   "metadata": {},
   "outputs": [],
   "source": [
    "# Should not end with \"/\"\n",
    "brat_source_dirs = [\"../../output/brat_annotation/MIMIC_manual_Hantao\",\"../../output/brat_annotation/MIMIC_manual_Irena\"]"
   ]
  },
  {
   "cell_type": "code",
   "execution_count": 47,
   "metadata": {},
   "outputs": [],
   "source": [
    "def find_sub_list(sublist,source_list) -> tuple[int,int]:\n",
    "    \"\"\" Returns: start index, end index (inclusive) \"\"\"\n",
    "    sll=len(sublist)\n",
    "    for ind in (i for i,e in enumerate(source_list) if e==sublist[0]):\n",
    "        if source_list[ind:ind+sll]==sublist:\n",
    "            return ind,ind+sll-1"
   ]
  },
  {
   "cell_type": "code",
   "execution_count": 48,
   "metadata": {},
   "outputs": [],
   "source": [
    "class BratMention:\n",
    "    def __init__(self,uid,brat_id,start,end, mention_str) -> None:\n",
    "        self.uid = uid # {section_name}_{doc_id} \n",
    "        self.brat_id = brat_id\n",
    "        self.tok_start = start\n",
    "        self.tok_end = end # Not inclusive\n",
    "        self.mention_str = mention_str\n",
    "    \n",
    "    def __eq__(self, __o: object) -> bool:\n",
    "        if isinstance(__o, BratMention):\n",
    "            return self.tok_start == __o.tok_start and self.tok_end == __o.tok_end and self.uid == __o.uid\n",
    "        elif isinstance(__o, str) and __o.startswith(\"T\"):\n",
    "            return self.brat_id == __o\n",
    "\n",
    "    def __hash__(self) -> int:\n",
    "        return self.tok_start.__hash__() + self.tok_end.__hash__()\n",
    "    \n",
    "    def __repr__(self) -> str:\n",
    "        return self.__str__()\n",
    "\n",
    "    def __str__(self) -> str:\n",
    "        return f\"{self.mention_str}({self.brat_id})({self.tok_start}-{self.tok_end})({self.uid})\"\n",
    "        \n",
    "        \n",
    "class BratCorefGroup:\n",
    "    def __init__(self) -> None:\n",
    "        self.coreference_list:list[BratCoreference] = []\n",
    "        self.mention_list:list[BratMention] = []\n",
    "\n",
    "    def add(self, ment_a:BratMention, ment_b:BratMention):\n",
    "        to_be_merged_idxs = set()\n",
    "        for group_id, _brat_coref_obj in enumerate(self.coreference_list):\n",
    "            if _brat_coref_obj.hasMention(ment_a) or _brat_coref_obj.hasMention(ment_b):\n",
    "                to_be_merged_idxs.add(group_id)\n",
    "                _brat_coref_obj.update([ment_a,ment_b])\n",
    "                \n",
    "        if len(to_be_merged_idxs) == 0:\n",
    "            # Not exist in curr group, thus create a new BratCoreference\n",
    "            self.coreference_list.append(BratCoreference({ment_a,ment_b}))\n",
    "        elif len(to_be_merged_idxs) > 1:\n",
    "            # Exist in multiple groups, thus need to merge\n",
    "            new_coref_set = set()\n",
    "            to_be_removed = list(to_be_merged_idxs.copy())\n",
    "            while to_be_merged_idxs:\n",
    "                old_coref_set = self.coreference_list[to_be_merged_idxs.pop()].mention_set\n",
    "                new_coref_set = new_coref_set.union(old_coref_set)\n",
    "            for index in sorted(to_be_removed, reverse=True):\n",
    "                del self.coreference_list[index]\n",
    "            self.coreference_list.append(BratCoreference(new_coref_set))\n",
    "\n",
    "    def __str__(self) -> str:\n",
    "        out = []\n",
    "        for coref_obj in self.coreference_list:\n",
    "            out.append(\"\\n\".join(map(str, coref_obj.mention_set)))\n",
    "        return \"\\n\\n\".join(out)\n",
    "        \n",
    "    \n",
    "class BratCoreference:\n",
    "    def __init__(self, mentionSet:set) -> None:\n",
    "        self.aggregrate_id = None\n",
    "        self.mention_set:set[BratMention] = mentionSet\n",
    "        \n",
    "    def hasMention(self, mention_x):\n",
    "        return mention_x in self.mention_set\n",
    "    \n",
    "    def update(self, elements):\n",
    "        self.mention_set.update(elements)\n",
    "        \n",
    "    def __eq__(self, __o: object) -> bool:\n",
    "        if isinstance(__o, BratCoreference):\n",
    "            return self.mention_set == __o.mention_set\n",
    "        return False\n",
    "\n",
    "    def __hash__(self) -> int:\n",
    "        hash_value = 0\n",
    "        for mention in self.mention_set:\n",
    "            hash_value += hash(mention)\n",
    "        return hash_value\n",
    "    \n",
    "    def __str__(self) -> str:\n",
    "        return \"|\".join(map(str, self.mention_set))\n",
    "\n",
    "    def __repr__(self) -> str:\n",
    "        return self.__str__()"
   ]
  },
  {
   "cell_type": "code",
   "execution_count": 49,
   "metadata": {},
   "outputs": [],
   "source": [
    "def resolve_brat_file(ann_file_list,section_name=\"\",doc_id=\"\") -> tuple[list[BratMention],BratCorefGroup]:\n",
    "    mention_list:list[BratMention] = []\n",
    "    bratCorefGroup_obj = BratCorefGroup()\n",
    "    for line in [line.strip() for line in ann_file_list]:\n",
    "        line_info_list = line.split(\"\\t\")\n",
    "        # print(line_info_list)\n",
    "        if line[0] == \"T\":\n",
    "            # Mention\n",
    "            mention_id = line_info_list[0]\n",
    "            ment_start = line_info_list[1].split(\" \")[1]\n",
    "            ment_end = line_info_list[1].split(\" \")[-1]\n",
    "            mention_str = line_info_list[2]\n",
    "            uid = section_name+\"_\"+doc_id\n",
    "            mention_list.append(BratMention(uid,mention_id,ment_start,ment_end, mention_str))\n",
    "        elif line[0] == \"R\":\n",
    "            # relation\n",
    "            relation_id = line_info_list[0]\n",
    "            mention_a_id = line_info_list[1].split(\" \")[1].split(\":\")[-1]\n",
    "            mention_b_id = line_info_list[1].split(\" \")[2].split(\":\")[-1]\n",
    "            mention_a = mention_list[mention_list.index(mention_a_id)]\n",
    "            mention_b = mention_list[mention_list.index(mention_b_id)]\n",
    "            bratCorefGroup_obj.add(mention_a, mention_b)\n",
    "    return mention_list, bratCorefGroup_obj"
   ]
  },
  {
   "cell_type": "code",
   "execution_count": 50,
   "metadata": {},
   "outputs": [],
   "source": [
    "def get_reliability_data(aggregrated_mentions, annotator_output_dict, aggregrated_coreferences, use_single_coding=False) -> list[list[int]]:\n",
    "    \"\"\" If use single coding, the np.nan will be replace by a new norminal id.\n",
    "    e.g. Use np.nan: [0,0,1,1,nan,2,2]; use single_coding: [0,0,1,1,3,2,2]\n",
    "    \"\"\"\n",
    "    reliability_data:list[list[int]] = []\n",
    "    for annotator, bratCorefGroup_obj_list in annotator_output_dict.items():\n",
    "        reliability_data_row:list[int] = []\n",
    "        annotator_mention_list = [_mention_obj for bratCorefGroup_obj in bratCorefGroup_obj_list for _mention_obj in bratCorefGroup_obj.mention_list]\n",
    "        annotator_coref_list = [_coref_obj for bratCorefGroup_obj in bratCorefGroup_obj_list for _coref_obj in bratCorefGroup_obj.coreference_list]\n",
    "        for mention_obj in sorted(aggregrated_mentions, key=lambda x: x.uid):\n",
    "            cell_value = np.nan\n",
    "            if mention_obj in annotator_mention_list:\n",
    "                # Find out that the mention belongs to which coref_obj\n",
    "                for coref_obj in annotator_coref_list:\n",
    "                    if coref_obj.hasMention(mention_obj):\n",
    "                        cell_value = coref_obj.aggregrate_id\n",
    "            # Replace nan with a new coding (consider mention as a coref singleton)\n",
    "            if np.isnan(cell_value) and use_single_coding:\n",
    "                brat_coref_obj = BratCoreference({mention_obj})\n",
    "                brat_coref_obj.aggregrate_id = len(aggregrated_coreferences)\n",
    "                cell_value = len(aggregrated_coreferences)\n",
    "                aggregrated_coreferences.add(brat_coref_obj)\n",
    "                \n",
    "            reliability_data_row.append(cell_value)\n",
    "        reliability_data.append(reliability_data_row)\n",
    "    return reliability_data"
   ]
  },
  {
   "cell_type": "code",
   "execution_count": 51,
   "metadata": {},
   "outputs": [],
   "source": [
    "def get_weights(aggregrated_coreferences) -> list[list[float]]:\n",
    "    weights_2dList:list[list[float]] = []\n",
    "    for coref_obj_row in sorted(aggregrated_coreferences,key=lambda x: x.aggregrate_id):\n",
    "        weights_row:list[float] = []\n",
    "        for coref_obj_col in sorted(aggregrated_coreferences,key=lambda x: x.aggregrate_id):\n",
    "            weight = None\n",
    "            if coref_obj_col == coref_obj_row:\n",
    "                weight = 0\n",
    "            elif coref_obj_col.mention_set.issubset(coref_obj_row.mention_set) or coref_obj_col.mention_set.issuperset(coref_obj_row.mention_set):\n",
    "                weight = 0.33\n",
    "            elif not coref_obj_col.mention_set.isdisjoint(coref_obj_row.mention_set):\n",
    "                weight = 0.67\n",
    "            else:\n",
    "                weight = 1\n",
    "            weights_row.append(weight)\n",
    "        weights_2dList.append(weights_row)\n",
    "    return weights_2dList"
   ]
  },
  {
   "cell_type": "markdown",
   "metadata": {},
   "source": [
    "Compute the alpha for each document, and then get the mean of alphas\n",
    "\n",
    "There are two option when computing the alpha:\n",
    "1. Use np.nan for mention that are not observed ->  get_reliability_data(... use_single_coding=False)\n",
    "2. Consider the mention as a singleton of coreference -> get_reliability_data(... use_single_coding=True)\n",
    "\n"
   ]
  },
  {
   "cell_type": "code",
   "execution_count": 52,
   "metadata": {},
   "outputs": [
    {
     "name": "stdout",
     "output_type": "stream",
     "text": [
      "Unweighted Krippendroff's alpha: 0.179963\n",
      "Weighted Krippendroff's alpha: 0.698212\n"
     ]
    }
   ],
   "source": [
    "annotator_output_dict:dict[str,list[BratCorefGroup]] = defaultdict(list)\n",
    "aggregrated_mentions:set[BratMention] = set()\n",
    "aggregrated_coreferences:set[BratCoreference] = set()\n",
    "\n",
    "for section_name in [\"findings\",\"impression\"]:\n",
    "    dir_for_docid = os.path.join(brat_source_dirs[0], section_name)\n",
    "    for doc_id in [f.rstrip(\".txt\") for f in FILE_CHECKER.filter(os.listdir(dir_for_docid)) if \".txt\" in f]:\n",
    "        # if doc_id != \"s50873220\" or section_name != \"findings\":\n",
    "        #     continue\n",
    "        \n",
    "        # Aggregrate the outputs of multiple annotators\n",
    "        for brat_source_dir in brat_source_dirs:\n",
    "            annotator = os.path.basename(brat_source_dir)\n",
    "            brat_dir = os.path.join(brat_source_dir, section_name)\n",
    "            \n",
    "            # brat outputs\n",
    "            with open(os.path.join(brat_dir, doc_id+\".txt\"), \"r\", encoding=\"UTF-8\") as f:\n",
    "                txt_file_str = \"\".join(f.readlines())\n",
    "            with open(os.path.join(brat_dir, doc_id+\".ann\"), \"r\", encoding=\"UTF-8\") as f:\n",
    "                ann_file_list = f.readlines()\n",
    "            \n",
    "            # Resolve brat files\n",
    "            mention_list, bratCorefGroup_obj = resolve_brat_file(ann_file_list, section_name, doc_id)\n",
    "            \n",
    "            bratCorefGroup_obj.mention_list = mention_list\n",
    "            annotator_output_dict[annotator].append(bratCorefGroup_obj)\n",
    "            aggregrated_mentions.update(mention_list)\n",
    "            aggregrated_coreferences.update(bratCorefGroup_obj.coreference_list)\n",
    "\n",
    "        \n",
    "# Assign id to BratCoreference\n",
    "for coref_id, _bratCoref_obj in enumerate(aggregrated_coreferences):\n",
    "    _bratCoref_obj.aggregrate_id = coref_id\n",
    "    # The _bratCoref_obj are different class objects in annotator_output_dict. We need to replace them with the same one.\n",
    "    for annotator, bratCorefGroup_obj_list in annotator_output_dict.items():\n",
    "        for bratCorefGroup_obj in bratCorefGroup_obj_list:\n",
    "            try:\n",
    "                idx = bratCorefGroup_obj.coreference_list.index(_bratCoref_obj)\n",
    "                bratCorefGroup_obj.coreference_list[idx] = _bratCoref_obj\n",
    "            except ValueError:\n",
    "                pass\n",
    "\n",
    "reliability_data:list[list[int]] = get_reliability_data(aggregrated_mentions, annotator_output_dict, aggregrated_coreferences, use_single_coding=True)\n",
    "\n",
    "weights_2dList:list[list[float]] = get_weights(aggregrated_coreferences)\n",
    "weights_np = np.array(weights_2dList)\n",
    "def weight_matrix(v1: np.ndarray, v2: np.ndarray, dtype: Any = np.float64, **kwargs) -> np.ndarray:  # noqa\n",
    "    \"\"\" A matirx of weights for nominal label pairs \"\"\"\n",
    "    return weights_np.astype(dtype)\n",
    "\n",
    "\n",
    "print(\"Unweighted Krippendroff's alpha:\",round(alpha(reliability_data=reliability_data, level_of_measurement=\"nominal\"), 6))\n",
    "print(\"Weighted Krippendroff's alpha:\",round(alpha(reliability_data=reliability_data, level_of_measurement=weight_matrix), 6))"
   ]
  },
  {
   "cell_type": "markdown",
   "metadata": {},
   "source": []
  },
  {
   "cell_type": "markdown",
   "metadata": {},
   "source": [
    "### Check the intermediate data for calculation"
   ]
  },
  {
   "cell_type": "code",
   "execution_count": 53,
   "metadata": {},
   "outputs": [
    {
     "name": "stdout",
     "output_type": "stream",
     "text": [
      "The canonical form of reliability data:\n",
      "MIMIC_manual_Hantao [234, 235, 236, 237, 58, 238, 239, 240, 241, 242, 58, 101, 243, 244, 245, 101, 246, 247, 248, 249, 70, 70, 70, 61, 61, 250, 251, 22, 22, 184, 252, 253, 177, 184, 254, 255, 256, 257, 177, 184, 258, 259, 260, 261, 262, 263, 264, 173, 173, 265, 266, 267, 268, 269, 270, 271, 272, 273, 274, 275, 276, 277, 278, 279, 280, 199, 199, 281, 66, 66, 282, 283, 284, 285, 286, 287, 63, 288, 63, 63, 289, 290, 291, 292, 293, 294, 295, 224, 160, 160, 296, 297, 298, 224, 299, 300, 301, 302, 303, 304, 305, 306, 27, 27, 186, 186, 150, 150, 232, 232, 32, 32, 154, 154, 307, 116, 308, 116, 309, 144, 310, 311, 312, 144, 51, 51, 231, 65, 65, 231, 313, 314, 315, 316, 317, 318, 319, 320, 321, 322, 323, 324, 75, 75, 325, 326, 327, 328, 329, 69, 330, 331, 332, 69, 333, 108, 334, 335, 108, 336, 337, 10, 49, 49, 106, 106, 10, 163, 163, 208, 191, 208, 338, 191, 94, 339, 213, 340, 341, 342, 343, 213, 94, 72, 72, 344, 122, 122, 122, 345, 346, 114, 347, 348, 349, 114, 179, 350, 351, 179, 352, 353, 354, 83, 83, 83, 355, 356, 357, 7, 53, 138, 53, 358, 53, 7, 7, 7, 138, 359, 360, 361, 192, 192, 192, 60, 60, 42, 42, 54, 54, 362, 363, 364, 155, 365, 155, 366, 155, 155, 155, 367, 368, 215, 369, 215, 46, 46, 62, 62, 196, 196, 109, 109, 175, 175, 89, 89, 1, 1, 370, 143, 143, 76, 76, 371, 372, 373, 374, 375, 376, 57, 377, 378, 57, 153, 153, 153, 9, 9, 379, 149, 149, 380, 381, 64, 382, 383, 384, 233, 385, 40, 386, 40, 64, 233, 56, 387, 56, 18, 18, 18, 388, 37, 37, 170, 389, 170, 390, 391, 38, 392, 33, 33, 38, 393, 102, 102, 171, 171, 394, 395, 396, 99, 219, 219, 147, 216, 99, 397, 398, 147, 216, 399, 400, 120, 91, 401, 91, 402, 120, 117, 403, 117, 136, 136, 404, 405, 406, 407, 408, 409, 12, 410, 411, 412, 12, 413, 414, 415, 416, 417, 418, 419, 420, 421, 422, 142, 73, 142, 423, 73, 424, 425, 426, 427, 4, 4, 188, 178, 178, 188, 428, 429, 15, 15, 205, 205, 430, 431, 432, 227, 227, 200, 200, 227, 221, 221, 433, 434, 127, 127, 222, 222, 435, 436, 211, 16, 220, 437, 438, 16, 220, 211, 439, 24, 440, 441, 24, 24, 74, 74, 74, 442, 74, 443, 444, 174, 174, 445, 446, 447, 448, 449, 28, 450, 451, 452, 453, 454, 455, 456, 457, 458, 459, 28, 28, 460, 461, 28, 462, 85, 151, 79, 79, 85, 151, 463, 169, 169, 14, 14, 71, 71]\n",
      "MIMIC_manual_Irena [210, 59, 210, 59, 58, 39, 39, 139, 139, 39, 58, 464, 159, 110, 115, 465, 159, 115, 110, 110, 466, 206, 206, 467, 468, 165, 165, 165, 469, 470, 112, 104, 177, 104, 158, 104, 112, 158, 177, 471, 25, 137, 472, 25, 25, 137, 97, 472, 473, 44, 97, 44, 146, 128, 146, 128, 141, 141, 50, 50, 96, 96, 96, 5, 176, 474, 176, 5, 475, 476, 218, 218, 201, 201, 201, 201, 477, 48, 48, 48, 172, 226, 226, 172, 45, 45, 67, 224, 160, 160, 93, 67, 93, 224, 223, 223, 162, 162, 3, 0, 3, 0, 27, 27, 478, 479, 150, 150, 480, 481, 482, 168, 483, 484, 168, 116, 20, 116, 20, 485, 35, 35, 36, 486, 36, 487, 231, 488, 489, 231, 203, 203, 204, 204, 29, 29, 132, 132, 187, 187, 68, 68, 75, 75, 130, 130, 26, 84, 26, 490, 84, 19, 19, 491, 52, 87, 52, 87, 492, 183, 183, 10, 49, 49, 106, 106, 10, 163, 163, 156, 191, 156, 156, 191, 493, 100, 213, 11, 100, 11, 198, 213, 494, 495, 496, 198, 157, 157, 497, 23, 23, 6, 197, 6, 197, 498, 179, 82, 80, 179, 80, 82, 166, 499, 123, 123, 166, 123, 98, 98, 53, 138, 53, 2, 53, 500, 98, 501, 138, 2, 185, 185, 192, 192, 192, 60, 60, 42, 42, 54, 54, 124, 124, 43, 90, 43, 502, 43, 90, 90, 90, 55, 129, 129, 55, 503, 46, 46, 504, 505, 196, 196, 506, 507, 175, 175, 89, 89, 508, 77, 77, 509, 510, 511, 512, 107, 225, 125, 125, 107, 225, 513, 17, 17, 514, 153, 153, 153, 515, 516, 229, 517, 229, 230, 202, 518, 113, 230, 202, 519, 113, 113, 152, 520, 521, 152, 161, 161, 522, 194, 523, 524, 194, 525, 526, 527, 217, 217, 207, 207, 38, 88, 528, 529, 38, 88, 530, 531, 212, 532, 212, 31, 86, 533, 219, 219, 147, 534, 535, 31, 86, 147, 86, 95, 164, 164, 536, 95, 537, 164, 538, 539, 540, 540, 541, 105, 105, 189, 189, 119, 47, 195, 542, 135, 135, 195, 543, 119, 47, 209, 92, 209, 180, 126, 126, 92, 180, 142, 118, 142, 118, 118, 131, 81, 131, 81, 544, 545, 546, 178, 178, 547, 140, 140, 15, 15, 205, 205, 214, 214, 228, 227, 227, 228, 548, 227, 221, 221, 41, 41, 549, 550, 551, 552, 134, 134, 121, 16, 553, 121, 30, 16, 30, 554, 78, 555, 190, 78, 190, 190, 8, 8, 556, 182, 8, 8, 182, 557, 103, 13, 13, 103, 21, 181, 148, 34, 133, 167, 111, 167, 21, 145, 111, 181, 34, 148, 558, 148, 133, 148, 145, 85, 151, 193, 559, 85, 151, 193, 560, 561, 14, 14, 562, 563]\n",
      "\n",
      "Compared one by one ['234|210', '235|59', '236|210', '237|59', '58|58', '238|39', '239|39', '240|139', '241|139', '242|39', '58|58', '101|464', '243|159', '244|110', '245|115', '101|465', '246|159', '247|115', '248|110', '249|110', '70|466', '70|206', '70|206', '61|467', '61|468', '250|165', '251|165', '22|165', '22|469', '184|470', '252|112', '253|104', '177|177', '184|104', '254|158', '255|104', '256|112', '257|158', '177|177', '184|471', '258|25', '259|137', '260|472', '261|25', '262|25', '263|137', '264|97', '173|472', '173|473', '265|44', '266|97', '267|44', '268|146', '269|128', '270|146', '271|128', '272|141', '273|141', '274|50', '275|50', '276|96', '277|96', '278|96', '279|5', '280|176', '199|474', '199|176', '281|5', '66|475', '66|476', '282|218', '283|218', '284|201', '285|201', '286|201', '287|201', '63|477', '288|48', '63|48', '63|48', '289|172', '290|226', '291|226', '292|172', '293|45', '294|45', '295|67', '224|224', '160|160', '160|160', '296|93', '297|67', '298|93', '224|224', '299|223', '300|223', '301|162', '302|162', '303|3', '304|0', '305|3', '306|0', '27|27', '27|27', '186|478', '186|479', '150|150', '150|150', '232|480', '232|481', '32|482', '32|168', '154|483', '154|484', '307|168', '116|116', '308|20', '116|116', '309|20', '144|485', '310|35', '311|35', '312|36', '144|486', '51|36', '51|487', '231|231', '65|488', '65|489', '231|231', '313|203', '314|203', '315|204', '316|204', '317|29', '318|29', '319|132', '320|132', '321|187', '322|187', '323|68', '324|68', '75|75', '75|75', '325|130', '326|130', '327|26', '328|84', '329|26', '69|490', '330|84', '331|19', '332|19', '69|491', '333|52', '108|87', '334|52', '335|87', '108|492', '336|183', '337|183', '10|10', '49|49', '49|49', '106|106', '106|106', '10|10', '163|163', '163|163', '208|156', '191|191', '208|156', '338|156', '191|191', '94|493', '339|100', '213|213', '340|11', '341|100', '342|11', '343|198', '213|213', '94|494', '72|495', '72|496', '344|198', '122|157', '122|157', '122|497', '345|23', '346|23', '114|6', '347|197', '348|6', '349|197', '114|498', '179|179', '350|82', '351|80', '179|179', '352|80', '353|82', '354|166', '83|499', '83|123', '83|123', '355|166', '356|123', '357|98', '7|98', '53|53', '138|138', '53|53', '358|2', '53|53', '7|500', '7|98', '7|501', '138|138', '359|2', '360|185', '361|185', '192|192', '192|192', '192|192', '60|60', '60|60', '42|42', '42|42', '54|54', '54|54', '362|124', '363|124', '364|43', '155|90', '365|43', '155|502', '366|43', '155|90', '155|90', '155|90', '367|55', '368|129', '215|129', '369|55', '215|503', '46|46', '46|46', '62|504', '62|505', '196|196', '196|196', '109|506', '109|507', '175|175', '175|175', '89|89', '89|89', '1|508', '1|77', '370|77', '143|509', '143|510', '76|511', '76|512', '371|107', '372|225', '373|125', '374|125', '375|107', '376|225', '57|513', '377|17', '378|17', '57|514', '153|153', '153|153', '153|153', '9|515', '9|516', '379|229', '149|517', '149|229', '380|230', '381|202', '64|518', '382|113', '383|230', '384|202', '233|519', '385|113', '40|113', '386|152', '40|520', '64|521', '233|152', '56|161', '387|161', '56|522', '18|194', '18|523', '18|524', '388|194', '37|525', '37|526', '170|527', '389|217', '170|217', '390|207', '391|207', '38|38', '392|88', '33|528', '33|529', '38|38', '393|88', '102|530', '102|531', '171|212', '171|532', '394|212', '395|31', '396|86', '99|533', '219|219', '219|219', '147|147', '216|534', '99|535', '397|31', '398|86', '147|147', '216|86', '399|95', '400|164', '120|164', '91|536', '401|95', '91|537', '402|164', '120|538', '117|539', '403|540', '117|540', '136|541', '136|105', '404|105', '405|189', '406|189', '407|119', '408|47', '409|195', '12|542', '410|135', '411|135', '412|195', '12|543', '413|119', '414|47', '415|209', '416|92', '417|209', '418|180', '419|126', '420|126', '421|92', '422|180', '142|142', '73|118', '142|142', '423|118', '73|118', '424|131', '425|81', '426|131', '427|81', '4|544', '4|545', '188|546', '178|178', '178|178', '188|547', '428|140', '429|140', '15|15', '15|15', '205|205', '205|205', '430|214', '431|214', '432|228', '227|227', '227|227', '200|228', '200|548', '227|227', '221|221', '221|221', '433|41', '434|41', '127|549', '127|550', '222|551', '222|552', '435|134', '436|134', '211|121', '16|16', '220|553', '437|121', '438|30', '16|16', '220|30', '211|554', '439|78', '24|555', '440|190', '441|78', '24|190', '24|190', '74|8', '74|8', '74|556', '442|182', '74|8', '443|8', '444|182', '174|557', '174|103', '445|13', '446|13', '447|103', '448|21', '449|181', '28|148', '450|34', '451|133', '452|167', '453|111', '454|167', '455|21', '456|145', '457|111', '458|181', '459|34', '28|148', '28|558', '460|148', '461|133', '28|148', '462|145', '85|85', '151|151', '79|193', '79|559', '85|85', '151|151', '463|193', '169|560', '169|561', '14|14', '14|14', '71|562', '71|563']\n",
      "\n",
      " [[0. 1. 1. ... 1. 1. 1.]\n",
      " [1. 0. 1. ... 1. 1. 1.]\n",
      " [1. 1. 0. ... 1. 1. 1.]\n",
      " ...\n",
      " [1. 1. 1. ... 0. 1. 1.]\n",
      " [1. 1. 1. ... 1. 0. 1.]\n",
      " [1. 1. 1. ... 1. 1. 0.]]\n"
     ]
    }
   ],
   "source": [
    "print(\"The canonical form of reliability data:\")\n",
    "for annotator, row in zip([ann for ann, _ in annotator_output_dict.items()],reliability_data):\n",
    "    print(annotator, row)\n",
    "\n",
    "print(\"\\nCompared one by one\",[f\"{i}|{j}\" for i,j in zip(reliability_data[0],reliability_data[1])])\n",
    "\n",
    "print(\"\\n\",weights_np)"
   ]
  }
 ],
 "metadata": {
  "kernelspec": {
   "display_name": "Python 3.9.12 ('corenlp')",
   "language": "python",
   "name": "python3"
  },
  "language_info": {
   "codemirror_mode": {
    "name": "ipython",
    "version": 3
   },
   "file_extension": ".py",
   "mimetype": "text/x-python",
   "name": "python",
   "nbconvert_exporter": "python",
   "pygments_lexer": "ipython3",
   "version": "3.9.12"
  },
  "orig_nbformat": 4,
  "vscode": {
   "interpreter": {
    "hash": "bb6968a69f778f9e728e35b65cd79a0dbef5b20465434381676f63f710dc4a24"
   }
  }
 },
 "nbformat": 4,
 "nbformat_minor": 2
}
