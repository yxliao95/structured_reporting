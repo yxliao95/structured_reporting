{
    "cells": [
        {
            "cell_type": "markdown",
            "metadata": {},
            "source": [
                "# From csv to conll / jsonlines\n",
                "\n",
                "Before run the eval.ipynb, we need to get individual conll files for evaulation\n",
                "1. Run \"Prepare\"\n",
                "2. Run \"Generate individual conll files\""
            ]
        },
        {
            "cell_type": "markdown",
            "metadata": {},
            "source": [
                "## Prepare"
            ]
        },
        {
            "cell_type": "code",
            "execution_count": 21,
            "metadata": {},
            "outputs": [],
            "source": [
                "import sys\n",
                "sys.path.append(\"../../src\")\n",
                "sys.path.append(\"../../../../git_clone_repos/fast-coref/src/\")\n",
                "\n",
                "import os\n",
                "from tqdm import tqdm\n",
                "import pandas as pd\n",
                "import numpy as np\n",
                "import matplotlib.pyplot as plt\n",
                "import matplotlib as mpl\n",
                "import json\n",
                "\n",
                "from IPython.display import display, HTML\n",
                "# display(HTML(df.to_html()))\n",
                "\n",
                "from concurrent.futures import ProcessPoolExecutor, as_completed\n",
                "from multiprocessing import Event\n",
                "from common_utils.data_loader_utils import load_mimic_cxr_bySection\n",
                "from common_utils.coref_utils import resolve_mention_and_group_num\n",
                "from common_utils.file_checker import FileChecker\n",
                "from common_utils.common_utils import check_and_create_dirs, check_and_remove_dirs\n",
                "from data_preprocessing import mimic_cxr_csv2conll, mimic_cxr_conll2jsonlines\n",
                "\n",
                "FILE_CHECKER = FileChecker()\n",
                "START_EVENT = Event()\n"
            ]
        },
        {
            "cell_type": "code",
            "execution_count": 19,
            "metadata": {},
            "outputs": [],
            "source": [
                "from hydra import compose, initialize\n",
                "from omegaconf import OmegaConf\n",
                "\n",
                "config = None\n",
                "with initialize(version_base=None, config_path=\"../config\", job_name=\"coreference_resolution\"):\n",
                "        config = compose(config_name=\"coreference_resolution\", overrides=[\"+coreference_resolution/data_preprocessing@_global_=mimic_cxr\"])"
            ]
        },
        {
            "cell_type": "markdown",
            "metadata": {},
            "source": [
                "## Generate individual conll files"
            ]
        },
        {
            "cell_type": "code",
            "execution_count": 22,
            "metadata": {},
            "outputs": [],
            "source": [
                "# Source input dir (csv)\n",
                "config.input_gt.base_dir = \"../../output/mimic_cxr/manual_test_set/round1x2\"\n",
                "# Target output dir (conll)\n",
                "config.temp_gt.base_dir = \"../../output/mimic_cxr/coref/individual_conll_ground_truth/round1x2\"\n",
                "config.temp_gt.force_run = False # Force to delete and recreate\n"
            ]
        },
        {
            "cell_type": "code",
            "execution_count": 23,
            "metadata": {},
            "outputs": [
                {
                    "name": "stderr",
                    "output_type": "stream",
                    "text": [
                        "100%|██████████| 100/100 [00:00<00:00, 1471.90it/s]\n",
                        "100%|██████████| 100/100 [00:02<00:00, 36.83it/s]\n",
                        "100%|██████████| 100/100 [00:00<00:00, 1392.94it/s]\n",
                        "100%|██████████| 100/100 [00:03<00:00, 30.45it/s]\n"
                    ]
                }
            ],
            "source": [
                "check_and_remove_dirs(config.temp_gt.base_dir, config.temp_gt.force_run)\n",
                "if os.path.exists(config.temp_gt.base_dir):\n",
                "    print(\"Individual test conll files found and will be reused.\")\n",
                "else:\n",
                "    log_out = mimic_cxr_csv2conll.prepare_conll(config, config.input_gt, config.temp_gt)\n",
                "    with open(config.output.run_statistic, \"a\", encoding=\"UTF-8\") as f:\n",
                "        f.write(f\"Source: {config.temp_gt.base_dir} \\n\")\n",
                "        f.write(json.dumps(log_out, indent=2))\n",
                "        f.write(\"\\n\")"
            ]
        }
    ],
    "metadata": {
        "kernelspec": {
            "display_name": "Python 3.9.12 ('corenlp')",
            "language": "python",
            "name": "python3"
        },
        "language_info": {
            "codemirror_mode": {
                "name": "ipython",
                "version": 3
            },
            "file_extension": ".py",
            "mimetype": "text/x-python",
            "name": "python",
            "nbconvert_exporter": "python",
            "pygments_lexer": "ipython3",
            "version": "3.9.12"
        },
        "orig_nbformat": 4,
        "vscode": {
            "interpreter": {
                "hash": "bb6968a69f778f9e728e35b65cd79a0dbef5b20465434381676f63f710dc4a24"
            }
        }
    },
    "nbformat": 4,
    "nbformat_minor": 2
}
