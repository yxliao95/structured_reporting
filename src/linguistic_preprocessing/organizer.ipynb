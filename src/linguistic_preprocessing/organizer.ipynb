{
 "cells": [
  {
   "cell_type": "code",
   "execution_count": 6,
   "metadata": {},
   "outputs": [
    {
     "name": "stdout",
     "output_type": "stream",
     "text": [
      "root /home/yuxiangliao/PhD/workspace/VSCode_workspace/structured_reporting/output/mimic_cxr/linguistic_preprocessing\n",
      "linguistic_preprocessing\n",
      "/home/yuxiangliao/PhD/workspace/VSCode_workspace/structured_reporting/output/mimic_cxr\n",
      "root /home/yuxiangliao/PhD/workspace/VSCode_workspace/structured_reporting/output/mimic_cxr/linguistic_preprocessing/corenlp\n",
      "corenlp\n",
      "/home/yuxiangliao/PhD/workspace/VSCode_workspace/structured_reporting/output/mimic_cxr/linguistic_preprocessing\n",
      "root /home/yuxiangliao/PhD/workspace/VSCode_workspace/structured_reporting/output/mimic_cxr/linguistic_preprocessing/corenlp/scoref\n",
      "scoref\n",
      "/home/yuxiangliao/PhD/workspace/VSCode_workspace/structured_reporting/output/mimic_cxr/linguistic_preprocessing/corenlp\n",
      "root /home/yuxiangliao/PhD/workspace/VSCode_workspace/structured_reporting/output/mimic_cxr/linguistic_preprocessing/corenlp/scoref/findings_and_impression\n",
      "findings_and_impression\n",
      "/home/yuxiangliao/PhD/workspace/VSCode_workspace/structured_reporting/output/mimic_cxr/linguistic_preprocessing/corenlp/scoref\n",
      "root /home/yuxiangliao/PhD/workspace/VSCode_workspace/structured_reporting/output/mimic_cxr/linguistic_preprocessing/corenlp/scoref/impression\n",
      "impression\n",
      "/home/yuxiangliao/PhD/workspace/VSCode_workspace/structured_reporting/output/mimic_cxr/linguistic_preprocessing/corenlp/scoref\n",
      "root /home/yuxiangliao/PhD/workspace/VSCode_workspace/structured_reporting/output/mimic_cxr/linguistic_preprocessing/corenlp/scoref/provisional_findings_impression\n",
      "provisional_findings_impression\n",
      "/home/yuxiangliao/PhD/workspace/VSCode_workspace/structured_reporting/output/mimic_cxr/linguistic_preprocessing/corenlp/scoref\n",
      "root /home/yuxiangliao/PhD/workspace/VSCode_workspace/structured_reporting/output/mimic_cxr/linguistic_preprocessing/corenlp/scoref/findings\n",
      "findings\n",
      "/home/yuxiangliao/PhD/workspace/VSCode_workspace/structured_reporting/output/mimic_cxr/linguistic_preprocessing/corenlp/scoref\n",
      "root /home/yuxiangliao/PhD/workspace/VSCode_workspace/structured_reporting/output/mimic_cxr/linguistic_preprocessing/corenlp/dcoref\n",
      "dcoref\n",
      "/home/yuxiangliao/PhD/workspace/VSCode_workspace/structured_reporting/output/mimic_cxr/linguistic_preprocessing/corenlp\n",
      "root /home/yuxiangliao/PhD/workspace/VSCode_workspace/structured_reporting/output/mimic_cxr/linguistic_preprocessing/corenlp/dcoref/findings_and_impression\n",
      "findings_and_impression\n",
      "/home/yuxiangliao/PhD/workspace/VSCode_workspace/structured_reporting/output/mimic_cxr/linguistic_preprocessing/corenlp/dcoref\n",
      "root /home/yuxiangliao/PhD/workspace/VSCode_workspace/structured_reporting/output/mimic_cxr/linguistic_preprocessing/corenlp/dcoref/impression\n",
      "impression\n",
      "/home/yuxiangliao/PhD/workspace/VSCode_workspace/structured_reporting/output/mimic_cxr/linguistic_preprocessing/corenlp/dcoref\n",
      "root /home/yuxiangliao/PhD/workspace/VSCode_workspace/structured_reporting/output/mimic_cxr/linguistic_preprocessing/corenlp/dcoref/provisional_findings_impression\n",
      "provisional_findings_impression\n",
      "/home/yuxiangliao/PhD/workspace/VSCode_workspace/structured_reporting/output/mimic_cxr/linguistic_preprocessing/corenlp/dcoref\n",
      "root /home/yuxiangliao/PhD/workspace/VSCode_workspace/structured_reporting/output/mimic_cxr/linguistic_preprocessing/corenlp/dcoref/provisional_findings_impression/.ipynb_checkpoints\n",
      ".ipynb_checkpoints\n",
      "/home/yuxiangliao/PhD/workspace/VSCode_workspace/structured_reporting/output/mimic_cxr/linguistic_preprocessing/corenlp/dcoref/provisional_findings_impression\n",
      "root /home/yuxiangliao/PhD/workspace/VSCode_workspace/structured_reporting/output/mimic_cxr/linguistic_preprocessing/corenlp/dcoref/findings\n",
      "findings\n",
      "/home/yuxiangliao/PhD/workspace/VSCode_workspace/structured_reporting/output/mimic_cxr/linguistic_preprocessing/corenlp/dcoref\n",
      "root /home/yuxiangliao/PhD/workspace/VSCode_workspace/structured_reporting/output/mimic_cxr/linguistic_preprocessing/corenlp/.ipynb_checkpoints\n",
      ".ipynb_checkpoints\n",
      "/home/yuxiangliao/PhD/workspace/VSCode_workspace/structured_reporting/output/mimic_cxr/linguistic_preprocessing/corenlp\n",
      "root /home/yuxiangliao/PhD/workspace/VSCode_workspace/structured_reporting/output/mimic_cxr/linguistic_preprocessing/spacy\n",
      "spacy\n",
      "/home/yuxiangliao/PhD/workspace/VSCode_workspace/structured_reporting/output/mimic_cxr/linguistic_preprocessing\n",
      "root /home/yuxiangliao/PhD/workspace/VSCode_workspace/structured_reporting/output/mimic_cxr/linguistic_preprocessing/spacy/findings_and_impression\n",
      "findings_and_impression\n",
      "/home/yuxiangliao/PhD/workspace/VSCode_workspace/structured_reporting/output/mimic_cxr/linguistic_preprocessing/spacy\n",
      "root /home/yuxiangliao/PhD/workspace/VSCode_workspace/structured_reporting/output/mimic_cxr/linguistic_preprocessing/spacy/impression\n",
      "impression\n",
      "/home/yuxiangliao/PhD/workspace/VSCode_workspace/structured_reporting/output/mimic_cxr/linguistic_preprocessing/spacy\n",
      "root /home/yuxiangliao/PhD/workspace/VSCode_workspace/structured_reporting/output/mimic_cxr/linguistic_preprocessing/spacy/provisional_findings_impression\n",
      "provisional_findings_impression\n",
      "/home/yuxiangliao/PhD/workspace/VSCode_workspace/structured_reporting/output/mimic_cxr/linguistic_preprocessing/spacy\n",
      "root /home/yuxiangliao/PhD/workspace/VSCode_workspace/structured_reporting/output/mimic_cxr/linguistic_preprocessing/spacy/provisional_findings_impression/.ipynb_checkpoints\n",
      ".ipynb_checkpoints\n",
      "/home/yuxiangliao/PhD/workspace/VSCode_workspace/structured_reporting/output/mimic_cxr/linguistic_preprocessing/spacy/provisional_findings_impression\n",
      "root /home/yuxiangliao/PhD/workspace/VSCode_workspace/structured_reporting/output/mimic_cxr/linguistic_preprocessing/spacy/findings\n",
      "findings\n",
      "/home/yuxiangliao/PhD/workspace/VSCode_workspace/structured_reporting/output/mimic_cxr/linguistic_preprocessing/spacy\n"
     ]
    }
   ],
   "source": [
    "import os\n",
    "import sys\n",
    "\n",
    "root_path = os.path.abspath(\"../../output/mimic_cxr/linguistic_preprocessing/\")\n",
    "for root_path, dir_list, file_list in os.walk(root_path):\n",
    "    print(\"root\",root_path)\n",
    "    print(os.path.basename(root_path))\n",
    "    print(os.path.dirname(root_path))\n",
    "    # if not dir_list and not file_list:\n",
    "    #     print(root_path)"
   ]
  },
  {
   "cell_type": "code",
   "execution_count": 8,
   "metadata": {},
   "outputs": [
    {
     "data": {
      "text/plain": [
       "0"
      ]
     },
     "execution_count": 8,
     "metadata": {},
     "output_type": "execute_result"
    }
   ],
   "source": [
    "1//2"
   ]
  }
 ],
 "metadata": {
  "kernelspec": {
   "display_name": "corenlp",
   "language": "python",
   "name": "python3"
  },
  "language_info": {
   "codemirror_mode": {
    "name": "ipython",
    "version": 3
   },
   "file_extension": ".py",
   "mimetype": "text/x-python",
   "name": "python",
   "nbconvert_exporter": "python",
   "pygments_lexer": "ipython3",
   "version": "3.9.16"
  },
  "orig_nbformat": 4
 },
 "nbformat": 4,
 "nbformat_minor": 2
}
