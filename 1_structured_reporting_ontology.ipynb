{
 "cells": [
  {
   "cell_type": "code",
   "execution_count": 231,
   "metadata": {},
   "outputs": [
    {
     "data": {
      "text/plain": [
       "'/home/yuxiangliao/PhD/RadLex'"
      ]
     },
     "execution_count": 231,
     "metadata": {},
     "output_type": "execute_result"
    }
   ],
   "source": [
    "import os\n",
    "os.path.abspath(\"./RadLex\")"
   ]
  },
  {
   "cell_type": "code",
   "execution_count": 232,
   "metadata": {},
   "outputs": [
    {
     "data": {
      "text/plain": [
       "9"
      ]
     },
     "execution_count": 232,
     "metadata": {},
     "output_type": "execute_result"
    }
   ],
   "source": [
    "import os, sys\n",
    "from loguru import logger\n",
    "\n",
    "LOG_ROOT = os.path.abspath(\"./\")\n",
    "LOG_FILE = LOG_ROOT + \"/logs/radlex.log\"\n",
    "\n",
    "# Remove all handlers and reset stderr\n",
    "logger.remove(handler_id=None)\n",
    "logger.add(\n",
    "    LOG_FILE,\n",
    "    level=\"TRACE\",\n",
    "    mode=\"w\",\n",
    "    backtrace=False,\n",
    "    diagnose=True,\n",
    "    colorize=False,\n",
    "    format=\"{time:YYYY-MM-DD HH:mm:ss} | {level} | {message}\",\n",
    ")\n",
    "logger.info(\"\\r\\n\" + \">\" * 29 + \"\\r\\n\" + \">>> New execution started >>>\" + \"\\r\\n\" + \">\" * 29)\n",
    "# To filter log level: TRACE=5, DEBUG=10, INFO=20, SUCCESS=25, WARNING=30, ERROR=40, CRITICAL=50\n",
    "logger.add(sys.stdout, level=\"INFO\", filter=lambda record: record[\"level\"].no < 40, colorize=True)\n",
    "logger.add(sys.stderr, level=\"ERROR\", backtrace=False, diagnose=True, colorize=True)"
   ]
  },
  {
   "cell_type": "code",
   "execution_count": 13,
   "metadata": {},
   "outputs": [
    {
     "name": "stdout",
     "output_type": "stream",
     "text": [
      "1499968\n"
     ]
    }
   ],
   "source": [
    "with open(\"/home/yuxiangliao/PhD/RadLex/owlapi.xrdf\", \"r\") as f:\n",
    "  radlex = f.readlines()\n",
    "    \n",
    "print(len(radlex))"
   ]
  },
  {
   "cell_type": "code",
   "execution_count": 32,
   "metadata": {},
   "outputs": [],
   "source": [
    "# import xml.etree.cElementTree as ET  \n",
    "import xml.etree.ElementTree as ET \n",
    "tree = ET.parse(\"/home/yuxiangliao/PhD/RadLex/owlapi.xrdf\")\n",
    "root = tree.getroot()"
   ]
  },
  {
   "cell_type": "markdown",
   "metadata": {},
   "source": [
    "# Analyse the content"
   ]
  },
  {
   "cell_type": "code",
   "execution_count": 72,
   "metadata": {},
   "outputs": [
    {
     "name": "stdout",
     "output_type": "stream",
     "text": [
      "node:{http://www.w3.org/2002/07/owl#}Class, len: 46761\n",
      "node:{http://www.w3.org/1999/02/22-rdf-syntax-ns#}Description, len: 24076\n",
      "node:{http://www.w3.org/2002/07/owl#}ObjectProperty, len: 52\n",
      "node:{http://www.w3.org/2002/07/owl#}AnnotationProperty, len: 30\n",
      "node:{http://www.w3.org/2002/07/owl#}NamedIndividual, len: 24075\n",
      "node:{http://www.w3.org/2002/07/owl#}Ontology, len: 1\n",
      "node:{http://www.w3.org/2000/01/rdf-schema#}Datatype, len: 1\n",
      "node:{http://www.w3.org/2002/07/owl#}Axiom, len: 7316\n"
     ]
    }
   ],
   "source": [
    "child_lv1 = set()\n",
    "for child in root:\n",
    "    child_lv1.add(child.tag)\n",
    "for nodeName in child_lv1:\n",
    "    print(f\"node:{nodeName}, len: {len(root.findall(nodeName))}\")"
   ]
  },
  {
   "cell_type": "code",
   "execution_count": 182,
   "metadata": {},
   "outputs": [
    {
     "name": "stdout",
     "output_type": "stream",
     "text": [
      "{http://radlex.org/RID/}JHU_White-Matter_Tractography_Atlas\n",
      "{http://radlex.org/RID/}Talairach\n",
      "{http://radlex.org/RID/}Preferred_name\n",
      "{http://www.w3.org/2002/07/owl#}onProperty\n",
      "{http://www.w3.org/2000/01/rdf-schema#}subClassOf\n",
      "{http://radlex.org/RID/}Synonym_German\n",
      "{http://radlex.org/RID/}JHU_DTI-81\n",
      "{http://www.w3.org/2002/07/owl#}Class\n",
      "{http://www.w3.org/1999/02/22-rdf-syntax-ns#}Description\n",
      "{http://radlex.org/RID/}Freesurfer\n",
      "{http://radlex.org/RID/}Preferred_name_German\n",
      "{http://radlex.org/RID/}Acronym\n",
      "{http://www.w3.org/2002/07/owl#}unionOf\n",
      "{http://radlex.org/RID/}Radlex_version_of_class_change\n",
      "{http://radlex.org/RID/}SNOMED_ID\n",
      "{http://www.w3.org/2002/07/owl#}Restriction\n",
      "{http://www.w3.org/2000/01/rdf-schema#}label\n",
      "{http://radlex.org/RID/}Preferred_Name_for_Obsolete\n",
      "{http://radlex.org/RID/}FMAID\n",
      "{http://radlex.org/RID/}Misspelling_of_term\n",
      "{http://radlex.org/RID/}Comment\n",
      "{http://radlex.org/RID/}Synonym\n",
      "{http://radlex.org/RID/}Replaced_by\n",
      "{http://radlex.org/RID/}Definition\n",
      "{http://www.w3.org/2002/07/owl#}someValuesFrom\n",
      "{http://data.bioontology.org/metadata/}prefixIRI\n",
      "{http://radlex.org/RID/}AAL\n",
      "{http://radlex.org/RID/}UMLS_Term\n",
      "{http://radlex.org/RID/}UMLS_ID\n",
      "{http://radlex.org/RID/}CMA_Label\n",
      "{http://radlex.org/RID/}Created\n",
      "{http://radlex.org/RID/}Source\n",
      "{http://radlex.org/RID/}Unsanctioned_Term\n"
     ]
    }
   ],
   "source": [
    "# All the XML tags under specific path\n",
    "classes = root.findall(\"{http://www.w3.org/2002/07/owl#}Class\")\n",
    "\n",
    "class_tags = set()\n",
    "for class_node in classes:\n",
    "    for ele in class_node.iter():\n",
    "        class_tags.add(ele.tag)\n",
    "        \n",
    "for i in class_tags:\n",
    "    print(i)"
   ]
  },
  {
   "cell_type": "code",
   "execution_count": null,
   "metadata": {},
   "outputs": [],
   "source": [
    "idx1 = 0\n",
    "idx2 = 1\n",
    "node = root.find(\"{http://www.w3.org/2000/01/rdf-schema#}Datatype\")\n",
    "print(node)\n",
    "print(node[0].tag)\n",
    "print(node[0].attrib)\n",
    "print(f\"text:{node[0].text}\")\n",
    "print(bool(node[0].attrib))\n",
    "print(len(node[0].attrib))\n",
    "\n",
    "if not node[0].attrib:\n",
    "    print(1)"
   ]
  },
  {
   "cell_type": "markdown",
   "metadata": {},
   "source": [
    "# Extract"
   ]
  },
  {
   "cell_type": "code",
   "execution_count": 142,
   "metadata": {},
   "outputs": [],
   "source": [
    "import pandas as pd"
   ]
  },
  {
   "cell_type": "markdown",
   "metadata": {},
   "source": [
    "## A set of relationships"
   ]
  },
  {
   "cell_type": "code",
   "execution_count": 215,
   "metadata": {},
   "outputs": [
    {
     "name": "stdout",
     "output_type": "stream",
     "text": [
      "                                  relationshipName  \\\n",
      "0            http://radlex.org/RID/Anatomical_Site   \n",
      "1                http://radlex.org/RID/Anterior_to   \n",
      "2                http://radlex.org/RID/Attaches_to   \n",
      "3            http://radlex.org/RID/Blood_Supply_of   \n",
      "4                 http://radlex.org/RID/Bounded_by   \n",
      "5                     http://radlex.org/RID/Bounds   \n",
      "6                  http://radlex.org/RID/Branch_Of   \n",
      "7             http://radlex.org/RID/Branch_Part_of   \n",
      "8     http://radlex.org/RID/Constitutional_Part_Of   \n",
      "9               http://radlex.org/RID/Contained_In   \n",
      "10                  http://radlex.org/RID/Contains   \n",
      "11           http://radlex.org/RID/Continuous_With   \n",
      "12                 http://radlex.org/RID/Distal_to   \n",
      "13               http://radlex.org/RID/Drains_Into   \n",
      "14               http://radlex.org/RID/External_to   \n",
      "15          http://radlex.org/RID/Has_Blood_Supply   \n",
      "16                http://radlex.org/RID/Has_Branch   \n",
      "17           http://radlex.org/RID/Has_Branch_Part   \n",
      "18   http://radlex.org/RID/Has_Constitutional_Part   \n",
      "19       http://radlex.org/RID/Has_Entrapment_Site   \n",
      "20    http://radlex.org/RID/Has_Innervation_Source   \n",
      "21                http://radlex.org/RID/Has_Member   \n",
      "22                  http://radlex.org/RID/Has_Part   \n",
      "23         http://radlex.org/RID/Has_Regional_Part   \n",
      "24             http://radlex.org/RID/Has_insertion   \n",
      "25                http://radlex.org/RID/Has_origin   \n",
      "26               http://radlex.org/RID/Inferior_to   \n",
      "27                http://radlex.org/RID/Innervates   \n",
      "28              http://radlex.org/RID/Insertion_of   \n",
      "29        http://radlex.org/RID/Lymphatic_Drainage   \n",
      "30     http://radlex.org/RID/Lymphatic_Drainage_Of   \n",
      "31          http://radlex.org/RID/May_Be_Caused_By   \n",
      "32                 http://radlex.org/RID/May_Cause   \n",
      "33                 http://radlex.org/RID/Member_Of   \n",
      "34                 http://radlex.org/RID/Origin_of   \n",
      "35                   http://radlex.org/RID/Part_Of   \n",
      "36              http://radlex.org/RID/Posterior_to   \n",
      "37             http://radlex.org/RID/Projects_From   \n",
      "38               http://radlex.org/RID/Projects_To   \n",
      "39               http://radlex.org/RID/Proximal_to   \n",
      "40    http://radlex.org/RID/Receives_Drainage_From   \n",
      "41       http://radlex.org/RID/Receives_Input_From   \n",
      "42  http://radlex.org/RID/Receives_Projection_From   \n",
      "43  http://radlex.org/RID/Receives_attachment_from   \n",
      "44          http://radlex.org/RID/Regional_Part_Of   \n",
      "45          http://radlex.org/RID/Related_modality   \n",
      "46                http://radlex.org/RID/Segment_Of   \n",
      "47           http://radlex.org/RID/Sends_Output_To   \n",
      "48               http://radlex.org/RID/Superior_to   \n",
      "49             http://radlex.org/RID/Surrounded_by   \n",
      "50                 http://radlex.org/RID/Surrounds   \n",
      "51              http://radlex.org/RID/Tributary_Of   \n",
      "\n",
      "                                subPropertyOf  \\\n",
      "0                                         NaN   \n",
      "1                                         NaN   \n",
      "2                                         NaN   \n",
      "3                                         NaN   \n",
      "4                                         NaN   \n",
      "5                                         NaN   \n",
      "6       http://radlex.org/RID/Continuous_With   \n",
      "7      http://radlex.org/RID/Regional_Part_Of   \n",
      "8               http://radlex.org/RID/Part_Of   \n",
      "9                                         NaN   \n",
      "10                                        NaN   \n",
      "11                                        NaN   \n",
      "12                                        NaN   \n",
      "13      http://radlex.org/RID/Sends_Output_To   \n",
      "14                                        NaN   \n",
      "15                                        NaN   \n",
      "16      http://radlex.org/RID/Continuous_With   \n",
      "17    http://radlex.org/RID/Has_Regional_Part   \n",
      "18             http://radlex.org/RID/Has_Part   \n",
      "19                                        NaN   \n",
      "20                                        NaN   \n",
      "21                                        NaN   \n",
      "22                                        NaN   \n",
      "23             http://radlex.org/RID/Has_Part   \n",
      "24                                        NaN   \n",
      "25                                        NaN   \n",
      "26                                        NaN   \n",
      "27                                        NaN   \n",
      "28                                        NaN   \n",
      "29                                        NaN   \n",
      "30                                        NaN   \n",
      "31                                        NaN   \n",
      "32                                        NaN   \n",
      "33                                        NaN   \n",
      "34                                        NaN   \n",
      "35                                        NaN   \n",
      "36                                        NaN   \n",
      "37                                        NaN   \n",
      "38                                        NaN   \n",
      "39                                        NaN   \n",
      "40  http://radlex.org/RID/Receives_Input_From   \n",
      "41                                        NaN   \n",
      "42                                        NaN   \n",
      "43                                        NaN   \n",
      "44              http://radlex.org/RID/Part_Of   \n",
      "45                                        NaN   \n",
      "46              http://radlex.org/RID/Part_Of   \n",
      "47                                        NaN   \n",
      "48                                        NaN   \n",
      "49                                        NaN   \n",
      "50                                        NaN   \n",
      "51      http://radlex.org/RID/Continuous_With   \n",
      "\n",
      "                                         inverseOf  \n",
      "0                                              NaN  \n",
      "1                                              NaN  \n",
      "2   http://radlex.org/RID/Receives_attachment_from  \n",
      "3           http://radlex.org/RID/Has_Blood_Supply  \n",
      "4                     http://radlex.org/RID/Bounds  \n",
      "5                                              NaN  \n",
      "6                 http://radlex.org/RID/Has_Branch  \n",
      "7            http://radlex.org/RID/Has_Branch_Part  \n",
      "8    http://radlex.org/RID/Has_Constitutional_Part  \n",
      "9                   http://radlex.org/RID/Contains  \n",
      "10                                             NaN  \n",
      "11                                             NaN  \n",
      "12                                             NaN  \n",
      "13    http://radlex.org/RID/Receives_Drainage_From  \n",
      "14                                             NaN  \n",
      "15                                             NaN  \n",
      "16                                             NaN  \n",
      "17                                             NaN  \n",
      "18                                             NaN  \n",
      "19                                             NaN  \n",
      "20                http://radlex.org/RID/Innervates  \n",
      "21                 http://radlex.org/RID/Member_Of  \n",
      "22                   http://radlex.org/RID/Part_Of  \n",
      "23          http://radlex.org/RID/Regional_Part_Of  \n",
      "24              http://radlex.org/RID/Insertion_of  \n",
      "25                 http://radlex.org/RID/Origin_of  \n",
      "26                                             NaN  \n",
      "27                                             NaN  \n",
      "28                                             NaN  \n",
      "29     http://radlex.org/RID/Lymphatic_Drainage_Of  \n",
      "30                                             NaN  \n",
      "31                 http://radlex.org/RID/May_Cause  \n",
      "32                                             NaN  \n",
      "33                                             NaN  \n",
      "34                                             NaN  \n",
      "35                                             NaN  \n",
      "36                                             NaN  \n",
      "37                                             NaN  \n",
      "38  http://radlex.org/RID/Receives_Projection_From  \n",
      "39                                             NaN  \n",
      "40                                             NaN  \n",
      "41           http://radlex.org/RID/Sends_Output_To  \n",
      "42                                             NaN  \n",
      "43                                             NaN  \n",
      "44                                             NaN  \n",
      "45                                             NaN  \n",
      "46                                             NaN  \n",
      "47                                             NaN  \n",
      "48                                             NaN  \n",
      "49                 http://radlex.org/RID/Surrounds  \n",
      "50                                             NaN  \n",
      "51                                             NaN  \n"
     ]
    }
   ],
   "source": [
    "object_properties = root.findall(\"{http://www.w3.org/2002/07/owl#}ObjectProperty\")\n",
    "df_relationships = pd.DataFrame(columns=['relationshipName','subPropertyOf','inverseOf'])\n",
    "\n",
    "for objProp in object_properties:\n",
    "    df_relationships.loc[len(df_relationships),'relationshipName'] = objProp.attrib['{http://www.w3.org/1999/02/22-rdf-syntax-ns#}about']\n",
    "    for child in objProp:\n",
    "        if child.tag==\"{http://www.w3.org/2000/01/rdf-schema#}subPropertyOf\":\n",
    "            df_relationships.loc[len(df_relationships)-1,'subPropertyOf'] = child.attrib[\"{http://www.w3.org/1999/02/22-rdf-syntax-ns#}resource\"]\n",
    "        if child.tag==\"{http://www.w3.org/2002/07/owl#}inverseOf\":\n",
    "            df_relationships.loc[len(df_relationships)-1,'inverseOf'] = child.attrib[\"{http://www.w3.org/1999/02/22-rdf-syntax-ns#}resource\"]\n",
    "        \n",
    "print(df_relationships)"
   ]
  },
  {
   "cell_type": "markdown",
   "metadata": {},
   "source": [
    "## A set of concept attributes"
   ]
  },
  {
   "cell_type": "code",
   "execution_count": 214,
   "metadata": {},
   "outputs": [
    {
     "name": "stdout",
     "output_type": "stream",
     "text": [
      "                                            labelName  \\\n",
      "0      http://data.bioontology.org/metadata/prefixIRI   \n",
      "1                           http://radlex.org/RID/AAL   \n",
      "2                       http://radlex.org/RID/Acronym   \n",
      "3                     http://radlex.org/RID/CMA_Label   \n",
      "4         http://radlex.org/RID/Changes_made_to_class   \n",
      "5                       http://radlex.org/RID/Comment   \n",
      "6                       http://radlex.org/RID/Created   \n",
      "7                    http://radlex.org/RID/Definition   \n",
      "8                 http://radlex.org/RID/Domain_string   \n",
      "9                         http://radlex.org/RID/FMAID   \n",
      "10                   http://radlex.org/RID/Freesurfer   \n",
      "11                   http://radlex.org/RID/JHU_DTI-81   \n",
      "12  http://radlex.org/RID/JHU_White-Matter_Tractog...   \n",
      "13          http://radlex.org/RID/Misspelling_of_term   \n",
      "14  http://radlex.org/RID/Preferred_Name_for_Obsolete   \n",
      "15               http://radlex.org/RID/Preferred_name   \n",
      "16        http://radlex.org/RID/Preferred_name_German   \n",
      "17  http://radlex.org/RID/Radlex_version_of_class_...   \n",
      "18                  http://radlex.org/RID/Replaced_by   \n",
      "19                    http://radlex.org/RID/SNOMED_ID   \n",
      "20                  http://radlex.org/RID/SNOMED_Term   \n",
      "21                       http://radlex.org/RID/Source   \n",
      "22                      http://radlex.org/RID/Synonym   \n",
      "23               http://radlex.org/RID/Synonym_German   \n",
      "24                    http://radlex.org/RID/Talairach   \n",
      "25                    http://radlex.org/RID/Term_type   \n",
      "26                      http://radlex.org/RID/UMLS_ID   \n",
      "27                    http://radlex.org/RID/UMLS_Term   \n",
      "28            http://radlex.org/RID/Unsanctioned_Term   \n",
      "29                         http://radlex.org/RID/name   \n",
      "\n",
      "                    subPropertyOf  \n",
      "0                             NaN  \n",
      "1                             NaN  \n",
      "2   http://radlex.org/RID/Synonym  \n",
      "3                             NaN  \n",
      "4                             NaN  \n",
      "5                             NaN  \n",
      "6                             NaN  \n",
      "7                             NaN  \n",
      "8                             NaN  \n",
      "9                             NaN  \n",
      "10                            NaN  \n",
      "11                            NaN  \n",
      "12                            NaN  \n",
      "13  http://radlex.org/RID/Synonym  \n",
      "14                            NaN  \n",
      "15                            NaN  \n",
      "16                            NaN  \n",
      "17                            NaN  \n",
      "18                            NaN  \n",
      "19                            NaN  \n",
      "20                            NaN  \n",
      "21                            NaN  \n",
      "22  http://radlex.org/RID/Synonym  \n",
      "23  http://radlex.org/RID/Synonym  \n",
      "24                            NaN  \n",
      "25                            NaN  \n",
      "26                            NaN  \n",
      "27                            NaN  \n",
      "28  http://radlex.org/RID/Synonym  \n",
      "29                            NaN  \n"
     ]
    }
   ],
   "source": [
    "annotation_properties = root.findall(\"{http://www.w3.org/2002/07/owl#}AnnotationProperty\")\n",
    "df_labels = pd.DataFrame(columns=['labelName','subPropertyOf'])\n",
    "\n",
    "for annProp in annotation_properties:\n",
    "    df_labels.loc[len(df_labels),'labelName'] = annProp.attrib['{http://www.w3.org/1999/02/22-rdf-syntax-ns#}about']\n",
    "    for child in annProp:\n",
    "        if child.tag==\"{http://www.w3.org/2000/01/rdf-schema#}subPropertyOf\":\n",
    "            df_labels.loc[len(df_labels)-1,'subPropertyOf'] = child.attrib[\"{http://www.w3.org/1999/02/22-rdf-syntax-ns#}resource\"]\n",
    "            \n",
    "print(df_labels)"
   ]
  },
  {
   "cell_type": "markdown",
   "metadata": {},
   "source": [
    "## A set of concepts"
   ]
  },
  {
   "cell_type": "markdown",
   "metadata": {},
   "source": [
    "{http://radlex.org/RID/}Preferred_name\n",
    "{http://www.w3.org/2002/07/owl#}onProperty\n",
    "{http://www.w3.org/2000/01/rdf-schema#}subClassOf\n",
    "{http://www.w3.org/2002/07/owl#}Class\n",
    "{http://www.w3.org/1999/02/22-rdf-syntax-ns#}Description\n",
    "{http://radlex.org/RID/}SNOMED_ID\n",
    "{http://www.w3.org/2002/07/owl#}Restriction\n",
    "{http://www.w3.org/2000/01/rdf-schema#}label\n",
    "{http://radlex.org/RID/}Misspelling_of_term\n",
    "{http://radlex.org/RID/}Comment\n",
    "{http://radlex.org/RID/}Synonym\n",
    "{http://radlex.org/RID/}Replaced_by\n",
    "{http://radlex.org/RID/}Definition\n",
    "{http://www.w3.org/2002/07/owl#}someValuesFrom\n",
    "{http://radlex.org/RID/}UMLS_ID"
   ]
  },
  {
   "cell_type": "code",
   "execution_count": 233,
   "metadata": {},
   "outputs": [],
   "source": [
    "def getAttribValue_resource(node:ET.Element):\n",
    "    try:\n",
    "        return node.attrib['{http://www.w3.org/1999/02/22-rdf-syntax-ns#}resource']\n",
    "    except KeyError:\n",
    "        logger.error(f\"Tag:[{node.tag}], attr:[{node.attrib}], text:[{node.text}]\")\n",
    "        raise KeyError\n",
    "        \n",
    "def getRelationship(node:ET.Element):\n",
    "    # Relationship elements are surrounded by the \"Restriction\" label\n",
    "    # The sub elements only contain two types: onProperty and someValuesFrom\n",
    "    assert ele[0].tag == \"{http://www.w3.org/2002/07/owl#}Restriction\"\n",
    "    for relationship_node in ele[0]:\n",
    "        if relationship_node.tag == \"{http://www.w3.org/2002/07/owl#}onProperty\":\n",
    "            relationship_label = getAttribValue_resource(relationship_node)\n",
    "        elif relationship_node.tag == \"{http://www.w3.org/2002/07/owl#}someValuesFrom\":\n",
    "            refers_to = getAttribValue_resource(relationship_node)\n",
    "        else:\n",
    "            logger.trace(f\"Tag:[{relationship_node.tag}], attr:[{relationship_node.attrib}], text:[{relationship_node.text}]\")\n",
    "    return (relationship_label,refers_to)"
   ]
  },
  {
   "cell_type": "code",
   "execution_count": 234,
   "metadata": {},
   "outputs": [
    {
     "name": "stderr",
     "output_type": "stream",
     "text": [
      "\u001b[32m2022-06-18 23:48:51.361\u001b[0m | \u001b[31m\u001b[1mERROR   \u001b[0m | \u001b[36m__main__\u001b[0m:\u001b[36mgetAttribValue_resource\u001b[0m:\u001b[36m5\u001b[0m - \u001b[31m\u001b[1mTag:[{http://www.w3.org/2002/07/owl#}someValuesFrom], attr:[{}], text:[\n",
      "                    ]\u001b[0m\n"
     ]
    },
    {
     "ename": "KeyError",
     "evalue": "",
     "output_type": "error",
     "traceback": [
      "\u001b[0;31m---------------------------------------------------------------------------\u001b[0m",
      "\u001b[0;31mKeyError\u001b[0m                                  Traceback (most recent call last)",
      "\u001b[0;32m/tmp/ipykernel_42163/1842697758.py\u001b[0m in \u001b[0;36mgetAttribValue_resource\u001b[0;34m(node)\u001b[0m\n\u001b[1;32m      2\u001b[0m     \u001b[0;32mtry\u001b[0m\u001b[0;34m:\u001b[0m\u001b[0;34m\u001b[0m\u001b[0;34m\u001b[0m\u001b[0m\n\u001b[0;32m----> 3\u001b[0;31m         \u001b[0;32mreturn\u001b[0m \u001b[0mnode\u001b[0m\u001b[0;34m.\u001b[0m\u001b[0mattrib\u001b[0m\u001b[0;34m[\u001b[0m\u001b[0;34m'{http://www.w3.org/1999/02/22-rdf-syntax-ns#}resource'\u001b[0m\u001b[0;34m]\u001b[0m\u001b[0;34m\u001b[0m\u001b[0;34m\u001b[0m\u001b[0m\n\u001b[0m\u001b[1;32m      4\u001b[0m     \u001b[0;32mexcept\u001b[0m \u001b[0mKeyError\u001b[0m\u001b[0;34m:\u001b[0m\u001b[0;34m\u001b[0m\u001b[0;34m\u001b[0m\u001b[0m\n",
      "\u001b[0;31mKeyError\u001b[0m: '{http://www.w3.org/1999/02/22-rdf-syntax-ns#}resource'",
      "\nDuring handling of the above exception, another exception occurred:\n",
      "\u001b[0;31mKeyError\u001b[0m                                  Traceback (most recent call last)",
      "\u001b[0;32m/tmp/ipykernel_42163/3309407393.py\u001b[0m in \u001b[0;36m<module>\u001b[0;34m\u001b[0m\n\u001b[1;32m     19\u001b[0m                 \u001b[0mhierarchyList\u001b[0m\u001b[0;34m.\u001b[0m\u001b[0mappend\u001b[0m\u001b[0;34m(\u001b[0m\u001b[0;34m[\u001b[0m\u001b[0mclassID\u001b[0m\u001b[0;34m,\u001b[0m\u001b[0mborderClassID\u001b[0m\u001b[0;34m]\u001b[0m\u001b[0;34m)\u001b[0m\u001b[0;34m\u001b[0m\u001b[0;34m\u001b[0m\u001b[0m\n\u001b[1;32m     20\u001b[0m             \u001b[0;32melse\u001b[0m\u001b[0;34m:\u001b[0m\u001b[0;34m\u001b[0m\u001b[0;34m\u001b[0m\u001b[0m\n\u001b[0;32m---> 21\u001b[0;31m                 \u001b[0;34m(\u001b[0m\u001b[0mrelationship_label\u001b[0m\u001b[0;34m,\u001b[0m\u001b[0mrefers_to\u001b[0m\u001b[0;34m)\u001b[0m \u001b[0;34m=\u001b[0m \u001b[0mgetRelationship\u001b[0m\u001b[0;34m(\u001b[0m\u001b[0mele\u001b[0m\u001b[0;34m)\u001b[0m\u001b[0;34m\u001b[0m\u001b[0;34m\u001b[0m\u001b[0m\n\u001b[0m\u001b[1;32m     22\u001b[0m                 \u001b[0mrelationshipList\u001b[0m\u001b[0;34m.\u001b[0m\u001b[0mappend\u001b[0m\u001b[0;34m(\u001b[0m\u001b[0;34m[\u001b[0m\u001b[0mclassID\u001b[0m\u001b[0;34m,\u001b[0m\u001b[0mrelationship_label\u001b[0m\u001b[0;34m,\u001b[0m\u001b[0mrefers_to\u001b[0m\u001b[0;34m]\u001b[0m\u001b[0;34m)\u001b[0m\u001b[0;34m\u001b[0m\u001b[0;34m\u001b[0m\u001b[0m\n\u001b[1;32m     23\u001b[0m \u001b[0;34m\u001b[0m\u001b[0m\n",
      "\u001b[0;32m/tmp/ipykernel_42163/1842697758.py\u001b[0m in \u001b[0;36mgetRelationship\u001b[0;34m(node)\u001b[0m\n\u001b[1;32m     13\u001b[0m             \u001b[0mrelationship_label\u001b[0m \u001b[0;34m=\u001b[0m \u001b[0mgetAttribValue_resource\u001b[0m\u001b[0;34m(\u001b[0m\u001b[0mrelationship_node\u001b[0m\u001b[0;34m)\u001b[0m\u001b[0;34m\u001b[0m\u001b[0;34m\u001b[0m\u001b[0m\n\u001b[1;32m     14\u001b[0m         \u001b[0;32melif\u001b[0m \u001b[0mrelationship_node\u001b[0m\u001b[0;34m.\u001b[0m\u001b[0mtag\u001b[0m \u001b[0;34m==\u001b[0m \u001b[0;34m\"{http://www.w3.org/2002/07/owl#}someValuesFrom\"\u001b[0m\u001b[0;34m:\u001b[0m\u001b[0;34m\u001b[0m\u001b[0;34m\u001b[0m\u001b[0m\n\u001b[0;32m---> 15\u001b[0;31m             \u001b[0mrefers_to\u001b[0m \u001b[0;34m=\u001b[0m \u001b[0mgetAttribValue_resource\u001b[0m\u001b[0;34m(\u001b[0m\u001b[0mrelationship_node\u001b[0m\u001b[0;34m)\u001b[0m\u001b[0;34m\u001b[0m\u001b[0;34m\u001b[0m\u001b[0m\n\u001b[0m\u001b[1;32m     16\u001b[0m         \u001b[0;32melse\u001b[0m\u001b[0;34m:\u001b[0m\u001b[0;34m\u001b[0m\u001b[0;34m\u001b[0m\u001b[0m\n\u001b[1;32m     17\u001b[0m             \u001b[0mlogger\u001b[0m\u001b[0;34m.\u001b[0m\u001b[0mtrace\u001b[0m\u001b[0;34m(\u001b[0m\u001b[0;34mf\"Tag:[{relationship_node.tag}], attr:[{relationship_node.attrib}], text:[{relationship_node.text}]\"\u001b[0m\u001b[0;34m)\u001b[0m\u001b[0;34m\u001b[0m\u001b[0;34m\u001b[0m\u001b[0m\n",
      "\u001b[0;32m/tmp/ipykernel_42163/1842697758.py\u001b[0m in \u001b[0;36mgetAttribValue_resource\u001b[0;34m(node)\u001b[0m\n\u001b[1;32m      4\u001b[0m     \u001b[0;32mexcept\u001b[0m \u001b[0mKeyError\u001b[0m\u001b[0;34m:\u001b[0m\u001b[0;34m\u001b[0m\u001b[0;34m\u001b[0m\u001b[0m\n\u001b[1;32m      5\u001b[0m         \u001b[0mlogger\u001b[0m\u001b[0;34m.\u001b[0m\u001b[0merror\u001b[0m\u001b[0;34m(\u001b[0m\u001b[0;34mf\"Tag:[{node.tag}], attr:[{node.attrib}], text:[{node.text}]\"\u001b[0m\u001b[0;34m)\u001b[0m\u001b[0;34m\u001b[0m\u001b[0;34m\u001b[0m\u001b[0m\n\u001b[0;32m----> 6\u001b[0;31m         \u001b[0;32mraise\u001b[0m \u001b[0mKeyError\u001b[0m\u001b[0;34m\u001b[0m\u001b[0;34m\u001b[0m\u001b[0m\n\u001b[0m\u001b[1;32m      7\u001b[0m \u001b[0;34m\u001b[0m\u001b[0m\n\u001b[1;32m      8\u001b[0m \u001b[0;32mdef\u001b[0m \u001b[0mgetRelationship\u001b[0m\u001b[0;34m(\u001b[0m\u001b[0mnode\u001b[0m\u001b[0;34m:\u001b[0m\u001b[0mET\u001b[0m\u001b[0;34m.\u001b[0m\u001b[0mElement\u001b[0m\u001b[0;34m)\u001b[0m\u001b[0;34m:\u001b[0m\u001b[0;34m\u001b[0m\u001b[0;34m\u001b[0m\u001b[0m\n",
      "\u001b[0;31mKeyError\u001b[0m: "
     ]
    }
   ],
   "source": [
    "classes = root.findall(\"{http://www.w3.org/2002/07/owl#}Class\")\n",
    "df_classes = pd.DataFrame(columns=['classID','preferredName','definition'])\n",
    "df_class_relationship = pd.DataFrame(columns=['classID_1','relationship','classID_2'])\n",
    "classList = []\n",
    "hierarchyList = []\n",
    "relationshipList = []\n",
    "temp = set()\n",
    "\n",
    "for class_node in classes:\n",
    "    classItem = []\n",
    "    classID = class_node.attrib['{http://www.w3.org/1999/02/22-rdf-syntax-ns#}about']\n",
    "    classItem.append(classItem)\n",
    "    for ele in class_node.iter():\n",
    "        if ele.tag == \"{http://radlex.org/RID/}Preferred_name\":\n",
    "            classItem.append(ele.text)\n",
    "        if ele.tag == \"{http://www.w3.org/2000/01/rdf-schema#}subClassOf\":\n",
    "            if ele.attrib:\n",
    "                borderClassID = getAttribValue_resource(ele)\n",
    "                hierarchyList.append([classID,borderClassID])\n",
    "            else:\n",
    "                (relationship_label,refers_to) = getRelationship(ele)\n",
    "                relationshipList.append([classID,relationship_label,refers_to])\n",
    "                \n",
    "    classList.append(classItem)\n",
    "    \n",
    "print(relationshipList)\n",
    "\n",
    "# Class hierarchy table\n",
    "# df_class_hierarchy = pd.DataFrame(hierarchyList, columns=['classID','subClassOf'])\n",
    "# print(df_class_hierarchy)\n",
    "\n",
    "# for i in hierarchyList:\n",
    "#     print(i)"
   ]
  }
 ],
 "metadata": {
  "interpreter": {
   "hash": "bbe186fad143582492f874971b555a6a67ca040c11267037e80d88fc47d0fa6d"
  },
  "kernelspec": {
   "display_name": "Python 3 (ipykernel)",
   "language": "python",
   "name": "python3"
  },
  "language_info": {
   "codemirror_mode": {
    "name": "ipython",
    "version": 3
   },
   "file_extension": ".py",
   "mimetype": "text/x-python",
   "name": "python",
   "nbconvert_exporter": "python",
   "pygments_lexer": "ipython3",
   "version": "3.9.7"
  },
  "orig_nbformat": 4
 },
 "nbformat": 4,
 "nbformat_minor": 2
}
